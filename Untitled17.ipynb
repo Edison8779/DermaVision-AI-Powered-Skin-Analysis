{
  "cells": [
    {
      "cell_type": "code",
      "execution_count": 1,
      "metadata": {
        "id": "Fr_HWWXhFaR0"
      },
      "outputs": [],
      "source": [
        "ROOT_DIR = 'E:\\Arul\\Edison\\images'"
      ]
    },
    {
      "cell_type": "code",
      "execution_count": 2,
      "metadata": {},
      "outputs": [
        {
          "name": "stdout",
          "output_type": "stream",
          "text": [
            "PyTorch version: 2.3.0+cu121\n",
            "CUDA available: True\n",
            "CUDA version: 12.1\n",
            "GPU device name: NVIDIA GeForce RTX 3060 Ti\n"
          ]
        }
      ],
      "source": [
        "import torch\n",
        "print(\"PyTorch version:\", torch.__version__)\n",
        "print(\"CUDA available:\", torch.cuda.is_available())\n",
        "print(\"CUDA version:\", torch.version.cuda)\n",
        "print(\"GPU device name:\", torch.cuda.get_device_name(0) if torch.cuda.is_available() else \"No GPU\")"
      ]
    },
    {
      "cell_type": "code",
      "execution_count": 3,
      "metadata": {
        "colab": {
          "base_uri": "https://localhost:8080/",
          "height": 1000
        },
        "id": "lia8aOaLGhet",
        "outputId": "9abd2791-bb2a-4c56-8331-e89573e96c7e"
      },
      "outputs": [
        {
          "name": "stdout",
          "output_type": "stream",
          "text": [
            "New https://pypi.org/project/ultralytics/8.2.27 available  Update with 'pip install -U ultralytics'\n",
            "Ultralytics YOLOv8.2.22  Python-3.11.4 torch-2.3.0+cu121 CUDA:0 (NVIDIA GeForce RTX 3060 Ti, 8192MiB)\n",
            "\u001b[34m\u001b[1mengine\\trainer: \u001b[0mtask=detect, mode=train, model=yolov8n.yaml, data=E:\\Arul\\Edison\\images\\data.yaml, epochs=200, time=None, patience=100, batch=16, imgsz=640, save=True, save_period=-1, cache=False, device=None, workers=8, project=None, name=train, exist_ok=False, pretrained=True, optimizer=auto, verbose=True, seed=0, deterministic=True, single_cls=False, rect=False, cos_lr=False, close_mosaic=10, resume=False, amp=True, fraction=1.0, profile=False, freeze=None, multi_scale=False, overlap_mask=True, mask_ratio=4, dropout=0.0, val=True, split=val, save_json=False, save_hybrid=False, conf=None, iou=0.7, max_det=300, half=False, dnn=False, plots=True, source=None, vid_stride=1, stream_buffer=False, visualize=False, augment=False, agnostic_nms=False, classes=None, retina_masks=False, embed=None, show=False, save_frames=False, save_txt=False, save_conf=False, save_crop=False, show_labels=True, show_conf=True, show_boxes=True, line_width=None, format=torchscript, keras=False, optimize=False, int8=False, dynamic=False, simplify=False, opset=None, workspace=4, nms=False, lr0=0.01, lrf=0.01, momentum=0.937, weight_decay=0.0005, warmup_epochs=3.0, warmup_momentum=0.8, warmup_bias_lr=0.1, box=7.5, cls=0.5, dfl=1.5, pose=12.0, kobj=1.0, label_smoothing=0.0, nbs=64, hsv_h=0.015, hsv_s=0.7, hsv_v=0.4, degrees=0.0, translate=0.1, scale=0.5, shear=0.0, perspective=0.0, flipud=0.0, fliplr=0.5, bgr=0.0, mosaic=1.0, mixup=0.0, copy_paste=0.0, auto_augment=randaugment, erasing=0.4, crop_fraction=1.0, cfg=None, tracker=botsort.yaml, save_dir=runs\\detect\\train\n",
            "Overriding model.yaml nc=80 with nc=9\n",
            "\n",
            "                   from  n    params  module                                       arguments                     \n",
            "  0                  -1  1       464  ultralytics.nn.modules.conv.Conv             [3, 16, 3, 2]                 \n",
            "  1                  -1  1      4672  ultralytics.nn.modules.conv.Conv             [16, 32, 3, 2]                \n",
            "  2                  -1  1      7360  ultralytics.nn.modules.block.C2f             [32, 32, 1, True]             \n",
            "  3                  -1  1     18560  ultralytics.nn.modules.conv.Conv             [32, 64, 3, 2]                \n",
            "  4                  -1  2     49664  ultralytics.nn.modules.block.C2f             [64, 64, 2, True]             \n",
            "  5                  -1  1     73984  ultralytics.nn.modules.conv.Conv             [64, 128, 3, 2]               \n",
            "  6                  -1  2    197632  ultralytics.nn.modules.block.C2f             [128, 128, 2, True]           \n",
            "  7                  -1  1    295424  ultralytics.nn.modules.conv.Conv             [128, 256, 3, 2]              \n",
            "  8                  -1  1    460288  ultralytics.nn.modules.block.C2f             [256, 256, 1, True]           \n",
            "  9                  -1  1    164608  ultralytics.nn.modules.block.SPPF            [256, 256, 5]                 \n",
            " 10                  -1  1         0  torch.nn.modules.upsampling.Upsample         [None, 2, 'nearest']          \n",
            " 11             [-1, 6]  1         0  ultralytics.nn.modules.conv.Concat           [1]                           \n",
            " 12                  -1  1    148224  ultralytics.nn.modules.block.C2f             [384, 128, 1]                 \n",
            " 13                  -1  1         0  torch.nn.modules.upsampling.Upsample         [None, 2, 'nearest']          \n",
            " 14             [-1, 4]  1         0  ultralytics.nn.modules.conv.Concat           [1]                           \n",
            " 15                  -1  1     37248  ultralytics.nn.modules.block.C2f             [192, 64, 1]                  \n",
            " 16                  -1  1     36992  ultralytics.nn.modules.conv.Conv             [64, 64, 3, 2]                \n",
            " 17            [-1, 12]  1         0  ultralytics.nn.modules.conv.Concat           [1]                           \n",
            " 18                  -1  1    123648  ultralytics.nn.modules.block.C2f             [192, 128, 1]                 \n",
            " 19                  -1  1    147712  ultralytics.nn.modules.conv.Conv             [128, 128, 3, 2]              \n",
            " 20             [-1, 9]  1         0  ultralytics.nn.modules.conv.Concat           [1]                           \n",
            " 21                  -1  1    493056  ultralytics.nn.modules.block.C2f             [384, 256, 1]                 \n",
            " 22        [15, 18, 21]  1    753067  ultralytics.nn.modules.head.Detect           [9, [64, 128, 256]]           \n",
            "YOLOv8n summary: 225 layers, 3012603 parameters, 3012587 gradients, 8.2 GFLOPs\n",
            "\n",
            "\u001b[34m\u001b[1mTensorBoard: \u001b[0mStart with 'tensorboard --logdir runs\\detect\\train', view at http://localhost:6006/\n",
            "Freezing layer 'model.22.dfl.conv.weight'\n",
            "\u001b[34m\u001b[1mAMP: \u001b[0mrunning Automatic Mixed Precision (AMP) checks with YOLOv8n...\n",
            "\u001b[34m\u001b[1mAMP: \u001b[0mchecks passed \n"
          ]
        },
        {
          "name": "stderr",
          "output_type": "stream",
          "text": [
            "\u001b[34m\u001b[1mtrain: \u001b[0mScanning E:\\Arul\\Edison\\images\\train\\labels.cache... 2047 images, 0 backgrounds, 0 corrupt: 100%|██████████| 2047/2047 [00:00<?, ?it/s]\n",
            "\u001b[34m\u001b[1mval: \u001b[0mScanning E:\\Arul\\Edison\\images\\valid\\labels.cache... 591 images, 0 backgrounds, 0 corrupt: 100%|██████████| 591/591 [00:00<?, ?it/s]\n"
          ]
        },
        {
          "name": "stdout",
          "output_type": "stream",
          "text": [
            "Plotting labels to runs\\detect\\train\\labels.jpg... \n",
            "\u001b[34m\u001b[1moptimizer:\u001b[0m 'optimizer=auto' found, ignoring 'lr0=0.01' and 'momentum=0.937' and determining best 'optimizer', 'lr0' and 'momentum' automatically... \n",
            "\u001b[34m\u001b[1moptimizer:\u001b[0m AdamW(lr=0.000769, momentum=0.9) with parameter groups 57 weight(decay=0.0), 64 weight(decay=0.0005), 63 bias(decay=0.0)\n",
            "\u001b[34m\u001b[1mTensorBoard: \u001b[0mmodel graph visualization added \n",
            "Image sizes 640 train, 640 val\n",
            "Using 8 dataloader workers\n",
            "Logging results to \u001b[1mruns\\detect\\train\u001b[0m\n",
            "Starting training for 200 epochs...\n",
            "\n",
            "      Epoch    GPU_mem   box_loss   cls_loss   dfl_loss  Instances       Size\n"
          ]
        },
        {
          "name": "stderr",
          "output_type": "stream",
          "text": [
            "      1/200      2.94G      4.089      5.068       4.06        161        640: 100%|██████████| 128/128 [00:14<00:00,  8.58it/s]\n",
            "                 Class     Images  Instances      Box(P          R      mAP50  mAP50-95): 100%|██████████| 19/19 [00:04<00:00,  3.83it/s]"
          ]
        },
        {
          "name": "stdout",
          "output_type": "stream",
          "text": [
            "                   all        591       4014   0.000271     0.0478    0.00021   6.36e-05\n"
          ]
        },
        {
          "name": "stderr",
          "output_type": "stream",
          "text": [
            "\n"
          ]
        },
        {
          "name": "stdout",
          "output_type": "stream",
          "text": [
            "\n",
            "      Epoch    GPU_mem   box_loss   cls_loss   dfl_loss  Instances       Size\n"
          ]
        },
        {
          "name": "stderr",
          "output_type": "stream",
          "text": [
            "      2/200      2.81G      3.885      4.448      3.562        202        640: 100%|██████████| 128/128 [00:12<00:00, 10.09it/s]\n",
            "                 Class     Images  Instances      Box(P          R      mAP50  mAP50-95): 100%|██████████| 19/19 [00:02<00:00,  6.70it/s]"
          ]
        },
        {
          "name": "stdout",
          "output_type": "stream",
          "text": [
            "                   all        591       4014   0.000761     0.0638    0.00069   0.000188\n"
          ]
        },
        {
          "name": "stderr",
          "output_type": "stream",
          "text": [
            "\n"
          ]
        },
        {
          "name": "stdout",
          "output_type": "stream",
          "text": [
            "\n",
            "      Epoch    GPU_mem   box_loss   cls_loss   dfl_loss  Instances       Size\n"
          ]
        },
        {
          "name": "stderr",
          "output_type": "stream",
          "text": [
            "      3/200      2.62G      3.505      4.316      3.211         92        640: 100%|██████████| 128/128 [00:12<00:00, 10.13it/s]\n",
            "                 Class     Images  Instances      Box(P          R      mAP50  mAP50-95): 100%|██████████| 19/19 [00:02<00:00,  7.14it/s]"
          ]
        },
        {
          "name": "stdout",
          "output_type": "stream",
          "text": [
            "                   all        591       4014    0.00372      0.102    0.00503    0.00127\n"
          ]
        },
        {
          "name": "stderr",
          "output_type": "stream",
          "text": [
            "\n"
          ]
        },
        {
          "name": "stdout",
          "output_type": "stream",
          "text": [
            "\n",
            "      Epoch    GPU_mem   box_loss   cls_loss   dfl_loss  Instances       Size\n"
          ]
        },
        {
          "name": "stderr",
          "output_type": "stream",
          "text": [
            "      4/200      2.64G       3.22      4.015      2.911        167        640: 100%|██████████| 128/128 [00:12<00:00, 10.41it/s]\n",
            "                 Class     Images  Instances      Box(P          R      mAP50  mAP50-95): 100%|██████████| 19/19 [00:02<00:00,  6.78it/s]"
          ]
        },
        {
          "name": "stdout",
          "output_type": "stream",
          "text": [
            "                   all        591       4014      0.569     0.0243     0.0132     0.0026\n"
          ]
        },
        {
          "name": "stderr",
          "output_type": "stream",
          "text": [
            "\n"
          ]
        },
        {
          "name": "stdout",
          "output_type": "stream",
          "text": [
            "\n",
            "      Epoch    GPU_mem   box_loss   cls_loss   dfl_loss  Instances       Size\n"
          ]
        },
        {
          "name": "stderr",
          "output_type": "stream",
          "text": [
            "      5/200       2.9G      3.099      3.745      2.701        141        640: 100%|██████████| 128/128 [00:12<00:00, 10.16it/s]\n",
            "                 Class     Images  Instances      Box(P          R      mAP50  mAP50-95): 100%|██████████| 19/19 [00:02<00:00,  6.46it/s]"
          ]
        },
        {
          "name": "stdout",
          "output_type": "stream",
          "text": [
            "                   all        591       4014      0.574     0.0269     0.0104    0.00285\n"
          ]
        },
        {
          "name": "stderr",
          "output_type": "stream",
          "text": [
            "\n"
          ]
        },
        {
          "name": "stdout",
          "output_type": "stream",
          "text": [
            "\n",
            "      Epoch    GPU_mem   box_loss   cls_loss   dfl_loss  Instances       Size\n"
          ]
        },
        {
          "name": "stderr",
          "output_type": "stream",
          "text": [
            "      6/200      2.47G      3.049      3.584       2.55        184        640: 100%|██████████| 128/128 [00:12<00:00, 10.40it/s]\n",
            "                 Class     Images  Instances      Box(P          R      mAP50  mAP50-95): 100%|██████████| 19/19 [00:02<00:00,  7.09it/s]"
          ]
        },
        {
          "name": "stdout",
          "output_type": "stream",
          "text": [
            "                   all        591       4014    0.00768      0.122     0.0135    0.00403\n"
          ]
        },
        {
          "name": "stderr",
          "output_type": "stream",
          "text": [
            "\n"
          ]
        },
        {
          "name": "stdout",
          "output_type": "stream",
          "text": [
            "\n",
            "      Epoch    GPU_mem   box_loss   cls_loss   dfl_loss  Instances       Size\n"
          ]
        },
        {
          "name": "stderr",
          "output_type": "stream",
          "text": [
            "      7/200       2.6G      2.966      3.491      2.459        157        640: 100%|██████████| 128/128 [00:12<00:00, 10.34it/s]\n",
            "                 Class     Images  Instances      Box(P          R      mAP50  mAP50-95): 100%|██████████| 19/19 [00:02<00:00,  7.04it/s]"
          ]
        },
        {
          "name": "stdout",
          "output_type": "stream",
          "text": [
            "                   all        591       4014      0.146      0.112     0.0213    0.00625\n"
          ]
        },
        {
          "name": "stderr",
          "output_type": "stream",
          "text": [
            "\n"
          ]
        },
        {
          "name": "stdout",
          "output_type": "stream",
          "text": [
            "\n",
            "      Epoch    GPU_mem   box_loss   cls_loss   dfl_loss  Instances       Size\n"
          ]
        },
        {
          "name": "stderr",
          "output_type": "stream",
          "text": [
            "      8/200      2.78G      2.945      3.371      2.373        142        640: 100%|██████████| 128/128 [00:17<00:00,  7.49it/s]\n",
            "                 Class     Images  Instances      Box(P          R      mAP50  mAP50-95): 100%|██████████| 19/19 [00:07<00:00,  2.67it/s]\n"
          ]
        },
        {
          "name": "stdout",
          "output_type": "stream",
          "text": [
            "                   all        591       4014      0.698     0.0461     0.0262    0.00758\n",
            "\n",
            "      Epoch    GPU_mem   box_loss   cls_loss   dfl_loss  Instances       Size\n"
          ]
        },
        {
          "name": "stderr",
          "output_type": "stream",
          "text": [
            "      9/200      2.81G      2.889      3.315      2.355        163        640: 100%|██████████| 128/128 [00:33<00:00,  3.79it/s]\n",
            "                 Class     Images  Instances      Box(P          R      mAP50  mAP50-95): 100%|██████████| 19/19 [00:06<00:00,  2.73it/s]\n"
          ]
        },
        {
          "name": "stdout",
          "output_type": "stream",
          "text": [
            "                   all        591       4014      0.488     0.0818     0.0284    0.00851\n",
            "\n",
            "      Epoch    GPU_mem   box_loss   cls_loss   dfl_loss  Instances       Size\n"
          ]
        },
        {
          "name": "stderr",
          "output_type": "stream",
          "text": [
            "     10/200      2.81G      2.881       3.23      2.283        127        640: 100%|██████████| 128/128 [00:34<00:00,  3.72it/s]\n",
            "                 Class     Images  Instances      Box(P          R      mAP50  mAP50-95): 100%|██████████| 19/19 [00:03<00:00,  4.81it/s]"
          ]
        },
        {
          "name": "stdout",
          "output_type": "stream",
          "text": [
            "                   all        591       4014      0.613     0.0551     0.0364     0.0101\n"
          ]
        },
        {
          "name": "stderr",
          "output_type": "stream",
          "text": [
            "\n"
          ]
        },
        {
          "name": "stdout",
          "output_type": "stream",
          "text": [
            "\n",
            "      Epoch    GPU_mem   box_loss   cls_loss   dfl_loss  Instances       Size\n"
          ]
        },
        {
          "name": "stderr",
          "output_type": "stream",
          "text": [
            "     11/200      3.06G      2.841      3.193      2.238        170        640: 100%|██████████| 128/128 [00:16<00:00,  7.60it/s]\n",
            "                 Class     Images  Instances      Box(P          R      mAP50  mAP50-95): 100%|██████████| 19/19 [00:07<00:00,  2.65it/s]"
          ]
        },
        {
          "name": "stdout",
          "output_type": "stream",
          "text": [
            "                   all        591       4014      0.319     0.0559     0.0234    0.00705\n"
          ]
        },
        {
          "name": "stderr",
          "output_type": "stream",
          "text": [
            "\n"
          ]
        },
        {
          "name": "stdout",
          "output_type": "stream",
          "text": [
            "\n",
            "      Epoch    GPU_mem   box_loss   cls_loss   dfl_loss  Instances       Size\n"
          ]
        },
        {
          "name": "stderr",
          "output_type": "stream",
          "text": [
            "     12/200      3.09G      2.789      3.135      2.237        137        640: 100%|██████████| 128/128 [00:21<00:00,  5.99it/s]\n",
            "                 Class     Images  Instances      Box(P          R      mAP50  mAP50-95): 100%|██████████| 19/19 [00:06<00:00,  3.07it/s]"
          ]
        },
        {
          "name": "stdout",
          "output_type": "stream",
          "text": [
            "                   all        591       4014      0.499     0.0798     0.0364     0.0123\n"
          ]
        },
        {
          "name": "stderr",
          "output_type": "stream",
          "text": [
            "\n"
          ]
        },
        {
          "name": "stdout",
          "output_type": "stream",
          "text": [
            "\n",
            "      Epoch    GPU_mem   box_loss   cls_loss   dfl_loss  Instances       Size\n"
          ]
        },
        {
          "name": "stderr",
          "output_type": "stream",
          "text": [
            "     13/200      2.56G      2.789      3.118      2.206        218        640: 100%|██████████| 128/128 [00:30<00:00,  4.23it/s]\n",
            "                 Class     Images  Instances      Box(P          R      mAP50  mAP50-95): 100%|██████████| 19/19 [00:07<00:00,  2.71it/s]\n"
          ]
        },
        {
          "name": "stdout",
          "output_type": "stream",
          "text": [
            "                   all        591       4014      0.733     0.0777     0.0496     0.0159\n",
            "\n",
            "      Epoch    GPU_mem   box_loss   cls_loss   dfl_loss  Instances       Size\n"
          ]
        },
        {
          "name": "stderr",
          "output_type": "stream",
          "text": [
            "     14/200      2.67G      2.787      3.146       2.18        128        640: 100%|██████████| 128/128 [00:30<00:00,  4.13it/s]\n",
            "                 Class     Images  Instances      Box(P          R      mAP50  mAP50-95): 100%|██████████| 19/19 [00:07<00:00,  2.71it/s]"
          ]
        },
        {
          "name": "stdout",
          "output_type": "stream",
          "text": [
            "                   all        591       4014      0.406     0.0842     0.0518     0.0169\n"
          ]
        },
        {
          "name": "stderr",
          "output_type": "stream",
          "text": [
            "\n"
          ]
        },
        {
          "name": "stdout",
          "output_type": "stream",
          "text": [
            "\n",
            "      Epoch    GPU_mem   box_loss   cls_loss   dfl_loss  Instances       Size\n"
          ]
        },
        {
          "name": "stderr",
          "output_type": "stream",
          "text": [
            "     15/200      2.62G      2.769      3.086      2.166        118        640: 100%|██████████| 128/128 [00:12<00:00, 10.28it/s]\n",
            "                 Class     Images  Instances      Box(P          R      mAP50  mAP50-95): 100%|██████████| 19/19 [00:02<00:00,  6.43it/s]"
          ]
        },
        {
          "name": "stdout",
          "output_type": "stream",
          "text": [
            "                   all        591       4014      0.516      0.102     0.0833     0.0274\n"
          ]
        },
        {
          "name": "stderr",
          "output_type": "stream",
          "text": [
            "\n"
          ]
        },
        {
          "name": "stdout",
          "output_type": "stream",
          "text": [
            "\n",
            "      Epoch    GPU_mem   box_loss   cls_loss   dfl_loss  Instances       Size\n"
          ]
        },
        {
          "name": "stderr",
          "output_type": "stream",
          "text": [
            "     16/200      2.55G      2.748      3.051      2.137        151        640: 100%|██████████| 128/128 [00:13<00:00,  9.52it/s]\n",
            "                 Class     Images  Instances      Box(P          R      mAP50  mAP50-95): 100%|██████████| 19/19 [00:03<00:00,  6.19it/s]"
          ]
        },
        {
          "name": "stdout",
          "output_type": "stream",
          "text": [
            "                   all        591       4014      0.424     0.0806     0.0645     0.0221\n"
          ]
        },
        {
          "name": "stderr",
          "output_type": "stream",
          "text": [
            "\n"
          ]
        },
        {
          "name": "stdout",
          "output_type": "stream",
          "text": [
            "\n",
            "      Epoch    GPU_mem   box_loss   cls_loss   dfl_loss  Instances       Size\n"
          ]
        },
        {
          "name": "stderr",
          "output_type": "stream",
          "text": [
            "     17/200      2.44G      2.731      3.019      2.129        191        640: 100%|██████████| 128/128 [00:13<00:00,  9.29it/s]\n",
            "                 Class     Images  Instances      Box(P          R      mAP50  mAP50-95): 100%|██████████| 19/19 [00:03<00:00,  5.88it/s]"
          ]
        },
        {
          "name": "stdout",
          "output_type": "stream",
          "text": [
            "                   all        591       4014      0.322     0.0706     0.0579     0.0186\n"
          ]
        },
        {
          "name": "stderr",
          "output_type": "stream",
          "text": [
            "\n"
          ]
        },
        {
          "name": "stdout",
          "output_type": "stream",
          "text": [
            "\n",
            "      Epoch    GPU_mem   box_loss   cls_loss   dfl_loss  Instances       Size\n"
          ]
        },
        {
          "name": "stderr",
          "output_type": "stream",
          "text": [
            "     18/200      2.69G       2.71      2.983      2.102        208        640: 100%|██████████| 128/128 [00:13<00:00,  9.53it/s]\n",
            "                 Class     Images  Instances      Box(P          R      mAP50  mAP50-95): 100%|██████████| 19/19 [00:02<00:00,  6.61it/s]"
          ]
        },
        {
          "name": "stdout",
          "output_type": "stream",
          "text": [
            "                   all        591       4014      0.445     0.0924     0.0645     0.0238\n"
          ]
        },
        {
          "name": "stderr",
          "output_type": "stream",
          "text": [
            "\n"
          ]
        },
        {
          "name": "stdout",
          "output_type": "stream",
          "text": [
            "\n",
            "      Epoch    GPU_mem   box_loss   cls_loss   dfl_loss  Instances       Size\n"
          ]
        },
        {
          "name": "stderr",
          "output_type": "stream",
          "text": [
            "     19/200      2.62G      2.698      2.952      2.097        107        640: 100%|██████████| 128/128 [00:13<00:00,  9.81it/s]\n",
            "                 Class     Images  Instances      Box(P          R      mAP50  mAP50-95): 100%|██████████| 19/19 [00:02<00:00,  6.52it/s]"
          ]
        },
        {
          "name": "stdout",
          "output_type": "stream",
          "text": [
            "                   all        591       4014      0.329      0.113     0.0764     0.0248\n"
          ]
        },
        {
          "name": "stderr",
          "output_type": "stream",
          "text": [
            "\n"
          ]
        },
        {
          "name": "stdout",
          "output_type": "stream",
          "text": [
            "\n",
            "      Epoch    GPU_mem   box_loss   cls_loss   dfl_loss  Instances       Size\n"
          ]
        },
        {
          "name": "stderr",
          "output_type": "stream",
          "text": [
            "     20/200      2.84G      2.682      2.949      2.088        123        640: 100%|██████████| 128/128 [00:13<00:00,  9.61it/s]\n",
            "                 Class     Images  Instances      Box(P          R      mAP50  mAP50-95): 100%|██████████| 19/19 [00:02<00:00,  6.60it/s]"
          ]
        },
        {
          "name": "stdout",
          "output_type": "stream",
          "text": [
            "                   all        591       4014      0.354     0.0943      0.089      0.032\n"
          ]
        },
        {
          "name": "stderr",
          "output_type": "stream",
          "text": [
            "\n"
          ]
        },
        {
          "name": "stdout",
          "output_type": "stream",
          "text": [
            "\n",
            "      Epoch    GPU_mem   box_loss   cls_loss   dfl_loss  Instances       Size\n"
          ]
        },
        {
          "name": "stderr",
          "output_type": "stream",
          "text": [
            "     21/200      2.64G       2.69      2.929      2.102        149        640: 100%|██████████| 128/128 [00:13<00:00,  9.84it/s]\n",
            "                 Class     Images  Instances      Box(P          R      mAP50  mAP50-95): 100%|██████████| 19/19 [00:02<00:00,  6.82it/s]"
          ]
        },
        {
          "name": "stdout",
          "output_type": "stream",
          "text": [
            "                   all        591       4014      0.357       0.11     0.0842     0.0292\n"
          ]
        },
        {
          "name": "stderr",
          "output_type": "stream",
          "text": [
            "\n"
          ]
        },
        {
          "name": "stdout",
          "output_type": "stream",
          "text": [
            "\n",
            "      Epoch    GPU_mem   box_loss   cls_loss   dfl_loss  Instances       Size\n"
          ]
        },
        {
          "name": "stderr",
          "output_type": "stream",
          "text": [
            "     22/200      2.69G      2.672      2.911      2.087        110        640: 100%|██████████| 128/128 [00:13<00:00,  9.65it/s]\n",
            "                 Class     Images  Instances      Box(P          R      mAP50  mAP50-95): 100%|██████████| 19/19 [00:03<00:00,  6.18it/s]\n"
          ]
        },
        {
          "name": "stdout",
          "output_type": "stream",
          "text": [
            "                   all        591       4014       0.33      0.138     0.0883     0.0329\n",
            "\n",
            "      Epoch    GPU_mem   box_loss   cls_loss   dfl_loss  Instances       Size\n"
          ]
        },
        {
          "name": "stderr",
          "output_type": "stream",
          "text": [
            "     23/200      2.71G      2.663      2.908      2.055        131        640: 100%|██████████| 128/128 [00:12<00:00, 10.00it/s]\n",
            "                 Class     Images  Instances      Box(P          R      mAP50  mAP50-95): 100%|██████████| 19/19 [00:02<00:00,  6.80it/s]\n"
          ]
        },
        {
          "name": "stdout",
          "output_type": "stream",
          "text": [
            "                   all        591       4014      0.338      0.134       0.09     0.0342\n",
            "\n",
            "      Epoch    GPU_mem   box_loss   cls_loss   dfl_loss  Instances       Size\n"
          ]
        },
        {
          "name": "stderr",
          "output_type": "stream",
          "text": [
            "     24/200      2.55G      2.662       2.88      2.059        139        640: 100%|██████████| 128/128 [00:13<00:00,  9.80it/s]\n",
            "                 Class     Images  Instances      Box(P          R      mAP50  mAP50-95): 100%|██████████| 19/19 [00:03<00:00,  6.26it/s]"
          ]
        },
        {
          "name": "stdout",
          "output_type": "stream",
          "text": [
            "                   all        591       4014      0.352      0.116     0.0801     0.0281\n"
          ]
        },
        {
          "name": "stderr",
          "output_type": "stream",
          "text": [
            "\n"
          ]
        },
        {
          "name": "stdout",
          "output_type": "stream",
          "text": [
            "\n",
            "      Epoch    GPU_mem   box_loss   cls_loss   dfl_loss  Instances       Size\n"
          ]
        },
        {
          "name": "stderr",
          "output_type": "stream",
          "text": [
            "     25/200      2.84G       2.64      2.886      2.054         94        640: 100%|██████████| 128/128 [00:13<00:00,  9.77it/s]\n",
            "                 Class     Images  Instances      Box(P          R      mAP50  mAP50-95): 100%|██████████| 19/19 [00:02<00:00,  7.24it/s]"
          ]
        },
        {
          "name": "stdout",
          "output_type": "stream",
          "text": [
            "                   all        591       4014      0.342      0.103     0.0786       0.03\n"
          ]
        },
        {
          "name": "stderr",
          "output_type": "stream",
          "text": [
            "\n"
          ]
        },
        {
          "name": "stdout",
          "output_type": "stream",
          "text": [
            "\n",
            "      Epoch    GPU_mem   box_loss   cls_loss   dfl_loss  Instances       Size\n"
          ]
        },
        {
          "name": "stderr",
          "output_type": "stream",
          "text": [
            "     26/200       2.4G      2.637       2.84      2.052        159        640: 100%|██████████| 128/128 [00:12<00:00, 10.04it/s]\n",
            "                 Class     Images  Instances      Box(P          R      mAP50  mAP50-95): 100%|██████████| 19/19 [00:02<00:00,  6.71it/s]"
          ]
        },
        {
          "name": "stdout",
          "output_type": "stream",
          "text": [
            "                   all        591       4014      0.339      0.149       0.09      0.036\n"
          ]
        },
        {
          "name": "stderr",
          "output_type": "stream",
          "text": [
            "\n"
          ]
        },
        {
          "name": "stdout",
          "output_type": "stream",
          "text": [
            "\n",
            "      Epoch    GPU_mem   box_loss   cls_loss   dfl_loss  Instances       Size\n"
          ]
        },
        {
          "name": "stderr",
          "output_type": "stream",
          "text": [
            "     27/200      2.45G      2.611      2.802      2.003         80        640: 100%|██████████| 128/128 [00:12<00:00, 10.02it/s]\n",
            "                 Class     Images  Instances      Box(P          R      mAP50  mAP50-95): 100%|██████████| 19/19 [00:02<00:00,  7.08it/s]"
          ]
        },
        {
          "name": "stdout",
          "output_type": "stream",
          "text": [
            "                   all        591       4014      0.325      0.159      0.103     0.0394\n"
          ]
        },
        {
          "name": "stderr",
          "output_type": "stream",
          "text": [
            "\n"
          ]
        },
        {
          "name": "stdout",
          "output_type": "stream",
          "text": [
            "\n",
            "      Epoch    GPU_mem   box_loss   cls_loss   dfl_loss  Instances       Size\n"
          ]
        },
        {
          "name": "stderr",
          "output_type": "stream",
          "text": [
            "     28/200      2.46G      2.607      2.809      2.031        179        640: 100%|██████████| 128/128 [00:13<00:00,  9.77it/s]\n",
            "                 Class     Images  Instances      Box(P          R      mAP50  mAP50-95): 100%|██████████| 19/19 [00:02<00:00,  6.96it/s]"
          ]
        },
        {
          "name": "stdout",
          "output_type": "stream",
          "text": [
            "                   all        591       4014      0.376      0.131      0.113     0.0403\n"
          ]
        },
        {
          "name": "stderr",
          "output_type": "stream",
          "text": [
            "\n"
          ]
        },
        {
          "name": "stdout",
          "output_type": "stream",
          "text": [
            "\n",
            "      Epoch    GPU_mem   box_loss   cls_loss   dfl_loss  Instances       Size\n"
          ]
        },
        {
          "name": "stderr",
          "output_type": "stream",
          "text": [
            "     29/200      2.63G      2.623      2.804      2.013        141        640: 100%|██████████| 128/128 [00:12<00:00, 10.16it/s]\n",
            "                 Class     Images  Instances      Box(P          R      mAP50  mAP50-95): 100%|██████████| 19/19 [00:02<00:00,  7.15it/s]"
          ]
        },
        {
          "name": "stdout",
          "output_type": "stream",
          "text": [
            "                   all        591       4014      0.333      0.167     0.0997     0.0395\n"
          ]
        },
        {
          "name": "stderr",
          "output_type": "stream",
          "text": [
            "\n"
          ]
        },
        {
          "name": "stdout",
          "output_type": "stream",
          "text": [
            "\n",
            "      Epoch    GPU_mem   box_loss   cls_loss   dfl_loss  Instances       Size\n"
          ]
        },
        {
          "name": "stderr",
          "output_type": "stream",
          "text": [
            "     30/200      2.66G      2.587      2.765      1.998        218        640: 100%|██████████| 128/128 [00:14<00:00,  8.63it/s]\n",
            "                 Class     Images  Instances      Box(P          R      mAP50  mAP50-95): 100%|██████████| 19/19 [00:06<00:00,  2.81it/s]\n"
          ]
        },
        {
          "name": "stdout",
          "output_type": "stream",
          "text": [
            "                   all        591       4014      0.241      0.181     0.0934     0.0354\n",
            "\n",
            "      Epoch    GPU_mem   box_loss   cls_loss   dfl_loss  Instances       Size\n"
          ]
        },
        {
          "name": "stderr",
          "output_type": "stream",
          "text": [
            "     31/200      2.61G      2.588      2.787       2.01        134        640: 100%|██████████| 128/128 [00:33<00:00,  3.83it/s]\n",
            "                 Class     Images  Instances      Box(P          R      mAP50  mAP50-95): 100%|██████████| 19/19 [00:06<00:00,  2.74it/s]"
          ]
        },
        {
          "name": "stdout",
          "output_type": "stream",
          "text": [
            "                   all        591       4014      0.384      0.136     0.0944     0.0388\n"
          ]
        },
        {
          "name": "stderr",
          "output_type": "stream",
          "text": [
            "\n"
          ]
        },
        {
          "name": "stdout",
          "output_type": "stream",
          "text": [
            "\n",
            "      Epoch    GPU_mem   box_loss   cls_loss   dfl_loss  Instances       Size\n"
          ]
        },
        {
          "name": "stderr",
          "output_type": "stream",
          "text": [
            "     32/200      2.77G      2.603      2.794      2.008        100        640: 100%|██████████| 128/128 [00:33<00:00,  3.87it/s]\n",
            "                 Class     Images  Instances      Box(P          R      mAP50  mAP50-95): 100%|██████████| 19/19 [00:06<00:00,  2.81it/s]"
          ]
        },
        {
          "name": "stdout",
          "output_type": "stream",
          "text": [
            "                   all        591       4014       0.37      0.172      0.105     0.0406\n"
          ]
        },
        {
          "name": "stderr",
          "output_type": "stream",
          "text": [
            "\n"
          ]
        },
        {
          "name": "stdout",
          "output_type": "stream",
          "text": [
            "\n",
            "      Epoch    GPU_mem   box_loss   cls_loss   dfl_loss  Instances       Size\n"
          ]
        },
        {
          "name": "stderr",
          "output_type": "stream",
          "text": [
            "     33/200      2.37G      2.574      2.754      1.982        123        640: 100%|██████████| 128/128 [00:30<00:00,  4.15it/s]\n",
            "                 Class     Images  Instances      Box(P          R      mAP50  mAP50-95): 100%|██████████| 19/19 [00:02<00:00,  7.49it/s]"
          ]
        },
        {
          "name": "stdout",
          "output_type": "stream",
          "text": [
            "                   all        591       4014      0.355      0.157       0.11      0.042\n"
          ]
        },
        {
          "name": "stderr",
          "output_type": "stream",
          "text": [
            "\n"
          ]
        },
        {
          "name": "stdout",
          "output_type": "stream",
          "text": [
            "\n",
            "      Epoch    GPU_mem   box_loss   cls_loss   dfl_loss  Instances       Size\n"
          ]
        },
        {
          "name": "stderr",
          "output_type": "stream",
          "text": [
            "     34/200      2.62G      2.596      2.758      1.974        151        640: 100%|██████████| 128/128 [00:12<00:00, 10.58it/s]\n",
            "                 Class     Images  Instances      Box(P          R      mAP50  mAP50-95): 100%|██████████| 19/19 [00:02<00:00,  7.29it/s]"
          ]
        },
        {
          "name": "stdout",
          "output_type": "stream",
          "text": [
            "                   all        591       4014      0.341      0.145      0.109     0.0405\n"
          ]
        },
        {
          "name": "stderr",
          "output_type": "stream",
          "text": [
            "\n"
          ]
        },
        {
          "name": "stdout",
          "output_type": "stream",
          "text": [
            "\n",
            "      Epoch    GPU_mem   box_loss   cls_loss   dfl_loss  Instances       Size\n"
          ]
        },
        {
          "name": "stderr",
          "output_type": "stream",
          "text": [
            "     35/200      2.54G      2.572      2.746      1.979         78        640: 100%|██████████| 128/128 [00:12<00:00, 10.58it/s]\n",
            "                 Class     Images  Instances      Box(P          R      mAP50  mAP50-95): 100%|██████████| 19/19 [00:02<00:00,  7.41it/s]"
          ]
        },
        {
          "name": "stdout",
          "output_type": "stream",
          "text": [
            "                   all        591       4014      0.359      0.165      0.126     0.0468\n"
          ]
        },
        {
          "name": "stderr",
          "output_type": "stream",
          "text": [
            "\n"
          ]
        },
        {
          "name": "stdout",
          "output_type": "stream",
          "text": [
            "\n",
            "      Epoch    GPU_mem   box_loss   cls_loss   dfl_loss  Instances       Size\n"
          ]
        },
        {
          "name": "stderr",
          "output_type": "stream",
          "text": [
            "     36/200      2.53G      2.557      2.752       1.98        104        640: 100%|██████████| 128/128 [00:12<00:00, 10.56it/s]\n",
            "                 Class     Images  Instances      Box(P          R      mAP50  mAP50-95): 100%|██████████| 19/19 [00:02<00:00,  7.36it/s]"
          ]
        },
        {
          "name": "stdout",
          "output_type": "stream",
          "text": [
            "                   all        591       4014      0.487      0.139      0.108     0.0406\n"
          ]
        },
        {
          "name": "stderr",
          "output_type": "stream",
          "text": [
            "\n"
          ]
        },
        {
          "name": "stdout",
          "output_type": "stream",
          "text": [
            "\n",
            "      Epoch    GPU_mem   box_loss   cls_loss   dfl_loss  Instances       Size\n"
          ]
        },
        {
          "name": "stderr",
          "output_type": "stream",
          "text": [
            "     37/200      2.82G      2.576      2.763      1.961        133        640: 100%|██████████| 128/128 [00:12<00:00, 10.61it/s]\n",
            "                 Class     Images  Instances      Box(P          R      mAP50  mAP50-95): 100%|██████████| 19/19 [00:02<00:00,  7.58it/s]"
          ]
        },
        {
          "name": "stdout",
          "output_type": "stream",
          "text": [
            "                   all        591       4014      0.335      0.129      0.126     0.0459\n"
          ]
        },
        {
          "name": "stderr",
          "output_type": "stream",
          "text": [
            "\n"
          ]
        },
        {
          "name": "stdout",
          "output_type": "stream",
          "text": [
            "\n",
            "      Epoch    GPU_mem   box_loss   cls_loss   dfl_loss  Instances       Size\n"
          ]
        },
        {
          "name": "stderr",
          "output_type": "stream",
          "text": [
            "     38/200      2.89G      2.543      2.678      1.939        104        640: 100%|██████████| 128/128 [00:12<00:00, 10.57it/s]\n",
            "                 Class     Images  Instances      Box(P          R      mAP50  mAP50-95): 100%|██████████| 19/19 [00:02<00:00,  7.58it/s]"
          ]
        },
        {
          "name": "stdout",
          "output_type": "stream",
          "text": [
            "                   all        591       4014      0.386      0.164      0.127     0.0444\n"
          ]
        },
        {
          "name": "stderr",
          "output_type": "stream",
          "text": [
            "\n"
          ]
        },
        {
          "name": "stdout",
          "output_type": "stream",
          "text": [
            "\n",
            "      Epoch    GPU_mem   box_loss   cls_loss   dfl_loss  Instances       Size\n"
          ]
        },
        {
          "name": "stderr",
          "output_type": "stream",
          "text": [
            "     39/200      2.62G      2.553       2.68      1.962        259        640: 100%|██████████| 128/128 [00:12<00:00, 10.62it/s]\n",
            "                 Class     Images  Instances      Box(P          R      mAP50  mAP50-95): 100%|██████████| 19/19 [00:02<00:00,  7.56it/s]"
          ]
        },
        {
          "name": "stdout",
          "output_type": "stream",
          "text": [
            "                   all        591       4014      0.335      0.162      0.146     0.0602\n"
          ]
        },
        {
          "name": "stderr",
          "output_type": "stream",
          "text": [
            "\n"
          ]
        },
        {
          "name": "stdout",
          "output_type": "stream",
          "text": [
            "\n",
            "      Epoch    GPU_mem   box_loss   cls_loss   dfl_loss  Instances       Size\n"
          ]
        },
        {
          "name": "stderr",
          "output_type": "stream",
          "text": [
            "     40/200      2.72G      2.544      2.707      1.962        212        640: 100%|██████████| 128/128 [00:12<00:00, 10.60it/s]\n",
            "                 Class     Images  Instances      Box(P          R      mAP50  mAP50-95): 100%|██████████| 19/19 [00:02<00:00,  7.29it/s]"
          ]
        },
        {
          "name": "stdout",
          "output_type": "stream",
          "text": [
            "                   all        591       4014      0.332      0.189      0.137     0.0464\n"
          ]
        },
        {
          "name": "stderr",
          "output_type": "stream",
          "text": [
            "\n"
          ]
        },
        {
          "name": "stdout",
          "output_type": "stream",
          "text": [
            "\n",
            "      Epoch    GPU_mem   box_loss   cls_loss   dfl_loss  Instances       Size\n"
          ]
        },
        {
          "name": "stderr",
          "output_type": "stream",
          "text": [
            "     41/200      2.57G      2.543      2.676      1.949        114        640: 100%|██████████| 128/128 [00:12<00:00, 10.55it/s]\n",
            "                 Class     Images  Instances      Box(P          R      mAP50  mAP50-95): 100%|██████████| 19/19 [00:02<00:00,  7.42it/s]"
          ]
        },
        {
          "name": "stdout",
          "output_type": "stream",
          "text": [
            "                   all        591       4014       0.25       0.19      0.127     0.0427\n"
          ]
        },
        {
          "name": "stderr",
          "output_type": "stream",
          "text": [
            "\n"
          ]
        },
        {
          "name": "stdout",
          "output_type": "stream",
          "text": [
            "\n",
            "      Epoch    GPU_mem   box_loss   cls_loss   dfl_loss  Instances       Size\n"
          ]
        },
        {
          "name": "stderr",
          "output_type": "stream",
          "text": [
            "     42/200      2.81G      2.539      2.658      1.928        156        640: 100%|██████████| 128/128 [00:15<00:00,  8.43it/s]\n",
            "                 Class     Images  Instances      Box(P          R      mAP50  mAP50-95): 100%|██████████| 19/19 [00:06<00:00,  2.77it/s]"
          ]
        },
        {
          "name": "stdout",
          "output_type": "stream",
          "text": [
            "                   all        591       4014      0.236      0.162      0.094      0.035\n"
          ]
        },
        {
          "name": "stderr",
          "output_type": "stream",
          "text": [
            "\n"
          ]
        },
        {
          "name": "stdout",
          "output_type": "stream",
          "text": [
            "\n",
            "      Epoch    GPU_mem   box_loss   cls_loss   dfl_loss  Instances       Size\n"
          ]
        },
        {
          "name": "stderr",
          "output_type": "stream",
          "text": [
            "     43/200      2.65G      2.518       2.66      1.936        172        640: 100%|██████████| 128/128 [00:33<00:00,  3.84it/s]\n",
            "                 Class     Images  Instances      Box(P          R      mAP50  mAP50-95): 100%|██████████| 19/19 [00:06<00:00,  2.73it/s]"
          ]
        },
        {
          "name": "stdout",
          "output_type": "stream",
          "text": [
            "                   all        591       4014      0.232      0.196       0.14     0.0492\n"
          ]
        },
        {
          "name": "stderr",
          "output_type": "stream",
          "text": [
            "\n"
          ]
        },
        {
          "name": "stdout",
          "output_type": "stream",
          "text": [
            "\n",
            "      Epoch    GPU_mem   box_loss   cls_loss   dfl_loss  Instances       Size\n"
          ]
        },
        {
          "name": "stderr",
          "output_type": "stream",
          "text": [
            "     44/200      2.58G      2.525      2.663      1.949         85        640: 100%|██████████| 128/128 [00:29<00:00,  4.35it/s]\n",
            "                 Class     Images  Instances      Box(P          R      mAP50  mAP50-95): 100%|██████████| 19/19 [00:02<00:00,  7.38it/s]"
          ]
        },
        {
          "name": "stdout",
          "output_type": "stream",
          "text": [
            "                   all        591       4014      0.217      0.192      0.121     0.0416\n"
          ]
        },
        {
          "name": "stderr",
          "output_type": "stream",
          "text": [
            "\n"
          ]
        },
        {
          "name": "stdout",
          "output_type": "stream",
          "text": [
            "\n",
            "      Epoch    GPU_mem   box_loss   cls_loss   dfl_loss  Instances       Size\n"
          ]
        },
        {
          "name": "stderr",
          "output_type": "stream",
          "text": [
            "     45/200      2.78G      2.518      2.655      1.934        149        640: 100%|██████████| 128/128 [00:15<00:00,  8.39it/s]\n",
            "                 Class     Images  Instances      Box(P          R      mAP50  mAP50-95): 100%|██████████| 19/19 [00:06<00:00,  2.78it/s]"
          ]
        },
        {
          "name": "stdout",
          "output_type": "stream",
          "text": [
            "                   all        591       4014      0.288      0.186      0.134     0.0489\n"
          ]
        },
        {
          "name": "stderr",
          "output_type": "stream",
          "text": [
            "\n"
          ]
        },
        {
          "name": "stdout",
          "output_type": "stream",
          "text": [
            "\n",
            "      Epoch    GPU_mem   box_loss   cls_loss   dfl_loss  Instances       Size\n"
          ]
        },
        {
          "name": "stderr",
          "output_type": "stream",
          "text": [
            "     46/200      2.64G      2.503      2.638      1.924        123        640: 100%|██████████| 128/128 [00:33<00:00,  3.80it/s]\n",
            "                 Class     Images  Instances      Box(P          R      mAP50  mAP50-95): 100%|██████████| 19/19 [00:06<00:00,  2.89it/s]"
          ]
        },
        {
          "name": "stdout",
          "output_type": "stream",
          "text": [
            "                   all        591       4014      0.205      0.206      0.142     0.0547\n"
          ]
        },
        {
          "name": "stderr",
          "output_type": "stream",
          "text": [
            "\n"
          ]
        },
        {
          "name": "stdout",
          "output_type": "stream",
          "text": [
            "\n",
            "      Epoch    GPU_mem   box_loss   cls_loss   dfl_loss  Instances       Size\n"
          ]
        },
        {
          "name": "stderr",
          "output_type": "stream",
          "text": [
            "     47/200      2.66G      2.522      2.642      1.916        106        640: 100%|██████████| 128/128 [00:33<00:00,  3.86it/s]\n",
            "                 Class     Images  Instances      Box(P          R      mAP50  mAP50-95): 100%|██████████| 19/19 [00:06<00:00,  2.84it/s]\n"
          ]
        },
        {
          "name": "stdout",
          "output_type": "stream",
          "text": [
            "                   all        591       4014      0.276      0.186      0.124     0.0466\n",
            "\n",
            "      Epoch    GPU_mem   box_loss   cls_loss   dfl_loss  Instances       Size\n"
          ]
        },
        {
          "name": "stderr",
          "output_type": "stream",
          "text": [
            "     48/200      2.79G      2.507      2.632      1.917         98        640: 100%|██████████| 128/128 [00:32<00:00,  3.89it/s]\n",
            "                 Class     Images  Instances      Box(P          R      mAP50  mAP50-95): 100%|██████████| 19/19 [00:07<00:00,  2.60it/s]\n"
          ]
        },
        {
          "name": "stdout",
          "output_type": "stream",
          "text": [
            "                   all        591       4014       0.28       0.21      0.134     0.0517\n",
            "\n",
            "      Epoch    GPU_mem   box_loss   cls_loss   dfl_loss  Instances       Size\n"
          ]
        },
        {
          "name": "stderr",
          "output_type": "stream",
          "text": [
            "     49/200      2.61G      2.506      2.599      1.891        110        640: 100%|██████████| 128/128 [00:32<00:00,  3.89it/s]\n",
            "                 Class     Images  Instances      Box(P          R      mAP50  mAP50-95): 100%|██████████| 19/19 [00:02<00:00,  6.94it/s]"
          ]
        },
        {
          "name": "stdout",
          "output_type": "stream",
          "text": [
            "                   all        591       4014      0.323      0.172      0.149     0.0585\n"
          ]
        },
        {
          "name": "stderr",
          "output_type": "stream",
          "text": [
            "\n"
          ]
        },
        {
          "name": "stdout",
          "output_type": "stream",
          "text": [
            "\n",
            "      Epoch    GPU_mem   box_loss   cls_loss   dfl_loss  Instances       Size\n"
          ]
        },
        {
          "name": "stderr",
          "output_type": "stream",
          "text": [
            "     50/200      2.89G       2.51      2.624      1.919        157        640: 100%|██████████| 128/128 [00:12<00:00, 10.25it/s]\n",
            "                 Class     Images  Instances      Box(P          R      mAP50  mAP50-95): 100%|██████████| 19/19 [00:06<00:00,  3.16it/s]"
          ]
        },
        {
          "name": "stdout",
          "output_type": "stream",
          "text": [
            "                   all        591       4014      0.261      0.187      0.134      0.054\n"
          ]
        },
        {
          "name": "stderr",
          "output_type": "stream",
          "text": [
            "\n"
          ]
        },
        {
          "name": "stdout",
          "output_type": "stream",
          "text": [
            "\n",
            "      Epoch    GPU_mem   box_loss   cls_loss   dfl_loss  Instances       Size\n"
          ]
        },
        {
          "name": "stderr",
          "output_type": "stream",
          "text": [
            "     51/200      2.44G      2.503      2.619      1.903        192        640: 100%|██████████| 128/128 [00:33<00:00,  3.81it/s]\n",
            "                 Class     Images  Instances      Box(P          R      mAP50  mAP50-95): 100%|██████████| 19/19 [00:06<00:00,  2.87it/s]\n"
          ]
        },
        {
          "name": "stdout",
          "output_type": "stream",
          "text": [
            "                   all        591       4014      0.269      0.188      0.105     0.0367\n",
            "\n",
            "      Epoch    GPU_mem   box_loss   cls_loss   dfl_loss  Instances       Size\n"
          ]
        },
        {
          "name": "stderr",
          "output_type": "stream",
          "text": [
            "     52/200      3.03G      2.509      2.605      1.924        174        640: 100%|██████████| 128/128 [00:33<00:00,  3.86it/s]\n",
            "                 Class     Images  Instances      Box(P          R      mAP50  mAP50-95): 100%|██████████| 19/19 [00:06<00:00,  2.82it/s]"
          ]
        },
        {
          "name": "stdout",
          "output_type": "stream",
          "text": [
            "                   all        591       4014      0.286      0.194      0.131     0.0446\n"
          ]
        },
        {
          "name": "stderr",
          "output_type": "stream",
          "text": [
            "\n"
          ]
        },
        {
          "name": "stdout",
          "output_type": "stream",
          "text": [
            "\n",
            "      Epoch    GPU_mem   box_loss   cls_loss   dfl_loss  Instances       Size\n"
          ]
        },
        {
          "name": "stderr",
          "output_type": "stream",
          "text": [
            "     53/200      2.95G      2.461      2.566      1.893        117        640: 100%|██████████| 128/128 [00:27<00:00,  4.73it/s]\n",
            "                 Class     Images  Instances      Box(P          R      mAP50  mAP50-95): 100%|██████████| 19/19 [00:02<00:00,  7.33it/s]"
          ]
        },
        {
          "name": "stdout",
          "output_type": "stream",
          "text": [
            "                   all        591       4014      0.295       0.19      0.144     0.0538\n"
          ]
        },
        {
          "name": "stderr",
          "output_type": "stream",
          "text": [
            "\n"
          ]
        },
        {
          "name": "stdout",
          "output_type": "stream",
          "text": [
            "\n",
            "      Epoch    GPU_mem   box_loss   cls_loss   dfl_loss  Instances       Size\n"
          ]
        },
        {
          "name": "stderr",
          "output_type": "stream",
          "text": [
            "     54/200      2.44G      2.495      2.569      1.884        108        640: 100%|██████████| 128/128 [00:18<00:00,  6.94it/s]\n",
            "                 Class     Images  Instances      Box(P          R      mAP50  mAP50-95): 100%|██████████| 19/19 [00:06<00:00,  2.82it/s]"
          ]
        },
        {
          "name": "stdout",
          "output_type": "stream",
          "text": [
            "                   all        591       4014      0.289      0.195      0.134     0.0493\n"
          ]
        },
        {
          "name": "stderr",
          "output_type": "stream",
          "text": [
            "\n"
          ]
        },
        {
          "name": "stdout",
          "output_type": "stream",
          "text": [
            "\n",
            "      Epoch    GPU_mem   box_loss   cls_loss   dfl_loss  Instances       Size\n"
          ]
        },
        {
          "name": "stderr",
          "output_type": "stream",
          "text": [
            "     55/200      2.57G      2.477      2.576      1.886         96        640: 100%|██████████| 128/128 [00:29<00:00,  4.32it/s]\n",
            "                 Class     Images  Instances      Box(P          R      mAP50  mAP50-95): 100%|██████████| 19/19 [00:02<00:00,  7.56it/s]"
          ]
        },
        {
          "name": "stdout",
          "output_type": "stream",
          "text": [
            "                   all        591       4014      0.343      0.192      0.144     0.0511\n"
          ]
        },
        {
          "name": "stderr",
          "output_type": "stream",
          "text": [
            "\n"
          ]
        },
        {
          "name": "stdout",
          "output_type": "stream",
          "text": [
            "\n",
            "      Epoch    GPU_mem   box_loss   cls_loss   dfl_loss  Instances       Size\n"
          ]
        },
        {
          "name": "stderr",
          "output_type": "stream",
          "text": [
            "     56/200      2.86G      2.465      2.535      1.876        100        640: 100%|██████████| 128/128 [00:12<00:00, 10.11it/s]\n",
            "                 Class     Images  Instances      Box(P          R      mAP50  mAP50-95): 100%|██████████| 19/19 [00:02<00:00,  7.12it/s]"
          ]
        },
        {
          "name": "stdout",
          "output_type": "stream",
          "text": [
            "                   all        591       4014       0.39      0.184      0.131     0.0456\n"
          ]
        },
        {
          "name": "stderr",
          "output_type": "stream",
          "text": [
            "\n"
          ]
        },
        {
          "name": "stdout",
          "output_type": "stream",
          "text": [
            "\n",
            "      Epoch    GPU_mem   box_loss   cls_loss   dfl_loss  Instances       Size\n"
          ]
        },
        {
          "name": "stderr",
          "output_type": "stream",
          "text": [
            "     57/200      2.86G       2.47      2.552       1.89        211        640: 100%|██████████| 128/128 [00:12<00:00, 10.05it/s]\n",
            "                 Class     Images  Instances      Box(P          R      mAP50  mAP50-95): 100%|██████████| 19/19 [00:02<00:00,  7.02it/s]"
          ]
        },
        {
          "name": "stdout",
          "output_type": "stream",
          "text": [
            "                   all        591       4014      0.319      0.211       0.15     0.0548\n"
          ]
        },
        {
          "name": "stderr",
          "output_type": "stream",
          "text": [
            "\n"
          ]
        },
        {
          "name": "stdout",
          "output_type": "stream",
          "text": [
            "\n",
            "      Epoch    GPU_mem   box_loss   cls_loss   dfl_loss  Instances       Size\n"
          ]
        },
        {
          "name": "stderr",
          "output_type": "stream",
          "text": [
            "     58/200      2.87G      2.479      2.546      1.888         95        640: 100%|██████████| 128/128 [00:12<00:00, 10.33it/s]\n",
            "                 Class     Images  Instances      Box(P          R      mAP50  mAP50-95): 100%|██████████| 19/19 [00:02<00:00,  7.23it/s]"
          ]
        },
        {
          "name": "stdout",
          "output_type": "stream",
          "text": [
            "                   all        591       4014      0.298      0.226      0.156      0.058\n"
          ]
        },
        {
          "name": "stderr",
          "output_type": "stream",
          "text": [
            "\n"
          ]
        },
        {
          "name": "stdout",
          "output_type": "stream",
          "text": [
            "\n",
            "      Epoch    GPU_mem   box_loss   cls_loss   dfl_loss  Instances       Size\n"
          ]
        },
        {
          "name": "stderr",
          "output_type": "stream",
          "text": [
            "     59/200      2.72G       2.46      2.541      1.883         94        640: 100%|██████████| 128/128 [00:12<00:00, 10.19it/s]\n",
            "                 Class     Images  Instances      Box(P          R      mAP50  mAP50-95): 100%|██████████| 19/19 [00:02<00:00,  7.25it/s]"
          ]
        },
        {
          "name": "stdout",
          "output_type": "stream",
          "text": [
            "                   all        591       4014      0.312      0.202      0.138     0.0481\n"
          ]
        },
        {
          "name": "stderr",
          "output_type": "stream",
          "text": [
            "\n"
          ]
        },
        {
          "name": "stdout",
          "output_type": "stream",
          "text": [
            "\n",
            "      Epoch    GPU_mem   box_loss   cls_loss   dfl_loss  Instances       Size\n"
          ]
        },
        {
          "name": "stderr",
          "output_type": "stream",
          "text": [
            "     60/200      2.82G      2.449      2.536      1.883        208        640: 100%|██████████| 128/128 [00:12<00:00, 10.34it/s]\n",
            "                 Class     Images  Instances      Box(P          R      mAP50  mAP50-95): 100%|██████████| 19/19 [00:02<00:00,  7.03it/s]"
          ]
        },
        {
          "name": "stdout",
          "output_type": "stream",
          "text": [
            "                   all        591       4014      0.258      0.213      0.139     0.0504\n"
          ]
        },
        {
          "name": "stderr",
          "output_type": "stream",
          "text": [
            "\n"
          ]
        },
        {
          "name": "stdout",
          "output_type": "stream",
          "text": [
            "\n",
            "      Epoch    GPU_mem   box_loss   cls_loss   dfl_loss  Instances       Size\n"
          ]
        },
        {
          "name": "stderr",
          "output_type": "stream",
          "text": [
            "     61/200      2.94G      2.471      2.555       1.86        234        640: 100%|██████████| 128/128 [00:12<00:00, 10.23it/s]\n",
            "                 Class     Images  Instances      Box(P          R      mAP50  mAP50-95): 100%|██████████| 19/19 [00:02<00:00,  6.98it/s]"
          ]
        },
        {
          "name": "stdout",
          "output_type": "stream",
          "text": [
            "                   all        591       4014      0.285      0.199      0.142     0.0522\n"
          ]
        },
        {
          "name": "stderr",
          "output_type": "stream",
          "text": [
            "\n"
          ]
        },
        {
          "name": "stdout",
          "output_type": "stream",
          "text": [
            "\n",
            "      Epoch    GPU_mem   box_loss   cls_loss   dfl_loss  Instances       Size\n"
          ]
        },
        {
          "name": "stderr",
          "output_type": "stream",
          "text": [
            "     62/200      2.73G      2.458      2.516      1.853        130        640: 100%|██████████| 128/128 [00:12<00:00, 10.17it/s]\n",
            "                 Class     Images  Instances      Box(P          R      mAP50  mAP50-95): 100%|██████████| 19/19 [00:02<00:00,  7.38it/s]"
          ]
        },
        {
          "name": "stdout",
          "output_type": "stream",
          "text": [
            "                   all        591       4014      0.343      0.192      0.139     0.0502\n"
          ]
        },
        {
          "name": "stderr",
          "output_type": "stream",
          "text": [
            "\n"
          ]
        },
        {
          "name": "stdout",
          "output_type": "stream",
          "text": [
            "\n",
            "      Epoch    GPU_mem   box_loss   cls_loss   dfl_loss  Instances       Size\n"
          ]
        },
        {
          "name": "stderr",
          "output_type": "stream",
          "text": [
            "     63/200      2.78G      2.427      2.529       1.87        150        640: 100%|██████████| 128/128 [00:12<00:00, 10.66it/s]\n",
            "                 Class     Images  Instances      Box(P          R      mAP50  mAP50-95): 100%|██████████| 19/19 [00:02<00:00,  7.57it/s]"
          ]
        },
        {
          "name": "stdout",
          "output_type": "stream",
          "text": [
            "                   all        591       4014      0.319      0.209      0.155     0.0521\n"
          ]
        },
        {
          "name": "stderr",
          "output_type": "stream",
          "text": [
            "\n"
          ]
        },
        {
          "name": "stdout",
          "output_type": "stream",
          "text": [
            "\n",
            "      Epoch    GPU_mem   box_loss   cls_loss   dfl_loss  Instances       Size\n"
          ]
        },
        {
          "name": "stderr",
          "output_type": "stream",
          "text": [
            "     64/200      2.82G       2.45      2.538      1.876        104        640: 100%|██████████| 128/128 [00:12<00:00, 10.29it/s]\n",
            "                 Class     Images  Instances      Box(P          R      mAP50  mAP50-95): 100%|██████████| 19/19 [00:02<00:00,  7.40it/s]"
          ]
        },
        {
          "name": "stdout",
          "output_type": "stream",
          "text": [
            "                   all        591       4014      0.313      0.209      0.166     0.0632\n"
          ]
        },
        {
          "name": "stderr",
          "output_type": "stream",
          "text": [
            "\n"
          ]
        },
        {
          "name": "stdout",
          "output_type": "stream",
          "text": [
            "\n",
            "      Epoch    GPU_mem   box_loss   cls_loss   dfl_loss  Instances       Size\n"
          ]
        },
        {
          "name": "stderr",
          "output_type": "stream",
          "text": [
            "     65/200      2.74G      2.454      2.534      1.873        125        640: 100%|██████████| 128/128 [00:12<00:00,  9.91it/s]\n",
            "                 Class     Images  Instances      Box(P          R      mAP50  mAP50-95): 100%|██████████| 19/19 [00:02<00:00,  6.67it/s]\n"
          ]
        },
        {
          "name": "stdout",
          "output_type": "stream",
          "text": [
            "                   all        591       4014      0.309      0.217      0.189     0.0723\n",
            "\n",
            "      Epoch    GPU_mem   box_loss   cls_loss   dfl_loss  Instances       Size\n"
          ]
        },
        {
          "name": "stderr",
          "output_type": "stream",
          "text": [
            "     66/200      2.82G      2.424      2.462      1.829        212        640: 100%|██████████| 128/128 [00:12<00:00, 10.19it/s]\n",
            "                 Class     Images  Instances      Box(P          R      mAP50  mAP50-95): 100%|██████████| 19/19 [00:02<00:00,  7.19it/s]"
          ]
        },
        {
          "name": "stdout",
          "output_type": "stream",
          "text": [
            "                   all        591       4014      0.309      0.224      0.166     0.0654\n"
          ]
        },
        {
          "name": "stderr",
          "output_type": "stream",
          "text": [
            "\n"
          ]
        },
        {
          "name": "stdout",
          "output_type": "stream",
          "text": [
            "\n",
            "      Epoch    GPU_mem   box_loss   cls_loss   dfl_loss  Instances       Size\n"
          ]
        },
        {
          "name": "stderr",
          "output_type": "stream",
          "text": [
            "     67/200      2.54G      2.441      2.503       1.85        116        640: 100%|██████████| 128/128 [00:12<00:00, 10.14it/s]\n",
            "                 Class     Images  Instances      Box(P          R      mAP50  mAP50-95): 100%|██████████| 19/19 [00:02<00:00,  7.19it/s]"
          ]
        },
        {
          "name": "stdout",
          "output_type": "stream",
          "text": [
            "                   all        591       4014      0.288      0.181      0.136      0.052\n"
          ]
        },
        {
          "name": "stderr",
          "output_type": "stream",
          "text": [
            "\n"
          ]
        },
        {
          "name": "stdout",
          "output_type": "stream",
          "text": [
            "\n",
            "      Epoch    GPU_mem   box_loss   cls_loss   dfl_loss  Instances       Size\n"
          ]
        },
        {
          "name": "stderr",
          "output_type": "stream",
          "text": [
            "     68/200      2.78G      2.438      2.497      1.868         88        640: 100%|██████████| 128/128 [00:12<00:00,  9.95it/s]\n",
            "                 Class     Images  Instances      Box(P          R      mAP50  mAP50-95): 100%|██████████| 19/19 [00:02<00:00,  7.46it/s]"
          ]
        },
        {
          "name": "stdout",
          "output_type": "stream",
          "text": [
            "                   all        591       4014        0.3      0.225      0.163     0.0659\n"
          ]
        },
        {
          "name": "stderr",
          "output_type": "stream",
          "text": [
            "\n"
          ]
        },
        {
          "name": "stdout",
          "output_type": "stream",
          "text": [
            "\n",
            "      Epoch    GPU_mem   box_loss   cls_loss   dfl_loss  Instances       Size\n"
          ]
        },
        {
          "name": "stderr",
          "output_type": "stream",
          "text": [
            "     69/200      2.81G       2.41      2.463      1.838        149        640: 100%|██████████| 128/128 [00:12<00:00, 10.21it/s]\n",
            "                 Class     Images  Instances      Box(P          R      mAP50  mAP50-95): 100%|██████████| 19/19 [00:02<00:00,  6.69it/s]"
          ]
        },
        {
          "name": "stdout",
          "output_type": "stream",
          "text": [
            "                   all        591       4014      0.318      0.218      0.191     0.0849\n"
          ]
        },
        {
          "name": "stderr",
          "output_type": "stream",
          "text": [
            "\n"
          ]
        },
        {
          "name": "stdout",
          "output_type": "stream",
          "text": [
            "\n",
            "      Epoch    GPU_mem   box_loss   cls_loss   dfl_loss  Instances       Size\n"
          ]
        },
        {
          "name": "stderr",
          "output_type": "stream",
          "text": [
            "     70/200      2.91G      2.425      2.531      1.858        168        640: 100%|██████████| 128/128 [00:32<00:00,  3.97it/s]\n",
            "                 Class     Images  Instances      Box(P          R      mAP50  mAP50-95): 100%|██████████| 19/19 [00:06<00:00,  2.82it/s]"
          ]
        },
        {
          "name": "stdout",
          "output_type": "stream",
          "text": [
            "                   all        591       4014      0.197      0.238       0.18     0.0688\n"
          ]
        },
        {
          "name": "stderr",
          "output_type": "stream",
          "text": [
            "\n"
          ]
        },
        {
          "name": "stdout",
          "output_type": "stream",
          "text": [
            "\n",
            "      Epoch    GPU_mem   box_loss   cls_loss   dfl_loss  Instances       Size\n"
          ]
        },
        {
          "name": "stderr",
          "output_type": "stream",
          "text": [
            "     71/200      2.58G       2.41      2.463      1.842        165        640: 100%|██████████| 128/128 [00:18<00:00,  6.79it/s]\n",
            "                 Class     Images  Instances      Box(P          R      mAP50  mAP50-95): 100%|██████████| 19/19 [00:02<00:00,  7.44it/s]"
          ]
        },
        {
          "name": "stdout",
          "output_type": "stream",
          "text": [
            "                   all        591       4014      0.193      0.259      0.198     0.0848\n"
          ]
        },
        {
          "name": "stderr",
          "output_type": "stream",
          "text": [
            "\n"
          ]
        },
        {
          "name": "stdout",
          "output_type": "stream",
          "text": [
            "\n",
            "      Epoch    GPU_mem   box_loss   cls_loss   dfl_loss  Instances       Size\n"
          ]
        },
        {
          "name": "stderr",
          "output_type": "stream",
          "text": [
            "     72/200      2.77G      2.424      2.477      1.848        107        640: 100%|██████████| 128/128 [00:21<00:00,  5.94it/s]\n",
            "                 Class     Images  Instances      Box(P          R      mAP50  mAP50-95): 100%|██████████| 19/19 [00:06<00:00,  2.85it/s]"
          ]
        },
        {
          "name": "stdout",
          "output_type": "stream",
          "text": [
            "                   all        591       4014       0.21      0.247      0.162     0.0633\n"
          ]
        },
        {
          "name": "stderr",
          "output_type": "stream",
          "text": [
            "\n"
          ]
        },
        {
          "name": "stdout",
          "output_type": "stream",
          "text": [
            "\n",
            "      Epoch    GPU_mem   box_loss   cls_loss   dfl_loss  Instances       Size\n"
          ]
        },
        {
          "name": "stderr",
          "output_type": "stream",
          "text": [
            "     73/200      2.86G       2.41      2.488       1.84        215        640: 100%|██████████| 128/128 [00:33<00:00,  3.81it/s]\n",
            "                 Class     Images  Instances      Box(P          R      mAP50  mAP50-95): 100%|██████████| 19/19 [00:07<00:00,  2.57it/s]\n"
          ]
        },
        {
          "name": "stdout",
          "output_type": "stream",
          "text": [
            "                   all        591       4014      0.194      0.246      0.179     0.0692\n",
            "\n",
            "      Epoch    GPU_mem   box_loss   cls_loss   dfl_loss  Instances       Size\n"
          ]
        },
        {
          "name": "stderr",
          "output_type": "stream",
          "text": [
            "     74/200      2.41G      2.432      2.464      1.839        133        640: 100%|██████████| 128/128 [00:34<00:00,  3.73it/s]\n",
            "                 Class     Images  Instances      Box(P          R      mAP50  mAP50-95): 100%|██████████| 19/19 [00:06<00:00,  2.77it/s]"
          ]
        },
        {
          "name": "stdout",
          "output_type": "stream",
          "text": [
            "                   all        591       4014      0.191      0.262       0.16     0.0608\n"
          ]
        },
        {
          "name": "stderr",
          "output_type": "stream",
          "text": [
            "\n"
          ]
        },
        {
          "name": "stdout",
          "output_type": "stream",
          "text": [
            "\n",
            "      Epoch    GPU_mem   box_loss   cls_loss   dfl_loss  Instances       Size\n"
          ]
        },
        {
          "name": "stderr",
          "output_type": "stream",
          "text": [
            "     75/200      2.91G      2.417      2.439      1.824        133        640: 100%|██████████| 128/128 [00:33<00:00,  3.80it/s]\n",
            "                 Class     Images  Instances      Box(P          R      mAP50  mAP50-95): 100%|██████████| 19/19 [00:07<00:00,  2.61it/s]\n"
          ]
        },
        {
          "name": "stdout",
          "output_type": "stream",
          "text": [
            "                   all        591       4014      0.263      0.258      0.201     0.0816\n",
            "\n",
            "      Epoch    GPU_mem   box_loss   cls_loss   dfl_loss  Instances       Size\n"
          ]
        },
        {
          "name": "stderr",
          "output_type": "stream",
          "text": [
            "     76/200       2.6G      2.409      2.433      1.811        163        640: 100%|██████████| 128/128 [00:33<00:00,  3.84it/s]\n",
            "                 Class     Images  Instances      Box(P          R      mAP50  mAP50-95): 100%|██████████| 19/19 [00:06<00:00,  2.88it/s]"
          ]
        },
        {
          "name": "stdout",
          "output_type": "stream",
          "text": [
            "                   all        591       4014      0.188      0.223      0.161     0.0627\n"
          ]
        },
        {
          "name": "stderr",
          "output_type": "stream",
          "text": [
            "\n"
          ]
        },
        {
          "name": "stdout",
          "output_type": "stream",
          "text": [
            "\n",
            "      Epoch    GPU_mem   box_loss   cls_loss   dfl_loss  Instances       Size\n"
          ]
        },
        {
          "name": "stderr",
          "output_type": "stream",
          "text": [
            "     77/200      2.86G      2.399      2.423      1.806        131        640: 100%|██████████| 128/128 [00:33<00:00,  3.85it/s]\n",
            "                 Class     Images  Instances      Box(P          R      mAP50  mAP50-95): 100%|██████████| 19/19 [00:06<00:00,  2.90it/s]"
          ]
        },
        {
          "name": "stdout",
          "output_type": "stream",
          "text": [
            "                   all        591       4014      0.213      0.204      0.147     0.0546\n"
          ]
        },
        {
          "name": "stderr",
          "output_type": "stream",
          "text": [
            "\n"
          ]
        },
        {
          "name": "stdout",
          "output_type": "stream",
          "text": [
            "\n",
            "      Epoch    GPU_mem   box_loss   cls_loss   dfl_loss  Instances       Size\n"
          ]
        },
        {
          "name": "stderr",
          "output_type": "stream",
          "text": [
            "     78/200       2.6G       2.39      2.433      1.822        104        640: 100%|██████████| 128/128 [00:31<00:00,  4.03it/s]\n",
            "                 Class     Images  Instances      Box(P          R      mAP50  mAP50-95): 100%|██████████| 19/19 [00:02<00:00,  7.16it/s]"
          ]
        },
        {
          "name": "stdout",
          "output_type": "stream",
          "text": [
            "                   all        591       4014      0.356      0.191       0.17     0.0604\n"
          ]
        },
        {
          "name": "stderr",
          "output_type": "stream",
          "text": [
            "\n"
          ]
        },
        {
          "name": "stdout",
          "output_type": "stream",
          "text": [
            "\n",
            "      Epoch    GPU_mem   box_loss   cls_loss   dfl_loss  Instances       Size\n"
          ]
        },
        {
          "name": "stderr",
          "output_type": "stream",
          "text": [
            "     79/200      2.82G      2.395      2.446      1.825        156        640: 100%|██████████| 128/128 [00:12<00:00, 10.36it/s]\n",
            "                 Class     Images  Instances      Box(P          R      mAP50  mAP50-95): 100%|██████████| 19/19 [00:02<00:00,  7.48it/s]"
          ]
        },
        {
          "name": "stdout",
          "output_type": "stream",
          "text": [
            "                   all        591       4014      0.352       0.19      0.171     0.0635\n"
          ]
        },
        {
          "name": "stderr",
          "output_type": "stream",
          "text": [
            "\n"
          ]
        },
        {
          "name": "stdout",
          "output_type": "stream",
          "text": [
            "\n",
            "      Epoch    GPU_mem   box_loss   cls_loss   dfl_loss  Instances       Size\n"
          ]
        },
        {
          "name": "stderr",
          "output_type": "stream",
          "text": [
            "     80/200      2.43G      2.383      2.398        1.8        181        640: 100%|██████████| 128/128 [00:12<00:00, 10.20it/s]\n",
            "                 Class     Images  Instances      Box(P          R      mAP50  mAP50-95): 100%|██████████| 19/19 [00:02<00:00,  7.44it/s]"
          ]
        },
        {
          "name": "stdout",
          "output_type": "stream",
          "text": [
            "                   all        591       4014      0.319      0.223      0.218     0.0882\n"
          ]
        },
        {
          "name": "stderr",
          "output_type": "stream",
          "text": [
            "\n"
          ]
        },
        {
          "name": "stdout",
          "output_type": "stream",
          "text": [
            "\n",
            "      Epoch    GPU_mem   box_loss   cls_loss   dfl_loss  Instances       Size\n"
          ]
        },
        {
          "name": "stderr",
          "output_type": "stream",
          "text": [
            "     81/200      2.73G      2.361      2.387      1.799        248        640: 100%|██████████| 128/128 [00:13<00:00,  9.20it/s]\n",
            "                 Class     Images  Instances      Box(P          R      mAP50  mAP50-95): 100%|██████████| 19/19 [00:06<00:00,  2.83it/s]"
          ]
        },
        {
          "name": "stdout",
          "output_type": "stream",
          "text": [
            "                   all        591       4014      0.186      0.238      0.169     0.0629\n"
          ]
        },
        {
          "name": "stderr",
          "output_type": "stream",
          "text": [
            "\n"
          ]
        },
        {
          "name": "stdout",
          "output_type": "stream",
          "text": [
            "\n",
            "      Epoch    GPU_mem   box_loss   cls_loss   dfl_loss  Instances       Size\n"
          ]
        },
        {
          "name": "stderr",
          "output_type": "stream",
          "text": [
            "     82/200       2.9G       2.39      2.418      1.817        116        640: 100%|██████████| 128/128 [00:18<00:00,  6.84it/s]\n",
            "                 Class     Images  Instances      Box(P          R      mAP50  mAP50-95): 100%|██████████| 19/19 [00:02<00:00,  7.36it/s]"
          ]
        },
        {
          "name": "stdout",
          "output_type": "stream",
          "text": [
            "                   all        591       4014      0.326      0.223      0.172     0.0641\n"
          ]
        },
        {
          "name": "stderr",
          "output_type": "stream",
          "text": [
            "\n"
          ]
        },
        {
          "name": "stdout",
          "output_type": "stream",
          "text": [
            "\n",
            "      Epoch    GPU_mem   box_loss   cls_loss   dfl_loss  Instances       Size\n"
          ]
        },
        {
          "name": "stderr",
          "output_type": "stream",
          "text": [
            "     83/200       2.8G      2.391      2.413      1.808        103        640: 100%|██████████| 128/128 [00:12<00:00, 10.40it/s]\n",
            "                 Class     Images  Instances      Box(P          R      mAP50  mAP50-95): 100%|██████████| 19/19 [00:02<00:00,  6.81it/s]"
          ]
        },
        {
          "name": "stdout",
          "output_type": "stream",
          "text": [
            "                   all        591       4014      0.212      0.265      0.173     0.0632\n"
          ]
        },
        {
          "name": "stderr",
          "output_type": "stream",
          "text": [
            "\n"
          ]
        },
        {
          "name": "stdout",
          "output_type": "stream",
          "text": [
            "\n",
            "      Epoch    GPU_mem   box_loss   cls_loss   dfl_loss  Instances       Size\n"
          ]
        },
        {
          "name": "stderr",
          "output_type": "stream",
          "text": [
            "     84/200       2.8G      2.392       2.38      1.807        124        640: 100%|██████████| 128/128 [00:17<00:00,  7.33it/s]\n",
            "                 Class     Images  Instances      Box(P          R      mAP50  mAP50-95): 100%|██████████| 19/19 [00:02<00:00,  7.61it/s]"
          ]
        },
        {
          "name": "stdout",
          "output_type": "stream",
          "text": [
            "                   all        591       4014      0.233      0.202      0.169     0.0631\n"
          ]
        },
        {
          "name": "stderr",
          "output_type": "stream",
          "text": [
            "\n"
          ]
        },
        {
          "name": "stdout",
          "output_type": "stream",
          "text": [
            "\n",
            "      Epoch    GPU_mem   box_loss   cls_loss   dfl_loss  Instances       Size\n"
          ]
        },
        {
          "name": "stderr",
          "output_type": "stream",
          "text": [
            "     85/200      2.79G      2.367      2.422      1.792        226        640: 100%|██████████| 128/128 [00:12<00:00, 10.59it/s]\n",
            "                 Class     Images  Instances      Box(P          R      mAP50  mAP50-95): 100%|██████████| 19/19 [00:02<00:00,  7.60it/s]"
          ]
        },
        {
          "name": "stdout",
          "output_type": "stream",
          "text": [
            "                   all        591       4014      0.198       0.22      0.188     0.0678\n"
          ]
        },
        {
          "name": "stderr",
          "output_type": "stream",
          "text": [
            "\n"
          ]
        },
        {
          "name": "stdout",
          "output_type": "stream",
          "text": [
            "\n",
            "      Epoch    GPU_mem   box_loss   cls_loss   dfl_loss  Instances       Size\n"
          ]
        },
        {
          "name": "stderr",
          "output_type": "stream",
          "text": [
            "     86/200      2.55G      2.371      2.404      1.805        147        640: 100%|██████████| 128/128 [00:12<00:00, 10.58it/s]\n",
            "                 Class     Images  Instances      Box(P          R      mAP50  mAP50-95): 100%|██████████| 19/19 [00:02<00:00,  7.54it/s]"
          ]
        },
        {
          "name": "stdout",
          "output_type": "stream",
          "text": [
            "                   all        591       4014      0.221      0.253      0.186     0.0722\n"
          ]
        },
        {
          "name": "stderr",
          "output_type": "stream",
          "text": [
            "\n"
          ]
        },
        {
          "name": "stdout",
          "output_type": "stream",
          "text": [
            "\n",
            "      Epoch    GPU_mem   box_loss   cls_loss   dfl_loss  Instances       Size\n"
          ]
        },
        {
          "name": "stderr",
          "output_type": "stream",
          "text": [
            "     87/200         3G       2.39      2.396      1.799        157        640: 100%|██████████| 128/128 [00:12<00:00, 10.54it/s]\n",
            "                 Class     Images  Instances      Box(P          R      mAP50  mAP50-95): 100%|██████████| 19/19 [00:02<00:00,  7.50it/s]"
          ]
        },
        {
          "name": "stdout",
          "output_type": "stream",
          "text": [
            "                   all        591       4014      0.229      0.207      0.179      0.068\n"
          ]
        },
        {
          "name": "stderr",
          "output_type": "stream",
          "text": [
            "\n"
          ]
        },
        {
          "name": "stdout",
          "output_type": "stream",
          "text": [
            "\n",
            "      Epoch    GPU_mem   box_loss   cls_loss   dfl_loss  Instances       Size\n"
          ]
        },
        {
          "name": "stderr",
          "output_type": "stream",
          "text": [
            "     88/200      2.44G      2.369        2.4      1.803        130        640: 100%|██████████| 128/128 [00:12<00:00, 10.57it/s]\n",
            "                 Class     Images  Instances      Box(P          R      mAP50  mAP50-95): 100%|██████████| 19/19 [00:02<00:00,  7.58it/s]"
          ]
        },
        {
          "name": "stdout",
          "output_type": "stream",
          "text": [
            "                   all        591       4014      0.279      0.242      0.174     0.0668\n"
          ]
        },
        {
          "name": "stderr",
          "output_type": "stream",
          "text": [
            "\n"
          ]
        },
        {
          "name": "stdout",
          "output_type": "stream",
          "text": [
            "\n",
            "      Epoch    GPU_mem   box_loss   cls_loss   dfl_loss  Instances       Size\n"
          ]
        },
        {
          "name": "stderr",
          "output_type": "stream",
          "text": [
            "     89/200      2.86G      2.365      2.393       1.81        109        640: 100%|██████████| 128/128 [00:12<00:00, 10.54it/s]\n",
            "                 Class     Images  Instances      Box(P          R      mAP50  mAP50-95): 100%|██████████| 19/19 [00:02<00:00,  7.61it/s]"
          ]
        },
        {
          "name": "stdout",
          "output_type": "stream",
          "text": [
            "                   all        591       4014      0.204      0.214      0.175     0.0641\n"
          ]
        },
        {
          "name": "stderr",
          "output_type": "stream",
          "text": [
            "\n"
          ]
        },
        {
          "name": "stdout",
          "output_type": "stream",
          "text": [
            "\n",
            "      Epoch    GPU_mem   box_loss   cls_loss   dfl_loss  Instances       Size\n"
          ]
        },
        {
          "name": "stderr",
          "output_type": "stream",
          "text": [
            "     90/200      2.74G      2.357      2.376       1.79        346        640: 100%|██████████| 128/128 [00:12<00:00, 10.63it/s]\n",
            "                 Class     Images  Instances      Box(P          R      mAP50  mAP50-95): 100%|██████████| 19/19 [00:02<00:00,  7.56it/s]"
          ]
        },
        {
          "name": "stdout",
          "output_type": "stream",
          "text": [
            "                   all        591       4014      0.226      0.201      0.169     0.0596\n"
          ]
        },
        {
          "name": "stderr",
          "output_type": "stream",
          "text": [
            "\n"
          ]
        },
        {
          "name": "stdout",
          "output_type": "stream",
          "text": [
            "\n",
            "      Epoch    GPU_mem   box_loss   cls_loss   dfl_loss  Instances       Size\n"
          ]
        },
        {
          "name": "stderr",
          "output_type": "stream",
          "text": [
            "     91/200      2.88G      2.355      2.363      1.783        133        640: 100%|██████████| 128/128 [00:12<00:00, 10.60it/s]\n",
            "                 Class     Images  Instances      Box(P          R      mAP50  mAP50-95): 100%|██████████| 19/19 [00:02<00:00,  7.53it/s]"
          ]
        },
        {
          "name": "stdout",
          "output_type": "stream",
          "text": [
            "                   all        591       4014      0.173      0.232      0.185     0.0729\n"
          ]
        },
        {
          "name": "stderr",
          "output_type": "stream",
          "text": [
            "\n"
          ]
        },
        {
          "name": "stdout",
          "output_type": "stream",
          "text": [
            "\n",
            "      Epoch    GPU_mem   box_loss   cls_loss   dfl_loss  Instances       Size\n"
          ]
        },
        {
          "name": "stderr",
          "output_type": "stream",
          "text": [
            "     92/200      3.01G      2.365      2.347      1.777        191        640: 100%|██████████| 128/128 [00:12<00:00, 10.56it/s]\n",
            "                 Class     Images  Instances      Box(P          R      mAP50  mAP50-95): 100%|██████████| 19/19 [00:02<00:00,  7.53it/s]"
          ]
        },
        {
          "name": "stdout",
          "output_type": "stream",
          "text": [
            "                   all        591       4014      0.285      0.186      0.176     0.0689\n"
          ]
        },
        {
          "name": "stderr",
          "output_type": "stream",
          "text": [
            "\n"
          ]
        },
        {
          "name": "stdout",
          "output_type": "stream",
          "text": [
            "\n",
            "      Epoch    GPU_mem   box_loss   cls_loss   dfl_loss  Instances       Size\n"
          ]
        },
        {
          "name": "stderr",
          "output_type": "stream",
          "text": [
            "     93/200      2.69G      2.352      2.383      1.796        149        640: 100%|██████████| 128/128 [00:12<00:00, 10.60it/s]\n",
            "                 Class     Images  Instances      Box(P          R      mAP50  mAP50-95): 100%|██████████| 19/19 [00:02<00:00,  7.54it/s]"
          ]
        },
        {
          "name": "stdout",
          "output_type": "stream",
          "text": [
            "                   all        591       4014      0.242      0.201      0.176      0.067\n"
          ]
        },
        {
          "name": "stderr",
          "output_type": "stream",
          "text": [
            "\n"
          ]
        },
        {
          "name": "stdout",
          "output_type": "stream",
          "text": [
            "\n",
            "      Epoch    GPU_mem   box_loss   cls_loss   dfl_loss  Instances       Size\n"
          ]
        },
        {
          "name": "stderr",
          "output_type": "stream",
          "text": [
            "     94/200      2.73G      2.362      2.338      1.774        144        640: 100%|██████████| 128/128 [00:12<00:00, 10.58it/s]\n",
            "                 Class     Images  Instances      Box(P          R      mAP50  mAP50-95): 100%|██████████| 19/19 [00:02<00:00,  7.61it/s]"
          ]
        },
        {
          "name": "stdout",
          "output_type": "stream",
          "text": [
            "                   all        591       4014      0.275      0.243      0.196     0.0759\n"
          ]
        },
        {
          "name": "stderr",
          "output_type": "stream",
          "text": [
            "\n"
          ]
        },
        {
          "name": "stdout",
          "output_type": "stream",
          "text": [
            "\n",
            "      Epoch    GPU_mem   box_loss   cls_loss   dfl_loss  Instances       Size\n"
          ]
        },
        {
          "name": "stderr",
          "output_type": "stream",
          "text": [
            "     95/200      2.41G      2.333      2.319      1.754        129        640: 100%|██████████| 128/128 [00:12<00:00, 10.63it/s]\n",
            "                 Class     Images  Instances      Box(P          R      mAP50  mAP50-95): 100%|██████████| 19/19 [00:02<00:00,  7.60it/s]"
          ]
        },
        {
          "name": "stdout",
          "output_type": "stream",
          "text": [
            "                   all        591       4014      0.241      0.278      0.178     0.0694\n"
          ]
        },
        {
          "name": "stderr",
          "output_type": "stream",
          "text": [
            "\n"
          ]
        },
        {
          "name": "stdout",
          "output_type": "stream",
          "text": [
            "\n",
            "      Epoch    GPU_mem   box_loss   cls_loss   dfl_loss  Instances       Size\n"
          ]
        },
        {
          "name": "stderr",
          "output_type": "stream",
          "text": [
            "     96/200      2.65G      2.352       2.37      1.786        167        640: 100%|██████████| 128/128 [00:12<00:00, 10.57it/s]\n",
            "                 Class     Images  Instances      Box(P          R      mAP50  mAP50-95): 100%|██████████| 19/19 [00:02<00:00,  7.60it/s]"
          ]
        },
        {
          "name": "stdout",
          "output_type": "stream",
          "text": [
            "                   all        591       4014      0.267      0.251      0.182     0.0708\n"
          ]
        },
        {
          "name": "stderr",
          "output_type": "stream",
          "text": [
            "\n"
          ]
        },
        {
          "name": "stdout",
          "output_type": "stream",
          "text": [
            "\n",
            "      Epoch    GPU_mem   box_loss   cls_loss   dfl_loss  Instances       Size\n"
          ]
        },
        {
          "name": "stderr",
          "output_type": "stream",
          "text": [
            "     97/200      2.82G      2.348      2.333      1.787        130        640: 100%|██████████| 128/128 [00:12<00:00, 10.31it/s]\n",
            "                 Class     Images  Instances      Box(P          R      mAP50  mAP50-95): 100%|██████████| 19/19 [00:03<00:00,  6.10it/s]"
          ]
        },
        {
          "name": "stdout",
          "output_type": "stream",
          "text": [
            "                   all        591       4014      0.229      0.227      0.165     0.0625\n"
          ]
        },
        {
          "name": "stderr",
          "output_type": "stream",
          "text": [
            "\n"
          ]
        },
        {
          "name": "stdout",
          "output_type": "stream",
          "text": [
            "\n",
            "      Epoch    GPU_mem   box_loss   cls_loss   dfl_loss  Instances       Size\n"
          ]
        },
        {
          "name": "stderr",
          "output_type": "stream",
          "text": [
            "     98/200      2.56G      2.346      2.358      1.803        168        640: 100%|██████████| 128/128 [00:17<00:00,  7.47it/s]\n",
            "                 Class     Images  Instances      Box(P          R      mAP50  mAP50-95): 100%|██████████| 19/19 [00:02<00:00,  7.42it/s]"
          ]
        },
        {
          "name": "stdout",
          "output_type": "stream",
          "text": [
            "                   all        591       4014      0.243      0.233      0.195     0.0754\n"
          ]
        },
        {
          "name": "stderr",
          "output_type": "stream",
          "text": [
            "\n"
          ]
        },
        {
          "name": "stdout",
          "output_type": "stream",
          "text": [
            "\n",
            "      Epoch    GPU_mem   box_loss   cls_loss   dfl_loss  Instances       Size\n"
          ]
        },
        {
          "name": "stderr",
          "output_type": "stream",
          "text": [
            "     99/200      3.06G      2.343      2.297      1.751        189        640: 100%|██████████| 128/128 [00:12<00:00, 10.34it/s]\n",
            "                 Class     Images  Instances      Box(P          R      mAP50  mAP50-95): 100%|██████████| 19/19 [00:02<00:00,  7.56it/s]"
          ]
        },
        {
          "name": "stdout",
          "output_type": "stream",
          "text": [
            "                   all        591       4014      0.226      0.264      0.194     0.0764\n"
          ]
        },
        {
          "name": "stderr",
          "output_type": "stream",
          "text": [
            "\n"
          ]
        },
        {
          "name": "stdout",
          "output_type": "stream",
          "text": [
            "\n",
            "      Epoch    GPU_mem   box_loss   cls_loss   dfl_loss  Instances       Size\n"
          ]
        },
        {
          "name": "stderr",
          "output_type": "stream",
          "text": [
            "    100/200      2.47G      2.337      2.331      1.777         90        640: 100%|██████████| 128/128 [00:12<00:00, 10.48it/s]\n",
            "                 Class     Images  Instances      Box(P          R      mAP50  mAP50-95): 100%|██████████| 19/19 [00:02<00:00,  7.51it/s]"
          ]
        },
        {
          "name": "stdout",
          "output_type": "stream",
          "text": [
            "                   all        591       4014      0.222      0.238      0.188     0.0707\n"
          ]
        },
        {
          "name": "stderr",
          "output_type": "stream",
          "text": [
            "\n"
          ]
        },
        {
          "name": "stdout",
          "output_type": "stream",
          "text": [
            "\n",
            "      Epoch    GPU_mem   box_loss   cls_loss   dfl_loss  Instances       Size\n"
          ]
        },
        {
          "name": "stderr",
          "output_type": "stream",
          "text": [
            "    101/200       2.4G      2.325      2.291      1.754        187        640: 100%|██████████| 128/128 [00:28<00:00,  4.42it/s]\n",
            "                 Class     Images  Instances      Box(P          R      mAP50  mAP50-95): 100%|██████████| 19/19 [00:02<00:00,  7.50it/s]"
          ]
        },
        {
          "name": "stdout",
          "output_type": "stream",
          "text": [
            "                   all        591       4014      0.228      0.262      0.176      0.068\n"
          ]
        },
        {
          "name": "stderr",
          "output_type": "stream",
          "text": [
            "\n"
          ]
        },
        {
          "name": "stdout",
          "output_type": "stream",
          "text": [
            "\n",
            "      Epoch    GPU_mem   box_loss   cls_loss   dfl_loss  Instances       Size\n"
          ]
        },
        {
          "name": "stderr",
          "output_type": "stream",
          "text": [
            "    102/200       2.7G      2.318      2.289      1.754        127        640: 100%|██████████| 128/128 [00:12<00:00, 10.40it/s]\n",
            "                 Class     Images  Instances      Box(P          R      mAP50  mAP50-95): 100%|██████████| 19/19 [00:02<00:00,  7.30it/s]"
          ]
        },
        {
          "name": "stdout",
          "output_type": "stream",
          "text": [
            "                   all        591       4014      0.216      0.273      0.176     0.0656\n"
          ]
        },
        {
          "name": "stderr",
          "output_type": "stream",
          "text": [
            "\n"
          ]
        },
        {
          "name": "stdout",
          "output_type": "stream",
          "text": [
            "\n",
            "      Epoch    GPU_mem   box_loss   cls_loss   dfl_loss  Instances       Size\n"
          ]
        },
        {
          "name": "stderr",
          "output_type": "stream",
          "text": [
            "    103/200      2.54G      2.329       2.32      1.773        139        640: 100%|██████████| 128/128 [00:12<00:00, 10.20it/s]\n",
            "                 Class     Images  Instances      Box(P          R      mAP50  mAP50-95): 100%|██████████| 19/19 [00:02<00:00,  7.25it/s]"
          ]
        },
        {
          "name": "stdout",
          "output_type": "stream",
          "text": [
            "                   all        591       4014      0.226      0.211      0.187     0.0669\n"
          ]
        },
        {
          "name": "stderr",
          "output_type": "stream",
          "text": [
            "\n"
          ]
        },
        {
          "name": "stdout",
          "output_type": "stream",
          "text": [
            "\n",
            "      Epoch    GPU_mem   box_loss   cls_loss   dfl_loss  Instances       Size\n"
          ]
        },
        {
          "name": "stderr",
          "output_type": "stream",
          "text": [
            "    104/200      2.73G       2.33      2.273      1.749        191        640: 100%|██████████| 128/128 [00:12<00:00, 10.49it/s]\n",
            "                 Class     Images  Instances      Box(P          R      mAP50  mAP50-95): 100%|██████████| 19/19 [00:02<00:00,  7.53it/s]"
          ]
        },
        {
          "name": "stdout",
          "output_type": "stream",
          "text": [
            "                   all        591       4014       0.23      0.261      0.193      0.072\n"
          ]
        },
        {
          "name": "stderr",
          "output_type": "stream",
          "text": [
            "\n"
          ]
        },
        {
          "name": "stdout",
          "output_type": "stream",
          "text": [
            "\n",
            "      Epoch    GPU_mem   box_loss   cls_loss   dfl_loss  Instances       Size\n"
          ]
        },
        {
          "name": "stderr",
          "output_type": "stream",
          "text": [
            "    105/200      2.53G      2.324      2.295      1.765        104        640: 100%|██████████| 128/128 [00:12<00:00, 10.51it/s]\n",
            "                 Class     Images  Instances      Box(P          R      mAP50  mAP50-95): 100%|██████████| 19/19 [00:02<00:00,  7.44it/s]"
          ]
        },
        {
          "name": "stdout",
          "output_type": "stream",
          "text": [
            "                   all        591       4014      0.279      0.211      0.191     0.0741\n"
          ]
        },
        {
          "name": "stderr",
          "output_type": "stream",
          "text": [
            "\n"
          ]
        },
        {
          "name": "stdout",
          "output_type": "stream",
          "text": [
            "\n",
            "      Epoch    GPU_mem   box_loss   cls_loss   dfl_loss  Instances       Size\n"
          ]
        },
        {
          "name": "stderr",
          "output_type": "stream",
          "text": [
            "    106/200      2.82G      2.328      2.297      1.784        126        640: 100%|██████████| 128/128 [00:12<00:00, 10.55it/s]\n",
            "                 Class     Images  Instances      Box(P          R      mAP50  mAP50-95): 100%|██████████| 19/19 [00:02<00:00,  7.52it/s]"
          ]
        },
        {
          "name": "stdout",
          "output_type": "stream",
          "text": [
            "                   all        591       4014      0.223      0.302      0.183     0.0747\n"
          ]
        },
        {
          "name": "stderr",
          "output_type": "stream",
          "text": [
            "\n"
          ]
        },
        {
          "name": "stdout",
          "output_type": "stream",
          "text": [
            "\n",
            "      Epoch    GPU_mem   box_loss   cls_loss   dfl_loss  Instances       Size\n"
          ]
        },
        {
          "name": "stderr",
          "output_type": "stream",
          "text": [
            "    107/200      2.69G      2.301      2.279      1.753        160        640: 100%|██████████| 128/128 [00:12<00:00, 10.54it/s]\n",
            "                 Class     Images  Instances      Box(P          R      mAP50  mAP50-95): 100%|██████████| 19/19 [00:02<00:00,  7.54it/s]"
          ]
        },
        {
          "name": "stdout",
          "output_type": "stream",
          "text": [
            "                   all        591       4014      0.218      0.281      0.185     0.0685\n"
          ]
        },
        {
          "name": "stderr",
          "output_type": "stream",
          "text": [
            "\n"
          ]
        },
        {
          "name": "stdout",
          "output_type": "stream",
          "text": [
            "\n",
            "      Epoch    GPU_mem   box_loss   cls_loss   dfl_loss  Instances       Size\n"
          ]
        },
        {
          "name": "stderr",
          "output_type": "stream",
          "text": [
            "    108/200      2.61G      2.313      2.261      1.745        167        640: 100%|██████████| 128/128 [00:12<00:00, 10.50it/s]\n",
            "                 Class     Images  Instances      Box(P          R      mAP50  mAP50-95): 100%|██████████| 19/19 [00:02<00:00,  7.45it/s]"
          ]
        },
        {
          "name": "stdout",
          "output_type": "stream",
          "text": [
            "                   all        591       4014      0.229      0.336        0.2     0.0775\n"
          ]
        },
        {
          "name": "stderr",
          "output_type": "stream",
          "text": [
            "\n"
          ]
        },
        {
          "name": "stdout",
          "output_type": "stream",
          "text": [
            "\n",
            "      Epoch    GPU_mem   box_loss   cls_loss   dfl_loss  Instances       Size\n"
          ]
        },
        {
          "name": "stderr",
          "output_type": "stream",
          "text": [
            "    109/200      2.84G      2.312      2.282      1.761        166        640: 100%|██████████| 128/128 [00:12<00:00, 10.46it/s]\n",
            "                 Class     Images  Instances      Box(P          R      mAP50  mAP50-95): 100%|██████████| 19/19 [00:02<00:00,  7.53it/s]"
          ]
        },
        {
          "name": "stdout",
          "output_type": "stream",
          "text": [
            "                   all        591       4014      0.235      0.229      0.184     0.0709\n"
          ]
        },
        {
          "name": "stderr",
          "output_type": "stream",
          "text": [
            "\n"
          ]
        },
        {
          "name": "stdout",
          "output_type": "stream",
          "text": [
            "\n",
            "      Epoch    GPU_mem   box_loss   cls_loss   dfl_loss  Instances       Size\n"
          ]
        },
        {
          "name": "stderr",
          "output_type": "stream",
          "text": [
            "    110/200      2.57G      2.316      2.254      1.747        206        640: 100%|██████████| 128/128 [00:12<00:00, 10.49it/s]\n",
            "                 Class     Images  Instances      Box(P          R      mAP50  mAP50-95): 100%|██████████| 19/19 [00:02<00:00,  7.52it/s]"
          ]
        },
        {
          "name": "stdout",
          "output_type": "stream",
          "text": [
            "                   all        591       4014      0.252      0.287      0.196     0.0792\n"
          ]
        },
        {
          "name": "stderr",
          "output_type": "stream",
          "text": [
            "\n"
          ]
        },
        {
          "name": "stdout",
          "output_type": "stream",
          "text": [
            "\n",
            "      Epoch    GPU_mem   box_loss   cls_loss   dfl_loss  Instances       Size\n"
          ]
        },
        {
          "name": "stderr",
          "output_type": "stream",
          "text": [
            "    111/200      2.79G      2.303      2.261      1.749        218        640: 100%|██████████| 128/128 [00:12<00:00, 10.56it/s]\n",
            "                 Class     Images  Instances      Box(P          R      mAP50  mAP50-95): 100%|██████████| 19/19 [00:02<00:00,  7.51it/s]"
          ]
        },
        {
          "name": "stdout",
          "output_type": "stream",
          "text": [
            "                   all        591       4014      0.205       0.28      0.191     0.0747\n"
          ]
        },
        {
          "name": "stderr",
          "output_type": "stream",
          "text": [
            "\n"
          ]
        },
        {
          "name": "stdout",
          "output_type": "stream",
          "text": [
            "\n",
            "      Epoch    GPU_mem   box_loss   cls_loss   dfl_loss  Instances       Size\n"
          ]
        },
        {
          "name": "stderr",
          "output_type": "stream",
          "text": [
            "    112/200      2.41G      2.321      2.262      1.751        112        640: 100%|██████████| 128/128 [00:12<00:00, 10.46it/s]\n",
            "                 Class     Images  Instances      Box(P          R      mAP50  mAP50-95): 100%|██████████| 19/19 [00:02<00:00,  7.51it/s]"
          ]
        },
        {
          "name": "stdout",
          "output_type": "stream",
          "text": [
            "                   all        591       4014       0.27      0.251      0.191     0.0763\n"
          ]
        },
        {
          "name": "stderr",
          "output_type": "stream",
          "text": [
            "\n"
          ]
        },
        {
          "name": "stdout",
          "output_type": "stream",
          "text": [
            "\n",
            "      Epoch    GPU_mem   box_loss   cls_loss   dfl_loss  Instances       Size\n"
          ]
        },
        {
          "name": "stderr",
          "output_type": "stream",
          "text": [
            "    113/200      2.67G      2.281      2.256      1.736        151        640: 100%|██████████| 128/128 [00:12<00:00, 10.53it/s]\n",
            "                 Class     Images  Instances      Box(P          R      mAP50  mAP50-95): 100%|██████████| 19/19 [00:02<00:00,  7.52it/s]"
          ]
        },
        {
          "name": "stdout",
          "output_type": "stream",
          "text": [
            "                   all        591       4014      0.241      0.227      0.186     0.0725\n"
          ]
        },
        {
          "name": "stderr",
          "output_type": "stream",
          "text": [
            "\n"
          ]
        },
        {
          "name": "stdout",
          "output_type": "stream",
          "text": [
            "\n",
            "      Epoch    GPU_mem   box_loss   cls_loss   dfl_loss  Instances       Size\n"
          ]
        },
        {
          "name": "stderr",
          "output_type": "stream",
          "text": [
            "    114/200       2.7G      2.297      2.232      1.749        204        640: 100%|██████████| 128/128 [00:12<00:00, 10.51it/s]\n",
            "                 Class     Images  Instances      Box(P          R      mAP50  mAP50-95): 100%|██████████| 19/19 [00:02<00:00,  7.47it/s]"
          ]
        },
        {
          "name": "stdout",
          "output_type": "stream",
          "text": [
            "                   all        591       4014      0.242      0.263      0.197     0.0782\n"
          ]
        },
        {
          "name": "stderr",
          "output_type": "stream",
          "text": [
            "\n"
          ]
        },
        {
          "name": "stdout",
          "output_type": "stream",
          "text": [
            "\n",
            "      Epoch    GPU_mem   box_loss   cls_loss   dfl_loss  Instances       Size\n"
          ]
        },
        {
          "name": "stderr",
          "output_type": "stream",
          "text": [
            "    115/200      2.45G      2.297      2.235      1.755        135        640: 100%|██████████| 128/128 [00:12<00:00, 10.54it/s]\n",
            "                 Class     Images  Instances      Box(P          R      mAP50  mAP50-95): 100%|██████████| 19/19 [00:02<00:00,  7.43it/s]"
          ]
        },
        {
          "name": "stdout",
          "output_type": "stream",
          "text": [
            "                   all        591       4014      0.265      0.213      0.181     0.0669\n"
          ]
        },
        {
          "name": "stderr",
          "output_type": "stream",
          "text": [
            "\n"
          ]
        },
        {
          "name": "stdout",
          "output_type": "stream",
          "text": [
            "\n",
            "      Epoch    GPU_mem   box_loss   cls_loss   dfl_loss  Instances       Size\n"
          ]
        },
        {
          "name": "stderr",
          "output_type": "stream",
          "text": [
            "    116/200      2.71G      2.304      2.246      1.732        136        640: 100%|██████████| 128/128 [00:12<00:00, 10.50it/s]\n",
            "                 Class     Images  Instances      Box(P          R      mAP50  mAP50-95): 100%|██████████| 19/19 [00:02<00:00,  7.54it/s]"
          ]
        },
        {
          "name": "stdout",
          "output_type": "stream",
          "text": [
            "                   all        591       4014      0.276      0.255      0.193     0.0743\n"
          ]
        },
        {
          "name": "stderr",
          "output_type": "stream",
          "text": [
            "\n"
          ]
        },
        {
          "name": "stdout",
          "output_type": "stream",
          "text": [
            "\n",
            "      Epoch    GPU_mem   box_loss   cls_loss   dfl_loss  Instances       Size\n"
          ]
        },
        {
          "name": "stderr",
          "output_type": "stream",
          "text": [
            "    117/200      2.82G      2.305      2.221      1.728        126        640: 100%|██████████| 128/128 [00:12<00:00, 10.57it/s]\n",
            "                 Class     Images  Instances      Box(P          R      mAP50  mAP50-95): 100%|██████████| 19/19 [00:02<00:00,  7.52it/s]"
          ]
        },
        {
          "name": "stdout",
          "output_type": "stream",
          "text": [
            "                   all        591       4014      0.233      0.246      0.194     0.0777\n"
          ]
        },
        {
          "name": "stderr",
          "output_type": "stream",
          "text": [
            "\n"
          ]
        },
        {
          "name": "stdout",
          "output_type": "stream",
          "text": [
            "\n",
            "      Epoch    GPU_mem   box_loss   cls_loss   dfl_loss  Instances       Size\n"
          ]
        },
        {
          "name": "stderr",
          "output_type": "stream",
          "text": [
            "    118/200      2.76G      2.286      2.223      1.724        131        640: 100%|██████████| 128/128 [00:12<00:00, 10.27it/s]\n",
            "                 Class     Images  Instances      Box(P          R      mAP50  mAP50-95): 100%|██████████| 19/19 [00:02<00:00,  7.57it/s]"
          ]
        },
        {
          "name": "stdout",
          "output_type": "stream",
          "text": [
            "                   all        591       4014      0.314      0.249      0.199     0.0784\n"
          ]
        },
        {
          "name": "stderr",
          "output_type": "stream",
          "text": [
            "\n"
          ]
        },
        {
          "name": "stdout",
          "output_type": "stream",
          "text": [
            "\n",
            "      Epoch    GPU_mem   box_loss   cls_loss   dfl_loss  Instances       Size\n"
          ]
        },
        {
          "name": "stderr",
          "output_type": "stream",
          "text": [
            "    119/200      2.67G       2.29       2.24      1.735        173        640: 100%|██████████| 128/128 [00:12<00:00, 10.60it/s]\n",
            "                 Class     Images  Instances      Box(P          R      mAP50  mAP50-95): 100%|██████████| 19/19 [00:02<00:00,  7.54it/s]"
          ]
        },
        {
          "name": "stdout",
          "output_type": "stream",
          "text": [
            "                   all        591       4014      0.246      0.268      0.193     0.0769\n"
          ]
        },
        {
          "name": "stderr",
          "output_type": "stream",
          "text": [
            "\n"
          ]
        },
        {
          "name": "stdout",
          "output_type": "stream",
          "text": [
            "\n",
            "      Epoch    GPU_mem   box_loss   cls_loss   dfl_loss  Instances       Size\n"
          ]
        },
        {
          "name": "stderr",
          "output_type": "stream",
          "text": [
            "    120/200      2.79G      2.267      2.221      1.731        185        640: 100%|██████████| 128/128 [00:12<00:00, 10.61it/s]\n",
            "                 Class     Images  Instances      Box(P          R      mAP50  mAP50-95): 100%|██████████| 19/19 [00:02<00:00,  7.49it/s]"
          ]
        },
        {
          "name": "stdout",
          "output_type": "stream",
          "text": [
            "                   all        591       4014      0.242      0.258      0.186     0.0743\n"
          ]
        },
        {
          "name": "stderr",
          "output_type": "stream",
          "text": [
            "\n"
          ]
        },
        {
          "name": "stdout",
          "output_type": "stream",
          "text": [
            "\n",
            "      Epoch    GPU_mem   box_loss   cls_loss   dfl_loss  Instances       Size\n"
          ]
        },
        {
          "name": "stderr",
          "output_type": "stream",
          "text": [
            "    121/200      2.71G      2.282      2.204      1.716         93        640: 100%|██████████| 128/128 [00:12<00:00, 10.49it/s]\n",
            "                 Class     Images  Instances      Box(P          R      mAP50  mAP50-95): 100%|██████████| 19/19 [00:02<00:00,  7.58it/s]"
          ]
        },
        {
          "name": "stdout",
          "output_type": "stream",
          "text": [
            "                   all        591       4014      0.223      0.257      0.207     0.0837\n"
          ]
        },
        {
          "name": "stderr",
          "output_type": "stream",
          "text": [
            "\n"
          ]
        },
        {
          "name": "stdout",
          "output_type": "stream",
          "text": [
            "\n",
            "      Epoch    GPU_mem   box_loss   cls_loss   dfl_loss  Instances       Size\n"
          ]
        },
        {
          "name": "stderr",
          "output_type": "stream",
          "text": [
            "    122/200      2.58G      2.279      2.222       1.74        105        640: 100%|██████████| 128/128 [00:12<00:00, 10.58it/s]\n",
            "                 Class     Images  Instances      Box(P          R      mAP50  mAP50-95): 100%|██████████| 19/19 [00:02<00:00,  7.54it/s]"
          ]
        },
        {
          "name": "stdout",
          "output_type": "stream",
          "text": [
            "                   all        591       4014      0.273      0.254      0.201     0.0813\n"
          ]
        },
        {
          "name": "stderr",
          "output_type": "stream",
          "text": [
            "\n"
          ]
        },
        {
          "name": "stdout",
          "output_type": "stream",
          "text": [
            "\n",
            "      Epoch    GPU_mem   box_loss   cls_loss   dfl_loss  Instances       Size\n"
          ]
        },
        {
          "name": "stderr",
          "output_type": "stream",
          "text": [
            "    123/200      2.39G      2.274      2.203      1.727         94        640: 100%|██████████| 128/128 [00:12<00:00, 10.51it/s]\n",
            "                 Class     Images  Instances      Box(P          R      mAP50  mAP50-95): 100%|██████████| 19/19 [00:02<00:00,  7.58it/s]"
          ]
        },
        {
          "name": "stdout",
          "output_type": "stream",
          "text": [
            "                   all        591       4014      0.297      0.232      0.194     0.0792\n"
          ]
        },
        {
          "name": "stderr",
          "output_type": "stream",
          "text": [
            "\n"
          ]
        },
        {
          "name": "stdout",
          "output_type": "stream",
          "text": [
            "\n",
            "      Epoch    GPU_mem   box_loss   cls_loss   dfl_loss  Instances       Size\n"
          ]
        },
        {
          "name": "stderr",
          "output_type": "stream",
          "text": [
            "    124/200      3.03G      2.271      2.178      1.714        151        640: 100%|██████████| 128/128 [00:12<00:00, 10.46it/s]\n",
            "                 Class     Images  Instances      Box(P          R      mAP50  mAP50-95): 100%|██████████| 19/19 [00:02<00:00,  7.50it/s]"
          ]
        },
        {
          "name": "stdout",
          "output_type": "stream",
          "text": [
            "                   all        591       4014       0.27      0.266      0.209     0.0875\n"
          ]
        },
        {
          "name": "stderr",
          "output_type": "stream",
          "text": [
            "\n"
          ]
        },
        {
          "name": "stdout",
          "output_type": "stream",
          "text": [
            "\n",
            "      Epoch    GPU_mem   box_loss   cls_loss   dfl_loss  Instances       Size\n"
          ]
        },
        {
          "name": "stderr",
          "output_type": "stream",
          "text": [
            "    125/200      2.97G      2.284      2.203      1.723        111        640: 100%|██████████| 128/128 [00:12<00:00, 10.53it/s]\n",
            "                 Class     Images  Instances      Box(P          R      mAP50  mAP50-95): 100%|██████████| 19/19 [00:02<00:00,  7.50it/s]"
          ]
        },
        {
          "name": "stdout",
          "output_type": "stream",
          "text": [
            "                   all        591       4014      0.251      0.267      0.205      0.079\n"
          ]
        },
        {
          "name": "stderr",
          "output_type": "stream",
          "text": [
            "\n"
          ]
        },
        {
          "name": "stdout",
          "output_type": "stream",
          "text": [
            "\n",
            "      Epoch    GPU_mem   box_loss   cls_loss   dfl_loss  Instances       Size\n"
          ]
        },
        {
          "name": "stderr",
          "output_type": "stream",
          "text": [
            "    126/200      2.87G      2.265      2.203      1.729        109        640: 100%|██████████| 128/128 [00:12<00:00, 10.57it/s]\n",
            "                 Class     Images  Instances      Box(P          R      mAP50  mAP50-95): 100%|██████████| 19/19 [00:02<00:00,  7.53it/s]"
          ]
        },
        {
          "name": "stdout",
          "output_type": "stream",
          "text": [
            "                   all        591       4014      0.271      0.261      0.198     0.0763\n"
          ]
        },
        {
          "name": "stderr",
          "output_type": "stream",
          "text": [
            "\n"
          ]
        },
        {
          "name": "stdout",
          "output_type": "stream",
          "text": [
            "\n",
            "      Epoch    GPU_mem   box_loss   cls_loss   dfl_loss  Instances       Size\n"
          ]
        },
        {
          "name": "stderr",
          "output_type": "stream",
          "text": [
            "    127/200      2.89G      2.269      2.167      1.696        151        640: 100%|██████████| 128/128 [00:12<00:00, 10.48it/s]\n",
            "                 Class     Images  Instances      Box(P          R      mAP50  mAP50-95): 100%|██████████| 19/19 [00:02<00:00,  7.52it/s]"
          ]
        },
        {
          "name": "stdout",
          "output_type": "stream",
          "text": [
            "                   all        591       4014      0.258      0.273      0.227     0.0965\n"
          ]
        },
        {
          "name": "stderr",
          "output_type": "stream",
          "text": [
            "\n"
          ]
        },
        {
          "name": "stdout",
          "output_type": "stream",
          "text": [
            "\n",
            "      Epoch    GPU_mem   box_loss   cls_loss   dfl_loss  Instances       Size\n"
          ]
        },
        {
          "name": "stderr",
          "output_type": "stream",
          "text": [
            "    128/200      2.52G      2.248       2.18      1.707        110        640: 100%|██████████| 128/128 [00:12<00:00, 10.56it/s]\n",
            "                 Class     Images  Instances      Box(P          R      mAP50  mAP50-95): 100%|██████████| 19/19 [00:02<00:00,  7.55it/s]"
          ]
        },
        {
          "name": "stdout",
          "output_type": "stream",
          "text": [
            "                   all        591       4014        0.3      0.265      0.229      0.101\n"
          ]
        },
        {
          "name": "stderr",
          "output_type": "stream",
          "text": [
            "\n"
          ]
        },
        {
          "name": "stdout",
          "output_type": "stream",
          "text": [
            "\n",
            "      Epoch    GPU_mem   box_loss   cls_loss   dfl_loss  Instances       Size\n"
          ]
        },
        {
          "name": "stderr",
          "output_type": "stream",
          "text": [
            "    129/200      2.76G      2.252      2.176      1.697        171        640: 100%|██████████| 128/128 [00:12<00:00, 10.57it/s]\n",
            "                 Class     Images  Instances      Box(P          R      mAP50  mAP50-95): 100%|██████████| 19/19 [00:02<00:00,  7.64it/s]"
          ]
        },
        {
          "name": "stdout",
          "output_type": "stream",
          "text": [
            "                   all        591       4014      0.257      0.279      0.212     0.0895\n"
          ]
        },
        {
          "name": "stderr",
          "output_type": "stream",
          "text": [
            "\n"
          ]
        },
        {
          "name": "stdout",
          "output_type": "stream",
          "text": [
            "\n",
            "      Epoch    GPU_mem   box_loss   cls_loss   dfl_loss  Instances       Size\n"
          ]
        },
        {
          "name": "stderr",
          "output_type": "stream",
          "text": [
            "    130/200      2.67G      2.252      2.179      1.715        210        640: 100%|██████████| 128/128 [00:12<00:00, 10.59it/s]\n",
            "                 Class     Images  Instances      Box(P          R      mAP50  mAP50-95): 100%|██████████| 19/19 [00:02<00:00,  7.51it/s]"
          ]
        },
        {
          "name": "stdout",
          "output_type": "stream",
          "text": [
            "                   all        591       4014      0.238      0.327      0.197      0.074\n"
          ]
        },
        {
          "name": "stderr",
          "output_type": "stream",
          "text": [
            "\n"
          ]
        },
        {
          "name": "stdout",
          "output_type": "stream",
          "text": [
            "\n",
            "      Epoch    GPU_mem   box_loss   cls_loss   dfl_loss  Instances       Size\n"
          ]
        },
        {
          "name": "stderr",
          "output_type": "stream",
          "text": [
            "    131/200      2.71G      2.259      2.151      1.704        131        640: 100%|██████████| 128/128 [00:12<00:00, 10.52it/s]\n",
            "                 Class     Images  Instances      Box(P          R      mAP50  mAP50-95): 100%|██████████| 19/19 [00:02<00:00,  7.56it/s]"
          ]
        },
        {
          "name": "stdout",
          "output_type": "stream",
          "text": [
            "                   all        591       4014      0.294      0.255      0.206     0.0833\n"
          ]
        },
        {
          "name": "stderr",
          "output_type": "stream",
          "text": [
            "\n"
          ]
        },
        {
          "name": "stdout",
          "output_type": "stream",
          "text": [
            "\n",
            "      Epoch    GPU_mem   box_loss   cls_loss   dfl_loss  Instances       Size\n"
          ]
        },
        {
          "name": "stderr",
          "output_type": "stream",
          "text": [
            "    132/200      2.52G      2.272      2.166      1.711        156        640: 100%|██████████| 128/128 [00:12<00:00, 10.54it/s]\n",
            "                 Class     Images  Instances      Box(P          R      mAP50  mAP50-95): 100%|██████████| 19/19 [00:02<00:00,  7.07it/s]"
          ]
        },
        {
          "name": "stdout",
          "output_type": "stream",
          "text": [
            "                   all        591       4014      0.265      0.259      0.207      0.085\n"
          ]
        },
        {
          "name": "stderr",
          "output_type": "stream",
          "text": [
            "\n"
          ]
        },
        {
          "name": "stdout",
          "output_type": "stream",
          "text": [
            "\n",
            "      Epoch    GPU_mem   box_loss   cls_loss   dfl_loss  Instances       Size\n"
          ]
        },
        {
          "name": "stderr",
          "output_type": "stream",
          "text": [
            "    133/200      2.96G      2.237      2.147      1.708        182        640: 100%|██████████| 128/128 [00:12<00:00, 10.58it/s]\n",
            "                 Class     Images  Instances      Box(P          R      mAP50  mAP50-95): 100%|██████████| 19/19 [00:02<00:00,  7.71it/s]"
          ]
        },
        {
          "name": "stdout",
          "output_type": "stream",
          "text": [
            "                   all        591       4014      0.292      0.261      0.211     0.0829\n"
          ]
        },
        {
          "name": "stderr",
          "output_type": "stream",
          "text": [
            "\n"
          ]
        },
        {
          "name": "stdout",
          "output_type": "stream",
          "text": [
            "\n",
            "      Epoch    GPU_mem   box_loss   cls_loss   dfl_loss  Instances       Size\n"
          ]
        },
        {
          "name": "stderr",
          "output_type": "stream",
          "text": [
            "    134/200      2.46G      2.247      2.179      1.721        230        640: 100%|██████████| 128/128 [00:29<00:00,  4.32it/s]\n",
            "                 Class     Images  Instances      Box(P          R      mAP50  mAP50-95): 100%|██████████| 19/19 [00:02<00:00,  7.45it/s]"
          ]
        },
        {
          "name": "stdout",
          "output_type": "stream",
          "text": [
            "                   all        591       4014      0.222      0.284      0.197      0.075\n"
          ]
        },
        {
          "name": "stderr",
          "output_type": "stream",
          "text": [
            "\n"
          ]
        },
        {
          "name": "stdout",
          "output_type": "stream",
          "text": [
            "\n",
            "      Epoch    GPU_mem   box_loss   cls_loss   dfl_loss  Instances       Size\n"
          ]
        },
        {
          "name": "stderr",
          "output_type": "stream",
          "text": [
            "    135/200      2.42G      2.231      2.137      1.695        236        640: 100%|██████████| 128/128 [00:12<00:00, 10.54it/s]\n",
            "                 Class     Images  Instances      Box(P          R      mAP50  mAP50-95): 100%|██████████| 19/19 [00:02<00:00,  7.38it/s]"
          ]
        },
        {
          "name": "stdout",
          "output_type": "stream",
          "text": [
            "                   all        591       4014      0.279      0.252      0.197     0.0734\n"
          ]
        },
        {
          "name": "stderr",
          "output_type": "stream",
          "text": [
            "\n"
          ]
        },
        {
          "name": "stdout",
          "output_type": "stream",
          "text": [
            "\n",
            "      Epoch    GPU_mem   box_loss   cls_loss   dfl_loss  Instances       Size\n"
          ]
        },
        {
          "name": "stderr",
          "output_type": "stream",
          "text": [
            "    136/200      2.74G      2.253      2.152      1.705        179        640: 100%|██████████| 128/128 [00:12<00:00, 10.66it/s]\n",
            "                 Class     Images  Instances      Box(P          R      mAP50  mAP50-95): 100%|██████████| 19/19 [00:02<00:00,  6.93it/s]"
          ]
        },
        {
          "name": "stdout",
          "output_type": "stream",
          "text": [
            "                   all        591       4014      0.299      0.248      0.205     0.0812\n"
          ]
        },
        {
          "name": "stderr",
          "output_type": "stream",
          "text": [
            "\n"
          ]
        },
        {
          "name": "stdout",
          "output_type": "stream",
          "text": [
            "\n",
            "      Epoch    GPU_mem   box_loss   cls_loss   dfl_loss  Instances       Size\n"
          ]
        },
        {
          "name": "stderr",
          "output_type": "stream",
          "text": [
            "    137/200      2.52G      2.253      2.139      1.699         77        640: 100%|██████████| 128/128 [00:21<00:00,  6.07it/s]\n",
            "                 Class     Images  Instances      Box(P          R      mAP50  mAP50-95): 100%|██████████| 19/19 [00:02<00:00,  7.38it/s]"
          ]
        },
        {
          "name": "stdout",
          "output_type": "stream",
          "text": [
            "                   all        591       4014      0.302      0.256      0.205     0.0761\n"
          ]
        },
        {
          "name": "stderr",
          "output_type": "stream",
          "text": [
            "\n"
          ]
        },
        {
          "name": "stdout",
          "output_type": "stream",
          "text": [
            "\n",
            "      Epoch    GPU_mem   box_loss   cls_loss   dfl_loss  Instances       Size\n"
          ]
        },
        {
          "name": "stderr",
          "output_type": "stream",
          "text": [
            "    138/200      2.62G      2.233      2.131      1.699        201        640: 100%|██████████| 128/128 [00:12<00:00, 10.41it/s]\n",
            "                 Class     Images  Instances      Box(P          R      mAP50  mAP50-95): 100%|██████████| 19/19 [00:02<00:00,  7.19it/s]"
          ]
        },
        {
          "name": "stdout",
          "output_type": "stream",
          "text": [
            "                   all        591       4014      0.262      0.271      0.204     0.0853\n"
          ]
        },
        {
          "name": "stderr",
          "output_type": "stream",
          "text": [
            "\n"
          ]
        },
        {
          "name": "stdout",
          "output_type": "stream",
          "text": [
            "\n",
            "      Epoch    GPU_mem   box_loss   cls_loss   dfl_loss  Instances       Size\n"
          ]
        },
        {
          "name": "stderr",
          "output_type": "stream",
          "text": [
            "    139/200      2.83G       2.23      2.103      1.693        139        640: 100%|██████████| 128/128 [00:12<00:00, 10.44it/s]\n",
            "                 Class     Images  Instances      Box(P          R      mAP50  mAP50-95): 100%|██████████| 19/19 [00:02<00:00,  7.39it/s]"
          ]
        },
        {
          "name": "stdout",
          "output_type": "stream",
          "text": [
            "                   all        591       4014      0.295      0.255      0.199     0.0817\n"
          ]
        },
        {
          "name": "stderr",
          "output_type": "stream",
          "text": [
            "\n"
          ]
        },
        {
          "name": "stdout",
          "output_type": "stream",
          "text": [
            "\n",
            "      Epoch    GPU_mem   box_loss   cls_loss   dfl_loss  Instances       Size\n"
          ]
        },
        {
          "name": "stderr",
          "output_type": "stream",
          "text": [
            "    140/200      2.95G      2.242      2.126      1.691        117        640: 100%|██████████| 128/128 [00:12<00:00, 10.48it/s]\n",
            "                 Class     Images  Instances      Box(P          R      mAP50  mAP50-95): 100%|██████████| 19/19 [00:02<00:00,  7.58it/s]"
          ]
        },
        {
          "name": "stdout",
          "output_type": "stream",
          "text": [
            "                   all        591       4014      0.264      0.276      0.205     0.0822\n"
          ]
        },
        {
          "name": "stderr",
          "output_type": "stream",
          "text": [
            "\n"
          ]
        },
        {
          "name": "stdout",
          "output_type": "stream",
          "text": [
            "\n",
            "      Epoch    GPU_mem   box_loss   cls_loss   dfl_loss  Instances       Size\n"
          ]
        },
        {
          "name": "stderr",
          "output_type": "stream",
          "text": [
            "    141/200      2.56G      2.244       2.15      1.704        104        640: 100%|██████████| 128/128 [00:12<00:00, 10.44it/s]\n",
            "                 Class     Images  Instances      Box(P          R      mAP50  mAP50-95): 100%|██████████| 19/19 [00:02<00:00,  7.58it/s]"
          ]
        },
        {
          "name": "stdout",
          "output_type": "stream",
          "text": [
            "                   all        591       4014      0.276      0.259      0.202     0.0817\n"
          ]
        },
        {
          "name": "stderr",
          "output_type": "stream",
          "text": [
            "\n"
          ]
        },
        {
          "name": "stdout",
          "output_type": "stream",
          "text": [
            "\n",
            "      Epoch    GPU_mem   box_loss   cls_loss   dfl_loss  Instances       Size\n"
          ]
        },
        {
          "name": "stderr",
          "output_type": "stream",
          "text": [
            "    142/200      2.34G      2.218       2.13      1.693         84        640: 100%|██████████| 128/128 [00:12<00:00, 10.45it/s]\n",
            "                 Class     Images  Instances      Box(P          R      mAP50  mAP50-95): 100%|██████████| 19/19 [00:02<00:00,  7.45it/s]"
          ]
        },
        {
          "name": "stdout",
          "output_type": "stream",
          "text": [
            "                   all        591       4014      0.248      0.245      0.196      0.077\n"
          ]
        },
        {
          "name": "stderr",
          "output_type": "stream",
          "text": [
            "\n"
          ]
        },
        {
          "name": "stdout",
          "output_type": "stream",
          "text": [
            "\n",
            "      Epoch    GPU_mem   box_loss   cls_loss   dfl_loss  Instances       Size\n"
          ]
        },
        {
          "name": "stderr",
          "output_type": "stream",
          "text": [
            "    143/200      2.44G      2.215      2.104      1.684        120        640: 100%|██████████| 128/128 [00:12<00:00, 10.48it/s]\n",
            "                 Class     Images  Instances      Box(P          R      mAP50  mAP50-95): 100%|██████████| 19/19 [00:02<00:00,  7.53it/s]"
          ]
        },
        {
          "name": "stdout",
          "output_type": "stream",
          "text": [
            "                   all        591       4014       0.29      0.246      0.197      0.077\n"
          ]
        },
        {
          "name": "stderr",
          "output_type": "stream",
          "text": [
            "\n"
          ]
        },
        {
          "name": "stdout",
          "output_type": "stream",
          "text": [
            "\n",
            "      Epoch    GPU_mem   box_loss   cls_loss   dfl_loss  Instances       Size\n"
          ]
        },
        {
          "name": "stderr",
          "output_type": "stream",
          "text": [
            "    144/200      2.48G      2.237      2.122      1.691        104        640: 100%|██████████| 128/128 [00:12<00:00, 10.51it/s]\n",
            "                 Class     Images  Instances      Box(P          R      mAP50  mAP50-95): 100%|██████████| 19/19 [00:02<00:00,  7.59it/s]"
          ]
        },
        {
          "name": "stdout",
          "output_type": "stream",
          "text": [
            "                   all        591       4014      0.298      0.252      0.214     0.0865\n"
          ]
        },
        {
          "name": "stderr",
          "output_type": "stream",
          "text": [
            "\n"
          ]
        },
        {
          "name": "stdout",
          "output_type": "stream",
          "text": [
            "\n",
            "      Epoch    GPU_mem   box_loss   cls_loss   dfl_loss  Instances       Size\n"
          ]
        },
        {
          "name": "stderr",
          "output_type": "stream",
          "text": [
            "    145/200      2.31G      2.195      2.086      1.663        177        640: 100%|██████████| 128/128 [00:12<00:00, 10.60it/s]\n",
            "                 Class     Images  Instances      Box(P          R      mAP50  mAP50-95): 100%|██████████| 19/19 [00:02<00:00,  7.57it/s]"
          ]
        },
        {
          "name": "stdout",
          "output_type": "stream",
          "text": [
            "                   all        591       4014      0.314      0.238        0.2     0.0819\n"
          ]
        },
        {
          "name": "stderr",
          "output_type": "stream",
          "text": [
            "\n"
          ]
        },
        {
          "name": "stdout",
          "output_type": "stream",
          "text": [
            "\n",
            "      Epoch    GPU_mem   box_loss   cls_loss   dfl_loss  Instances       Size\n"
          ]
        },
        {
          "name": "stderr",
          "output_type": "stream",
          "text": [
            "    146/200      2.95G      2.219      2.103      1.673        117        640: 100%|██████████| 128/128 [00:12<00:00, 10.53it/s]\n",
            "                 Class     Images  Instances      Box(P          R      mAP50  mAP50-95): 100%|██████████| 19/19 [00:02<00:00,  7.54it/s]"
          ]
        },
        {
          "name": "stdout",
          "output_type": "stream",
          "text": [
            "                   all        591       4014      0.248      0.274        0.2     0.0789\n"
          ]
        },
        {
          "name": "stderr",
          "output_type": "stream",
          "text": [
            "\n"
          ]
        },
        {
          "name": "stdout",
          "output_type": "stream",
          "text": [
            "\n",
            "      Epoch    GPU_mem   box_loss   cls_loss   dfl_loss  Instances       Size\n"
          ]
        },
        {
          "name": "stderr",
          "output_type": "stream",
          "text": [
            "    147/200      2.59G      2.231       2.13      1.688         98        640: 100%|██████████| 128/128 [00:12<00:00, 10.51it/s]\n",
            "                 Class     Images  Instances      Box(P          R      mAP50  mAP50-95): 100%|██████████| 19/19 [00:02<00:00,  7.58it/s]"
          ]
        },
        {
          "name": "stdout",
          "output_type": "stream",
          "text": [
            "                   all        591       4014      0.315      0.247      0.233      0.103\n"
          ]
        },
        {
          "name": "stderr",
          "output_type": "stream",
          "text": [
            "\n"
          ]
        },
        {
          "name": "stdout",
          "output_type": "stream",
          "text": [
            "\n",
            "      Epoch    GPU_mem   box_loss   cls_loss   dfl_loss  Instances       Size\n"
          ]
        },
        {
          "name": "stderr",
          "output_type": "stream",
          "text": [
            "    148/200      2.66G      2.175      2.095       1.68        123        640: 100%|██████████| 128/128 [00:12<00:00, 10.57it/s]\n",
            "                 Class     Images  Instances      Box(P          R      mAP50  mAP50-95): 100%|██████████| 19/19 [00:02<00:00,  7.65it/s]"
          ]
        },
        {
          "name": "stdout",
          "output_type": "stream",
          "text": [
            "                   all        591       4014      0.279      0.259      0.202     0.0791\n"
          ]
        },
        {
          "name": "stderr",
          "output_type": "stream",
          "text": [
            "\n"
          ]
        },
        {
          "name": "stdout",
          "output_type": "stream",
          "text": [
            "\n",
            "      Epoch    GPU_mem   box_loss   cls_loss   dfl_loss  Instances       Size\n"
          ]
        },
        {
          "name": "stderr",
          "output_type": "stream",
          "text": [
            "    149/200      2.45G      2.206      2.067      1.663        157        640: 100%|██████████| 128/128 [00:12<00:00, 10.50it/s]\n",
            "                 Class     Images  Instances      Box(P          R      mAP50  mAP50-95): 100%|██████████| 19/19 [00:02<00:00,  7.60it/s]"
          ]
        },
        {
          "name": "stdout",
          "output_type": "stream",
          "text": [
            "                   all        591       4014      0.227      0.331      0.204     0.0802\n"
          ]
        },
        {
          "name": "stderr",
          "output_type": "stream",
          "text": [
            "\n"
          ]
        },
        {
          "name": "stdout",
          "output_type": "stream",
          "text": [
            "\n",
            "      Epoch    GPU_mem   box_loss   cls_loss   dfl_loss  Instances       Size\n"
          ]
        },
        {
          "name": "stderr",
          "output_type": "stream",
          "text": [
            "    150/200      2.61G      2.205      2.082      1.665        146        640: 100%|██████████| 128/128 [00:12<00:00, 10.56it/s]\n",
            "                 Class     Images  Instances      Box(P          R      mAP50  mAP50-95): 100%|██████████| 19/19 [00:02<00:00,  7.60it/s]"
          ]
        },
        {
          "name": "stdout",
          "output_type": "stream",
          "text": [
            "                   all        591       4014      0.259      0.309      0.203     0.0819\n"
          ]
        },
        {
          "name": "stderr",
          "output_type": "stream",
          "text": [
            "\n"
          ]
        },
        {
          "name": "stdout",
          "output_type": "stream",
          "text": [
            "\n",
            "      Epoch    GPU_mem   box_loss   cls_loss   dfl_loss  Instances       Size\n"
          ]
        },
        {
          "name": "stderr",
          "output_type": "stream",
          "text": [
            "    151/200      2.81G      2.202      2.091      1.682        190        640: 100%|██████████| 128/128 [00:12<00:00, 10.52it/s]\n",
            "                 Class     Images  Instances      Box(P          R      mAP50  mAP50-95): 100%|██████████| 19/19 [00:02<00:00,  7.66it/s]"
          ]
        },
        {
          "name": "stdout",
          "output_type": "stream",
          "text": [
            "                   all        591       4014      0.278      0.252      0.195     0.0769\n"
          ]
        },
        {
          "name": "stderr",
          "output_type": "stream",
          "text": [
            "\n"
          ]
        },
        {
          "name": "stdout",
          "output_type": "stream",
          "text": [
            "\n",
            "      Epoch    GPU_mem   box_loss   cls_loss   dfl_loss  Instances       Size\n"
          ]
        },
        {
          "name": "stderr",
          "output_type": "stream",
          "text": [
            "    152/200      2.53G      2.209      2.088      1.686        127        640: 100%|██████████| 128/128 [00:12<00:00, 10.51it/s]\n",
            "                 Class     Images  Instances      Box(P          R      mAP50  mAP50-95): 100%|██████████| 19/19 [00:02<00:00,  7.59it/s]"
          ]
        },
        {
          "name": "stdout",
          "output_type": "stream",
          "text": [
            "                   all        591       4014      0.319      0.248      0.204     0.0788\n"
          ]
        },
        {
          "name": "stderr",
          "output_type": "stream",
          "text": [
            "\n"
          ]
        },
        {
          "name": "stdout",
          "output_type": "stream",
          "text": [
            "\n",
            "      Epoch    GPU_mem   box_loss   cls_loss   dfl_loss  Instances       Size\n"
          ]
        },
        {
          "name": "stderr",
          "output_type": "stream",
          "text": [
            "    153/200       2.7G       2.21      2.105      1.683        181        640: 100%|██████████| 128/128 [00:12<00:00, 10.50it/s]\n",
            "                 Class     Images  Instances      Box(P          R      mAP50  mAP50-95): 100%|██████████| 19/19 [00:02<00:00,  7.54it/s]"
          ]
        },
        {
          "name": "stdout",
          "output_type": "stream",
          "text": [
            "                   all        591       4014      0.289      0.236      0.201      0.079\n"
          ]
        },
        {
          "name": "stderr",
          "output_type": "stream",
          "text": [
            "\n"
          ]
        },
        {
          "name": "stdout",
          "output_type": "stream",
          "text": [
            "\n",
            "      Epoch    GPU_mem   box_loss   cls_loss   dfl_loss  Instances       Size\n"
          ]
        },
        {
          "name": "stderr",
          "output_type": "stream",
          "text": [
            "    154/200      2.64G      2.211      2.069      1.671        161        640: 100%|██████████| 128/128 [00:12<00:00, 10.49it/s]\n",
            "                 Class     Images  Instances      Box(P          R      mAP50  mAP50-95): 100%|██████████| 19/19 [00:02<00:00,  7.54it/s]"
          ]
        },
        {
          "name": "stdout",
          "output_type": "stream",
          "text": [
            "                   all        591       4014      0.312      0.248       0.21     0.0805\n"
          ]
        },
        {
          "name": "stderr",
          "output_type": "stream",
          "text": [
            "\n"
          ]
        },
        {
          "name": "stdout",
          "output_type": "stream",
          "text": [
            "\n",
            "      Epoch    GPU_mem   box_loss   cls_loss   dfl_loss  Instances       Size\n"
          ]
        },
        {
          "name": "stderr",
          "output_type": "stream",
          "text": [
            "    155/200      2.87G      2.225      2.063      1.666        232        640: 100%|██████████| 128/128 [00:12<00:00, 10.48it/s]\n",
            "                 Class     Images  Instances      Box(P          R      mAP50  mAP50-95): 100%|██████████| 19/19 [00:02<00:00,  7.59it/s]"
          ]
        },
        {
          "name": "stdout",
          "output_type": "stream",
          "text": [
            "                   all        591       4014      0.312       0.24        0.2     0.0801\n"
          ]
        },
        {
          "name": "stderr",
          "output_type": "stream",
          "text": [
            "\n"
          ]
        },
        {
          "name": "stdout",
          "output_type": "stream",
          "text": [
            "\n",
            "      Epoch    GPU_mem   box_loss   cls_loss   dfl_loss  Instances       Size\n"
          ]
        },
        {
          "name": "stderr",
          "output_type": "stream",
          "text": [
            "    156/200      2.86G      2.191      2.079      1.672        165        640: 100%|██████████| 128/128 [00:12<00:00, 10.54it/s]\n",
            "                 Class     Images  Instances      Box(P          R      mAP50  mAP50-95): 100%|██████████| 19/19 [00:02<00:00,  7.69it/s]"
          ]
        },
        {
          "name": "stdout",
          "output_type": "stream",
          "text": [
            "                   all        591       4014      0.283       0.26      0.212     0.0827\n"
          ]
        },
        {
          "name": "stderr",
          "output_type": "stream",
          "text": [
            "\n"
          ]
        },
        {
          "name": "stdout",
          "output_type": "stream",
          "text": [
            "\n",
            "      Epoch    GPU_mem   box_loss   cls_loss   dfl_loss  Instances       Size\n"
          ]
        },
        {
          "name": "stderr",
          "output_type": "stream",
          "text": [
            "    157/200      2.73G      2.196      2.089       1.68        101        640: 100%|██████████| 128/128 [00:12<00:00, 10.56it/s]\n",
            "                 Class     Images  Instances      Box(P          R      mAP50  mAP50-95): 100%|██████████| 19/19 [00:02<00:00,  7.64it/s]"
          ]
        },
        {
          "name": "stdout",
          "output_type": "stream",
          "text": [
            "                   all        591       4014      0.297      0.247      0.203      0.081\n"
          ]
        },
        {
          "name": "stderr",
          "output_type": "stream",
          "text": [
            "\n"
          ]
        },
        {
          "name": "stdout",
          "output_type": "stream",
          "text": [
            "\n",
            "      Epoch    GPU_mem   box_loss   cls_loss   dfl_loss  Instances       Size\n"
          ]
        },
        {
          "name": "stderr",
          "output_type": "stream",
          "text": [
            "    158/200      2.54G      2.219      2.046      1.664        289        640: 100%|██████████| 128/128 [00:12<00:00, 10.49it/s]\n",
            "                 Class     Images  Instances      Box(P          R      mAP50  mAP50-95): 100%|██████████| 19/19 [00:02<00:00,  7.56it/s]"
          ]
        },
        {
          "name": "stdout",
          "output_type": "stream",
          "text": [
            "                   all        591       4014      0.281      0.261      0.198     0.0781\n"
          ]
        },
        {
          "name": "stderr",
          "output_type": "stream",
          "text": [
            "\n"
          ]
        },
        {
          "name": "stdout",
          "output_type": "stream",
          "text": [
            "\n",
            "      Epoch    GPU_mem   box_loss   cls_loss   dfl_loss  Instances       Size\n"
          ]
        },
        {
          "name": "stderr",
          "output_type": "stream",
          "text": [
            "    159/200      2.46G      2.204      2.065      1.671        199        640: 100%|██████████| 128/128 [00:12<00:00, 10.47it/s]\n",
            "                 Class     Images  Instances      Box(P          R      mAP50  mAP50-95): 100%|██████████| 19/19 [00:02<00:00,  7.56it/s]"
          ]
        },
        {
          "name": "stdout",
          "output_type": "stream",
          "text": [
            "                   all        591       4014      0.291      0.255      0.204     0.0798\n"
          ]
        },
        {
          "name": "stderr",
          "output_type": "stream",
          "text": [
            "\n"
          ]
        },
        {
          "name": "stdout",
          "output_type": "stream",
          "text": [
            "\n",
            "      Epoch    GPU_mem   box_loss   cls_loss   dfl_loss  Instances       Size\n"
          ]
        },
        {
          "name": "stderr",
          "output_type": "stream",
          "text": [
            "    160/200      2.67G      2.208      2.043       1.66        186        640: 100%|██████████| 128/128 [00:12<00:00, 10.55it/s]\n",
            "                 Class     Images  Instances      Box(P          R      mAP50  mAP50-95): 100%|██████████| 19/19 [00:02<00:00,  7.62it/s]"
          ]
        },
        {
          "name": "stdout",
          "output_type": "stream",
          "text": [
            "                   all        591       4014      0.284      0.253      0.204     0.0805\n"
          ]
        },
        {
          "name": "stderr",
          "output_type": "stream",
          "text": [
            "\n"
          ]
        },
        {
          "name": "stdout",
          "output_type": "stream",
          "text": [
            "\n",
            "      Epoch    GPU_mem   box_loss   cls_loss   dfl_loss  Instances       Size\n"
          ]
        },
        {
          "name": "stderr",
          "output_type": "stream",
          "text": [
            "    161/200      2.74G      2.211      2.073      1.661         98        640: 100%|██████████| 128/128 [00:12<00:00, 10.48it/s]\n",
            "                 Class     Images  Instances      Box(P          R      mAP50  mAP50-95): 100%|██████████| 19/19 [00:02<00:00,  7.60it/s]"
          ]
        },
        {
          "name": "stdout",
          "output_type": "stream",
          "text": [
            "                   all        591       4014      0.283      0.259      0.235      0.103\n"
          ]
        },
        {
          "name": "stderr",
          "output_type": "stream",
          "text": [
            "\n"
          ]
        },
        {
          "name": "stdout",
          "output_type": "stream",
          "text": [
            "\n",
            "      Epoch    GPU_mem   box_loss   cls_loss   dfl_loss  Instances       Size\n"
          ]
        },
        {
          "name": "stderr",
          "output_type": "stream",
          "text": [
            "    162/200      2.94G      2.182      2.032      1.667        158        640: 100%|██████████| 128/128 [00:12<00:00, 10.53it/s]\n",
            "                 Class     Images  Instances      Box(P          R      mAP50  mAP50-95): 100%|██████████| 19/19 [00:02<00:00,  7.60it/s]"
          ]
        },
        {
          "name": "stdout",
          "output_type": "stream",
          "text": [
            "                   all        591       4014      0.274      0.269      0.233      0.101\n"
          ]
        },
        {
          "name": "stderr",
          "output_type": "stream",
          "text": [
            "\n"
          ]
        },
        {
          "name": "stdout",
          "output_type": "stream",
          "text": [
            "\n",
            "      Epoch    GPU_mem   box_loss   cls_loss   dfl_loss  Instances       Size\n"
          ]
        },
        {
          "name": "stderr",
          "output_type": "stream",
          "text": [
            "    163/200      2.85G      2.198      2.046      1.659        159        640: 100%|██████████| 128/128 [00:12<00:00, 10.55it/s]\n",
            "                 Class     Images  Instances      Box(P          R      mAP50  mAP50-95): 100%|██████████| 19/19 [00:02<00:00,  7.65it/s]"
          ]
        },
        {
          "name": "stdout",
          "output_type": "stream",
          "text": [
            "                   all        591       4014       0.28      0.249      0.215       0.09\n"
          ]
        },
        {
          "name": "stderr",
          "output_type": "stream",
          "text": [
            "\n"
          ]
        },
        {
          "name": "stdout",
          "output_type": "stream",
          "text": [
            "\n",
            "      Epoch    GPU_mem   box_loss   cls_loss   dfl_loss  Instances       Size\n"
          ]
        },
        {
          "name": "stderr",
          "output_type": "stream",
          "text": [
            "    164/200      2.95G      2.182      2.038      1.654        105        640: 100%|██████████| 128/128 [00:12<00:00, 10.50it/s]\n",
            "                 Class     Images  Instances      Box(P          R      mAP50  mAP50-95): 100%|██████████| 19/19 [00:02<00:00,  7.58it/s]"
          ]
        },
        {
          "name": "stdout",
          "output_type": "stream",
          "text": [
            "                   all        591       4014       0.29      0.247      0.212     0.0848\n"
          ]
        },
        {
          "name": "stderr",
          "output_type": "stream",
          "text": [
            "\n"
          ]
        },
        {
          "name": "stdout",
          "output_type": "stream",
          "text": [
            "\n",
            "      Epoch    GPU_mem   box_loss   cls_loss   dfl_loss  Instances       Size\n"
          ]
        },
        {
          "name": "stderr",
          "output_type": "stream",
          "text": [
            "    165/200      2.55G      2.194      2.055      1.662        169        640: 100%|██████████| 128/128 [00:12<00:00, 10.48it/s]\n",
            "                 Class     Images  Instances      Box(P          R      mAP50  mAP50-95): 100%|██████████| 19/19 [00:02<00:00,  7.61it/s]"
          ]
        },
        {
          "name": "stdout",
          "output_type": "stream",
          "text": [
            "                   all        591       4014      0.291       0.25      0.211     0.0885\n"
          ]
        },
        {
          "name": "stderr",
          "output_type": "stream",
          "text": [
            "\n"
          ]
        },
        {
          "name": "stdout",
          "output_type": "stream",
          "text": [
            "\n",
            "      Epoch    GPU_mem   box_loss   cls_loss   dfl_loss  Instances       Size\n"
          ]
        },
        {
          "name": "stderr",
          "output_type": "stream",
          "text": [
            "    166/200      2.43G      2.173       2.02      1.649        113        640: 100%|██████████| 128/128 [00:12<00:00, 10.50it/s]\n",
            "                 Class     Images  Instances      Box(P          R      mAP50  mAP50-95): 100%|██████████| 19/19 [00:02<00:00,  7.60it/s]"
          ]
        },
        {
          "name": "stdout",
          "output_type": "stream",
          "text": [
            "                   all        591       4014       0.29       0.25      0.209     0.0865\n"
          ]
        },
        {
          "name": "stderr",
          "output_type": "stream",
          "text": [
            "\n"
          ]
        },
        {
          "name": "stdout",
          "output_type": "stream",
          "text": [
            "\n",
            "      Epoch    GPU_mem   box_loss   cls_loss   dfl_loss  Instances       Size\n"
          ]
        },
        {
          "name": "stderr",
          "output_type": "stream",
          "text": [
            "    167/200      2.39G      2.172      2.031      1.655         97        640: 100%|██████████| 128/128 [00:12<00:00, 10.49it/s]\n",
            "                 Class     Images  Instances      Box(P          R      mAP50  mAP50-95): 100%|██████████| 19/19 [00:02<00:00,  7.58it/s]"
          ]
        },
        {
          "name": "stdout",
          "output_type": "stream",
          "text": [
            "                   all        591       4014       0.29      0.255      0.197       0.08\n"
          ]
        },
        {
          "name": "stderr",
          "output_type": "stream",
          "text": [
            "\n"
          ]
        },
        {
          "name": "stdout",
          "output_type": "stream",
          "text": [
            "\n",
            "      Epoch    GPU_mem   box_loss   cls_loss   dfl_loss  Instances       Size\n"
          ]
        },
        {
          "name": "stderr",
          "output_type": "stream",
          "text": [
            "    168/200      2.71G      2.157      2.003      1.643        165        640: 100%|██████████| 128/128 [00:12<00:00, 10.55it/s]\n",
            "                 Class     Images  Instances      Box(P          R      mAP50  mAP50-95): 100%|██████████| 19/19 [00:02<00:00,  7.66it/s]"
          ]
        },
        {
          "name": "stdout",
          "output_type": "stream",
          "text": [
            "                   all        591       4014      0.295      0.256       0.23      0.101\n"
          ]
        },
        {
          "name": "stderr",
          "output_type": "stream",
          "text": [
            "\n"
          ]
        },
        {
          "name": "stdout",
          "output_type": "stream",
          "text": [
            "\n",
            "      Epoch    GPU_mem   box_loss   cls_loss   dfl_loss  Instances       Size\n"
          ]
        },
        {
          "name": "stderr",
          "output_type": "stream",
          "text": [
            "    169/200      2.59G      2.182      2.044      1.661        204        640: 100%|██████████| 128/128 [00:12<00:00, 10.58it/s]\n",
            "                 Class     Images  Instances      Box(P          R      mAP50  mAP50-95): 100%|██████████| 19/19 [00:02<00:00,  7.64it/s]"
          ]
        },
        {
          "name": "stdout",
          "output_type": "stream",
          "text": [
            "                   all        591       4014      0.298      0.247      0.226     0.0979\n"
          ]
        },
        {
          "name": "stderr",
          "output_type": "stream",
          "text": [
            "\n"
          ]
        },
        {
          "name": "stdout",
          "output_type": "stream",
          "text": [
            "\n",
            "      Epoch    GPU_mem   box_loss   cls_loss   dfl_loss  Instances       Size\n"
          ]
        },
        {
          "name": "stderr",
          "output_type": "stream",
          "text": [
            "    170/200      3.06G      2.162      2.003      1.651        220        640: 100%|██████████| 128/128 [00:12<00:00, 10.54it/s]\n",
            "                 Class     Images  Instances      Box(P          R      mAP50  mAP50-95): 100%|██████████| 19/19 [00:02<00:00,  7.63it/s]"
          ]
        },
        {
          "name": "stdout",
          "output_type": "stream",
          "text": [
            "                   all        591       4014      0.281      0.257      0.234     0.0974\n"
          ]
        },
        {
          "name": "stderr",
          "output_type": "stream",
          "text": [
            "\n"
          ]
        },
        {
          "name": "stdout",
          "output_type": "stream",
          "text": [
            "\n",
            "      Epoch    GPU_mem   box_loss   cls_loss   dfl_loss  Instances       Size\n"
          ]
        },
        {
          "name": "stderr",
          "output_type": "stream",
          "text": [
            "    171/200      2.63G      2.166      2.014      1.657        129        640: 100%|██████████| 128/128 [00:12<00:00, 10.61it/s]\n",
            "                 Class     Images  Instances      Box(P          R      mAP50  mAP50-95): 100%|██████████| 19/19 [00:02<00:00,  7.60it/s]"
          ]
        },
        {
          "name": "stdout",
          "output_type": "stream",
          "text": [
            "                   all        591       4014      0.323      0.238      0.236      0.101\n"
          ]
        },
        {
          "name": "stderr",
          "output_type": "stream",
          "text": [
            "\n"
          ]
        },
        {
          "name": "stdout",
          "output_type": "stream",
          "text": [
            "\n",
            "      Epoch    GPU_mem   box_loss   cls_loss   dfl_loss  Instances       Size\n"
          ]
        },
        {
          "name": "stderr",
          "output_type": "stream",
          "text": [
            "    172/200      2.57G      2.177      2.008       1.64        122        640: 100%|██████████| 128/128 [00:12<00:00, 10.60it/s]\n",
            "                 Class     Images  Instances      Box(P          R      mAP50  mAP50-95): 100%|██████████| 19/19 [00:02<00:00,  7.58it/s]"
          ]
        },
        {
          "name": "stdout",
          "output_type": "stream",
          "text": [
            "                   all        591       4014      0.279      0.268      0.212     0.0861\n"
          ]
        },
        {
          "name": "stderr",
          "output_type": "stream",
          "text": [
            "\n"
          ]
        },
        {
          "name": "stdout",
          "output_type": "stream",
          "text": [
            "\n",
            "      Epoch    GPU_mem   box_loss   cls_loss   dfl_loss  Instances       Size\n"
          ]
        },
        {
          "name": "stderr",
          "output_type": "stream",
          "text": [
            "    173/200      2.42G      2.172      2.007      1.639        114        640: 100%|██████████| 128/128 [00:12<00:00, 10.48it/s]\n",
            "                 Class     Images  Instances      Box(P          R      mAP50  mAP50-95): 100%|██████████| 19/19 [00:02<00:00,  7.52it/s]"
          ]
        },
        {
          "name": "stdout",
          "output_type": "stream",
          "text": [
            "                   all        591       4014      0.315      0.238      0.229     0.0974\n"
          ]
        },
        {
          "name": "stderr",
          "output_type": "stream",
          "text": [
            "\n"
          ]
        },
        {
          "name": "stdout",
          "output_type": "stream",
          "text": [
            "\n",
            "      Epoch    GPU_mem   box_loss   cls_loss   dfl_loss  Instances       Size\n"
          ]
        },
        {
          "name": "stderr",
          "output_type": "stream",
          "text": [
            "    174/200      2.49G      2.171      1.977      1.625        143        640: 100%|██████████| 128/128 [00:12<00:00, 10.56it/s]\n",
            "                 Class     Images  Instances      Box(P          R      mAP50  mAP50-95): 100%|██████████| 19/19 [00:02<00:00,  7.69it/s]"
          ]
        },
        {
          "name": "stdout",
          "output_type": "stream",
          "text": [
            "                   all        591       4014      0.275      0.266       0.23      0.098\n"
          ]
        },
        {
          "name": "stderr",
          "output_type": "stream",
          "text": [
            "\n"
          ]
        },
        {
          "name": "stdout",
          "output_type": "stream",
          "text": [
            "\n",
            "      Epoch    GPU_mem   box_loss   cls_loss   dfl_loss  Instances       Size\n"
          ]
        },
        {
          "name": "stderr",
          "output_type": "stream",
          "text": [
            "    175/200       2.6G      2.169      1.994      1.635        176        640: 100%|██████████| 128/128 [00:12<00:00, 10.54it/s]\n",
            "                 Class     Images  Instances      Box(P          R      mAP50  mAP50-95): 100%|██████████| 19/19 [00:02<00:00,  7.68it/s]"
          ]
        },
        {
          "name": "stdout",
          "output_type": "stream",
          "text": [
            "                   all        591       4014       0.27      0.261      0.235      0.101\n"
          ]
        },
        {
          "name": "stderr",
          "output_type": "stream",
          "text": [
            "\n"
          ]
        },
        {
          "name": "stdout",
          "output_type": "stream",
          "text": [
            "\n",
            "      Epoch    GPU_mem   box_loss   cls_loss   dfl_loss  Instances       Size\n"
          ]
        },
        {
          "name": "stderr",
          "output_type": "stream",
          "text": [
            "    176/200      2.72G      2.155      2.017      1.639         90        640: 100%|██████████| 128/128 [00:12<00:00, 10.54it/s]\n",
            "                 Class     Images  Instances      Box(P          R      mAP50  mAP50-95): 100%|██████████| 19/19 [00:02<00:00,  7.70it/s]"
          ]
        },
        {
          "name": "stdout",
          "output_type": "stream",
          "text": [
            "                   all        591       4014      0.304      0.252      0.236      0.101\n"
          ]
        },
        {
          "name": "stderr",
          "output_type": "stream",
          "text": [
            "\n"
          ]
        },
        {
          "name": "stdout",
          "output_type": "stream",
          "text": [
            "\n",
            "      Epoch    GPU_mem   box_loss   cls_loss   dfl_loss  Instances       Size\n"
          ]
        },
        {
          "name": "stderr",
          "output_type": "stream",
          "text": [
            "    177/200      2.95G      2.162      1.972      1.621        129        640: 100%|██████████| 128/128 [00:12<00:00, 10.43it/s]\n",
            "                 Class     Images  Instances      Box(P          R      mAP50  mAP50-95): 100%|██████████| 19/19 [00:02<00:00,  7.41it/s]"
          ]
        },
        {
          "name": "stdout",
          "output_type": "stream",
          "text": [
            "                   all        591       4014      0.305      0.271      0.237     0.0989\n"
          ]
        },
        {
          "name": "stderr",
          "output_type": "stream",
          "text": [
            "\n"
          ]
        },
        {
          "name": "stdout",
          "output_type": "stream",
          "text": [
            "\n",
            "      Epoch    GPU_mem   box_loss   cls_loss   dfl_loss  Instances       Size\n"
          ]
        },
        {
          "name": "stderr",
          "output_type": "stream",
          "text": [
            "    178/200      2.59G      2.145      1.976      1.633        199        640: 100%|██████████| 128/128 [00:12<00:00, 10.24it/s]\n",
            "                 Class     Images  Instances      Box(P          R      mAP50  mAP50-95): 100%|██████████| 19/19 [00:02<00:00,  7.46it/s]"
          ]
        },
        {
          "name": "stdout",
          "output_type": "stream",
          "text": [
            "                   all        591       4014      0.272      0.271      0.235     0.0972\n"
          ]
        },
        {
          "name": "stderr",
          "output_type": "stream",
          "text": [
            "\n"
          ]
        },
        {
          "name": "stdout",
          "output_type": "stream",
          "text": [
            "\n",
            "      Epoch    GPU_mem   box_loss   cls_loss   dfl_loss  Instances       Size\n"
          ]
        },
        {
          "name": "stderr",
          "output_type": "stream",
          "text": [
            "    179/200      2.95G      2.164      2.012      1.657        106        640: 100%|██████████| 128/128 [00:12<00:00, 10.18it/s]\n",
            "                 Class     Images  Instances      Box(P          R      mAP50  mAP50-95): 100%|██████████| 19/19 [00:02<00:00,  7.00it/s]"
          ]
        },
        {
          "name": "stdout",
          "output_type": "stream",
          "text": [
            "                   all        591       4014      0.295      0.263      0.231     0.0989\n"
          ]
        },
        {
          "name": "stderr",
          "output_type": "stream",
          "text": [
            "\n"
          ]
        },
        {
          "name": "stdout",
          "output_type": "stream",
          "text": [
            "\n",
            "      Epoch    GPU_mem   box_loss   cls_loss   dfl_loss  Instances       Size\n"
          ]
        },
        {
          "name": "stderr",
          "output_type": "stream",
          "text": [
            "    180/200      2.65G      2.152      1.991      1.637        138        640: 100%|██████████| 128/128 [00:12<00:00, 10.31it/s]\n",
            "                 Class     Images  Instances      Box(P          R      mAP50  mAP50-95): 100%|██████████| 19/19 [00:02<00:00,  7.68it/s]"
          ]
        },
        {
          "name": "stdout",
          "output_type": "stream",
          "text": [
            "                   all        591       4014       0.27      0.274      0.234      0.101\n"
          ]
        },
        {
          "name": "stderr",
          "output_type": "stream",
          "text": [
            "\n"
          ]
        },
        {
          "name": "stdout",
          "output_type": "stream",
          "text": [
            "\n",
            "      Epoch    GPU_mem   box_loss   cls_loss   dfl_loss  Instances       Size\n"
          ]
        },
        {
          "name": "stderr",
          "output_type": "stream",
          "text": [
            "    181/200      2.63G      2.154      1.988      1.636        258        640: 100%|██████████| 128/128 [00:12<00:00, 10.55it/s]\n",
            "                 Class     Images  Instances      Box(P          R      mAP50  mAP50-95): 100%|██████████| 19/19 [00:02<00:00,  7.65it/s]"
          ]
        },
        {
          "name": "stdout",
          "output_type": "stream",
          "text": [
            "                   all        591       4014      0.285      0.276      0.237      0.102\n"
          ]
        },
        {
          "name": "stderr",
          "output_type": "stream",
          "text": [
            "\n"
          ]
        },
        {
          "name": "stdout",
          "output_type": "stream",
          "text": [
            "\n",
            "      Epoch    GPU_mem   box_loss   cls_loss   dfl_loss  Instances       Size\n"
          ]
        },
        {
          "name": "stderr",
          "output_type": "stream",
          "text": [
            "    182/200      2.48G      2.145      2.011      1.642        235        640: 100%|██████████| 128/128 [00:12<00:00, 10.58it/s]\n",
            "                 Class     Images  Instances      Box(P          R      mAP50  mAP50-95): 100%|██████████| 19/19 [00:02<00:00,  7.65it/s]"
          ]
        },
        {
          "name": "stdout",
          "output_type": "stream",
          "text": [
            "                   all        591       4014      0.285      0.267      0.238        0.1\n"
          ]
        },
        {
          "name": "stderr",
          "output_type": "stream",
          "text": [
            "\n"
          ]
        },
        {
          "name": "stdout",
          "output_type": "stream",
          "text": [
            "\n",
            "      Epoch    GPU_mem   box_loss   cls_loss   dfl_loss  Instances       Size\n"
          ]
        },
        {
          "name": "stderr",
          "output_type": "stream",
          "text": [
            "    183/200      2.93G      2.161      1.977      1.631        200        640: 100%|██████████| 128/128 [00:12<00:00, 10.57it/s]\n",
            "                 Class     Images  Instances      Box(P          R      mAP50  mAP50-95): 100%|██████████| 19/19 [00:02<00:00,  7.59it/s]"
          ]
        },
        {
          "name": "stdout",
          "output_type": "stream",
          "text": [
            "                   all        591       4014      0.317      0.243      0.237      0.104\n"
          ]
        },
        {
          "name": "stderr",
          "output_type": "stream",
          "text": [
            "\n"
          ]
        },
        {
          "name": "stdout",
          "output_type": "stream",
          "text": [
            "\n",
            "      Epoch    GPU_mem   box_loss   cls_loss   dfl_loss  Instances       Size\n"
          ]
        },
        {
          "name": "stderr",
          "output_type": "stream",
          "text": [
            "    184/200      2.49G      2.146      1.979      1.625        119        640: 100%|██████████| 128/128 [00:12<00:00, 10.55it/s]\n",
            "                 Class     Images  Instances      Box(P          R      mAP50  mAP50-95): 100%|██████████| 19/19 [00:02<00:00,  7.65it/s]"
          ]
        },
        {
          "name": "stdout",
          "output_type": "stream",
          "text": [
            "                   all        591       4014      0.274      0.269      0.239      0.105\n"
          ]
        },
        {
          "name": "stderr",
          "output_type": "stream",
          "text": [
            "\n"
          ]
        },
        {
          "name": "stdout",
          "output_type": "stream",
          "text": [
            "\n",
            "      Epoch    GPU_mem   box_loss   cls_loss   dfl_loss  Instances       Size\n"
          ]
        },
        {
          "name": "stderr",
          "output_type": "stream",
          "text": [
            "    185/200      3.17G      2.152      1.961      1.629        188        640: 100%|██████████| 128/128 [00:12<00:00, 10.59it/s]\n",
            "                 Class     Images  Instances      Box(P          R      mAP50  mAP50-95): 100%|██████████| 19/19 [00:02<00:00,  7.72it/s]"
          ]
        },
        {
          "name": "stdout",
          "output_type": "stream",
          "text": [
            "                   all        591       4014      0.303      0.252      0.238      0.104\n"
          ]
        },
        {
          "name": "stderr",
          "output_type": "stream",
          "text": [
            "\n"
          ]
        },
        {
          "name": "stdout",
          "output_type": "stream",
          "text": [
            "\n",
            "      Epoch    GPU_mem   box_loss   cls_loss   dfl_loss  Instances       Size\n"
          ]
        },
        {
          "name": "stderr",
          "output_type": "stream",
          "text": [
            "    186/200      2.91G      2.159      1.968      1.626        154        640: 100%|██████████| 128/128 [00:12<00:00, 10.55it/s]\n",
            "                 Class     Images  Instances      Box(P          R      mAP50  mAP50-95): 100%|██████████| 19/19 [00:02<00:00,  7.73it/s]"
          ]
        },
        {
          "name": "stdout",
          "output_type": "stream",
          "text": [
            "                   all        591       4014      0.314      0.256      0.237      0.102\n"
          ]
        },
        {
          "name": "stderr",
          "output_type": "stream",
          "text": [
            "\n"
          ]
        },
        {
          "name": "stdout",
          "output_type": "stream",
          "text": [
            "\n",
            "      Epoch    GPU_mem   box_loss   cls_loss   dfl_loss  Instances       Size\n"
          ]
        },
        {
          "name": "stderr",
          "output_type": "stream",
          "text": [
            "    187/200      2.59G      2.155      1.993       1.64        236        640: 100%|██████████| 128/128 [00:12<00:00, 10.56it/s]\n",
            "                 Class     Images  Instances      Box(P          R      mAP50  mAP50-95): 100%|██████████| 19/19 [00:02<00:00,  7.70it/s]"
          ]
        },
        {
          "name": "stdout",
          "output_type": "stream",
          "text": [
            "                   all        591       4014      0.284      0.272      0.219     0.0901\n"
          ]
        },
        {
          "name": "stderr",
          "output_type": "stream",
          "text": [
            "\n"
          ]
        },
        {
          "name": "stdout",
          "output_type": "stream",
          "text": [
            "\n",
            "      Epoch    GPU_mem   box_loss   cls_loss   dfl_loss  Instances       Size\n"
          ]
        },
        {
          "name": "stderr",
          "output_type": "stream",
          "text": [
            "    188/200      2.41G      2.146      1.975      1.641        179        640: 100%|██████████| 128/128 [00:12<00:00, 10.57it/s]\n",
            "                 Class     Images  Instances      Box(P          R      mAP50  mAP50-95): 100%|██████████| 19/19 [00:02<00:00,  7.68it/s]"
          ]
        },
        {
          "name": "stdout",
          "output_type": "stream",
          "text": [
            "                   all        591       4014      0.304      0.265      0.216     0.0895\n"
          ]
        },
        {
          "name": "stderr",
          "output_type": "stream",
          "text": [
            "\n"
          ]
        },
        {
          "name": "stdout",
          "output_type": "stream",
          "text": [
            "\n",
            "      Epoch    GPU_mem   box_loss   cls_loss   dfl_loss  Instances       Size\n"
          ]
        },
        {
          "name": "stderr",
          "output_type": "stream",
          "text": [
            "    189/200      2.76G      2.133      1.965      1.629        167        640: 100%|██████████| 128/128 [00:12<00:00, 10.55it/s]\n",
            "                 Class     Images  Instances      Box(P          R      mAP50  mAP50-95): 100%|██████████| 19/19 [00:02<00:00,  7.66it/s]"
          ]
        },
        {
          "name": "stdout",
          "output_type": "stream",
          "text": [
            "                   all        591       4014      0.291      0.259      0.213     0.0917\n"
          ]
        },
        {
          "name": "stderr",
          "output_type": "stream",
          "text": [
            "\n"
          ]
        },
        {
          "name": "stdout",
          "output_type": "stream",
          "text": [
            "\n",
            "      Epoch    GPU_mem   box_loss   cls_loss   dfl_loss  Instances       Size\n"
          ]
        },
        {
          "name": "stderr",
          "output_type": "stream",
          "text": [
            "    190/200      2.83G      2.156      1.967      1.618        181        640: 100%|██████████| 128/128 [00:12<00:00, 10.55it/s]\n",
            "                 Class     Images  Instances      Box(P          R      mAP50  mAP50-95): 100%|██████████| 19/19 [00:02<00:00,  7.69it/s]"
          ]
        },
        {
          "name": "stdout",
          "output_type": "stream",
          "text": [
            "                   all        591       4014      0.303      0.266      0.234      0.101\n"
          ]
        },
        {
          "name": "stderr",
          "output_type": "stream",
          "text": [
            "\n"
          ]
        },
        {
          "name": "stdout",
          "output_type": "stream",
          "text": [
            "Closing dataloader mosaic\n",
            "\n",
            "      Epoch    GPU_mem   box_loss   cls_loss   dfl_loss  Instances       Size\n"
          ]
        },
        {
          "name": "stderr",
          "output_type": "stream",
          "text": [
            "    191/200      2.62G      2.133      1.916      1.666        170        640: 100%|██████████| 128/128 [00:12<00:00, 10.33it/s]\n",
            "                 Class     Images  Instances      Box(P          R      mAP50  mAP50-95): 100%|██████████| 19/19 [00:02<00:00,  7.56it/s]"
          ]
        },
        {
          "name": "stdout",
          "output_type": "stream",
          "text": [
            "                   all        591       4014      0.297      0.266      0.233      0.102\n"
          ]
        },
        {
          "name": "stderr",
          "output_type": "stream",
          "text": [
            "\n"
          ]
        },
        {
          "name": "stdout",
          "output_type": "stream",
          "text": [
            "\n",
            "      Epoch    GPU_mem   box_loss   cls_loss   dfl_loss  Instances       Size\n"
          ]
        },
        {
          "name": "stderr",
          "output_type": "stream",
          "text": [
            "    192/200       2.6G      2.126      1.912      1.667         46        640: 100%|██████████| 128/128 [00:11<00:00, 10.85it/s]\n",
            "                 Class     Images  Instances      Box(P          R      mAP50  mAP50-95): 100%|██████████| 19/19 [00:02<00:00,  7.60it/s]"
          ]
        },
        {
          "name": "stdout",
          "output_type": "stream",
          "text": [
            "                   all        591       4014      0.287      0.262      0.234      0.101\n"
          ]
        },
        {
          "name": "stderr",
          "output_type": "stream",
          "text": [
            "\n"
          ]
        },
        {
          "name": "stdout",
          "output_type": "stream",
          "text": [
            "\n",
            "      Epoch    GPU_mem   box_loss   cls_loss   dfl_loss  Instances       Size\n"
          ]
        },
        {
          "name": "stderr",
          "output_type": "stream",
          "text": [
            "    193/200      2.54G      2.124      1.884      1.663        183        640: 100%|██████████| 128/128 [00:11<00:00, 10.87it/s]\n",
            "                 Class     Images  Instances      Box(P          R      mAP50  mAP50-95): 100%|██████████| 19/19 [00:02<00:00,  7.63it/s]"
          ]
        },
        {
          "name": "stdout",
          "output_type": "stream",
          "text": [
            "                   all        591       4014      0.306      0.256      0.237      0.102\n"
          ]
        },
        {
          "name": "stderr",
          "output_type": "stream",
          "text": [
            "\n"
          ]
        },
        {
          "name": "stdout",
          "output_type": "stream",
          "text": [
            "\n",
            "      Epoch    GPU_mem   box_loss   cls_loss   dfl_loss  Instances       Size\n"
          ]
        },
        {
          "name": "stderr",
          "output_type": "stream",
          "text": [
            "    194/200      2.52G      2.101      1.869       1.65        105        640: 100%|██████████| 128/128 [00:11<00:00, 10.90it/s]\n",
            "                 Class     Images  Instances      Box(P          R      mAP50  mAP50-95): 100%|██████████| 19/19 [00:02<00:00,  7.54it/s]"
          ]
        },
        {
          "name": "stdout",
          "output_type": "stream",
          "text": [
            "                   all        591       4014      0.307      0.259      0.239      0.104\n"
          ]
        },
        {
          "name": "stderr",
          "output_type": "stream",
          "text": [
            "\n"
          ]
        },
        {
          "name": "stdout",
          "output_type": "stream",
          "text": [
            "\n",
            "      Epoch    GPU_mem   box_loss   cls_loss   dfl_loss  Instances       Size\n"
          ]
        },
        {
          "name": "stderr",
          "output_type": "stream",
          "text": [
            "    195/200      2.63G      2.102      1.869      1.651         88        640: 100%|██████████| 128/128 [00:11<00:00, 10.85it/s]\n",
            "                 Class     Images  Instances      Box(P          R      mAP50  mAP50-95): 100%|██████████| 19/19 [00:02<00:00,  7.56it/s]"
          ]
        },
        {
          "name": "stdout",
          "output_type": "stream",
          "text": [
            "                   all        591       4014      0.279       0.26      0.236      0.104\n"
          ]
        },
        {
          "name": "stderr",
          "output_type": "stream",
          "text": [
            "\n"
          ]
        },
        {
          "name": "stdout",
          "output_type": "stream",
          "text": [
            "\n",
            "      Epoch    GPU_mem   box_loss   cls_loss   dfl_loss  Instances       Size\n"
          ]
        },
        {
          "name": "stderr",
          "output_type": "stream",
          "text": [
            "    196/200      2.52G      2.115      1.872      1.646        104        640: 100%|██████████| 128/128 [00:11<00:00, 10.92it/s]\n",
            "                 Class     Images  Instances      Box(P          R      mAP50  mAP50-95): 100%|██████████| 19/19 [00:02<00:00,  7.71it/s]"
          ]
        },
        {
          "name": "stdout",
          "output_type": "stream",
          "text": [
            "                   all        591       4014      0.295      0.261      0.237      0.104\n"
          ]
        },
        {
          "name": "stderr",
          "output_type": "stream",
          "text": [
            "\n"
          ]
        },
        {
          "name": "stdout",
          "output_type": "stream",
          "text": [
            "\n",
            "      Epoch    GPU_mem   box_loss   cls_loss   dfl_loss  Instances       Size\n"
          ]
        },
        {
          "name": "stderr",
          "output_type": "stream",
          "text": [
            "    197/200      2.87G      2.105      1.865      1.651        134        640: 100%|██████████| 128/128 [00:11<00:00, 10.99it/s]\n",
            "                 Class     Images  Instances      Box(P          R      mAP50  mAP50-95): 100%|██████████| 19/19 [00:02<00:00,  7.73it/s]"
          ]
        },
        {
          "name": "stdout",
          "output_type": "stream",
          "text": [
            "                   all        591       4014       0.29      0.261      0.237      0.103\n"
          ]
        },
        {
          "name": "stderr",
          "output_type": "stream",
          "text": [
            "\n"
          ]
        },
        {
          "name": "stdout",
          "output_type": "stream",
          "text": [
            "\n",
            "      Epoch    GPU_mem   box_loss   cls_loss   dfl_loss  Instances       Size\n"
          ]
        },
        {
          "name": "stderr",
          "output_type": "stream",
          "text": [
            "    198/200      2.84G      2.114      1.871      1.651         74        640: 100%|██████████| 128/128 [00:11<00:00, 10.95it/s]\n",
            "                 Class     Images  Instances      Box(P          R      mAP50  mAP50-95): 100%|██████████| 19/19 [00:02<00:00,  7.70it/s]"
          ]
        },
        {
          "name": "stdout",
          "output_type": "stream",
          "text": [
            "                   all        591       4014      0.284      0.261      0.238      0.104\n"
          ]
        },
        {
          "name": "stderr",
          "output_type": "stream",
          "text": [
            "\n"
          ]
        },
        {
          "name": "stdout",
          "output_type": "stream",
          "text": [
            "\n",
            "      Epoch    GPU_mem   box_loss   cls_loss   dfl_loss  Instances       Size\n"
          ]
        },
        {
          "name": "stderr",
          "output_type": "stream",
          "text": [
            "    199/200      2.36G      2.098      1.858      1.645         63        640: 100%|██████████| 128/128 [00:11<00:00, 10.89it/s]\n",
            "                 Class     Images  Instances      Box(P          R      mAP50  mAP50-95): 100%|██████████| 19/19 [00:02<00:00,  7.65it/s]"
          ]
        },
        {
          "name": "stdout",
          "output_type": "stream",
          "text": [
            "                   all        591       4014      0.296      0.261      0.236      0.103\n"
          ]
        },
        {
          "name": "stderr",
          "output_type": "stream",
          "text": [
            "\n"
          ]
        },
        {
          "name": "stdout",
          "output_type": "stream",
          "text": [
            "\n",
            "      Epoch    GPU_mem   box_loss   cls_loss   dfl_loss  Instances       Size\n"
          ]
        },
        {
          "name": "stderr",
          "output_type": "stream",
          "text": [
            "    200/200      2.64G      2.092      1.841      1.633        107        640: 100%|██████████| 128/128 [00:11<00:00, 10.91it/s]\n",
            "                 Class     Images  Instances      Box(P          R      mAP50  mAP50-95): 100%|██████████| 19/19 [00:02<00:00,  7.68it/s]"
          ]
        },
        {
          "name": "stdout",
          "output_type": "stream",
          "text": [
            "                   all        591       4014      0.286       0.27      0.236      0.103\n"
          ]
        },
        {
          "name": "stderr",
          "output_type": "stream",
          "text": [
            "\n"
          ]
        },
        {
          "name": "stdout",
          "output_type": "stream",
          "text": [
            "\n",
            "200 epochs completed in 1.062 hours.\n",
            "Optimizer stripped from runs\\detect\\train\\weights\\last.pt, 6.3MB\n",
            "Optimizer stripped from runs\\detect\\train\\weights\\best.pt, 6.3MB\n",
            "\n",
            "Validating runs\\detect\\train\\weights\\best.pt...\n",
            "Ultralytics YOLOv8.2.22  Python-3.11.4 torch-2.3.0+cu121 CUDA:0 (NVIDIA GeForce RTX 3060 Ti, 8192MiB)\n",
            "YOLOv8n summary (fused): 168 layers, 3007403 parameters, 0 gradients, 8.1 GFLOPs\n"
          ]
        },
        {
          "name": "stderr",
          "output_type": "stream",
          "text": [
            "                 Class     Images  Instances      Box(P          R      mAP50  mAP50-95): 100%|██████████| 19/19 [00:03<00:00,  6.33it/s]\n"
          ]
        },
        {
          "name": "stdout",
          "output_type": "stream",
          "text": [
            "                   all        591       4014      0.272      0.265      0.239      0.105\n",
            "                  acne        591       3054      0.358      0.254      0.206     0.0613\n",
            "           dark circle        591        105      0.516      0.581      0.552      0.238\n",
            "              darkspot        591         21      0.188      0.111      0.143     0.0564\n",
            "                   dry        591        220      0.205      0.164     0.0973     0.0337\n",
            "           normal skin        591          3      0.104      0.333      0.354      0.244\n",
            "                  oily        591        179      0.234      0.246      0.176     0.0504\n",
            "                 pores        591        139      0.225      0.158      0.121      0.031\n",
            "          skin redness        591         21      0.436      0.479      0.446      0.211\n",
            "               wrinkle        591        272      0.182     0.0588     0.0525     0.0199\n",
            "Speed: 0.2ms preprocess, 1.2ms inference, 0.0ms loss, 0.9ms postprocess per image\n",
            "Results saved to \u001b[1mruns\\detect\\train\u001b[0m\n"
          ]
        }
      ],
      "source": [
        "import os\n",
        "from ultralytics import YOLO\n",
        "\n",
        "# Load a model\n",
        "model = YOLO(\"yolov8n.yaml\")  # build a new model from scratch\n",
        "# Use the model\n",
        "results = model.train(data=os.path.join(ROOT_DIR, \"data.yaml\"), epochs=200)  # train the model # train the model"
      ]
    },
    {
      "cell_type": "code",
      "execution_count": 1,
      "metadata": {},
      "outputs": [
        {
          "ename": "FileNotFoundError",
          "evalue": "[Errno 2] No such file or directory: 'E:\\\\Arul\\\\Edison\\\\images\\\\runs\\\\detect\\\\train\\\\val_batch0_labels.jpg'",
          "output_type": "error",
          "traceback": [
            "\u001b[1;31m---------------------------------------------------------------------------\u001b[0m",
            "\u001b[1;31mFileNotFoundError\u001b[0m                         Traceback (most recent call last)",
            "Cell \u001b[1;32mIn[1], line 4\u001b[0m\n\u001b[0;32m      1\u001b[0m \u001b[38;5;28;01mfrom\u001b[39;00m \u001b[38;5;21;01multralytics\u001b[39;00m \u001b[38;5;28;01mimport\u001b[39;00m YOLO\n\u001b[0;32m      3\u001b[0m \u001b[38;5;28;01mfrom\u001b[39;00m \u001b[38;5;21;01mIPython\u001b[39;00m\u001b[38;5;21;01m.\u001b[39;00m\u001b[38;5;21;01mdisplay\u001b[39;00m \u001b[38;5;28;01mimport\u001b[39;00m display, Image\n\u001b[1;32m----> 4\u001b[0m \u001b[43mImage\u001b[49m\u001b[43m(\u001b[49m\u001b[43mfilename\u001b[49m\u001b[38;5;241;43m=\u001b[39;49m\u001b[38;5;124;43mf\u001b[39;49m\u001b[38;5;124;43m'\u001b[39;49m\u001b[38;5;124;43mE:\u001b[39;49m\u001b[38;5;124;43m\\\u001b[39;49m\u001b[38;5;124;43mArul\u001b[39;49m\u001b[38;5;124;43m\\\u001b[39;49m\u001b[38;5;124;43mEdison\u001b[39;49m\u001b[38;5;124;43m\\\u001b[39;49m\u001b[38;5;124;43mimages\u001b[39;49m\u001b[38;5;130;43;01m\\\\\u001b[39;49;00m\u001b[38;5;124;43mruns\u001b[39;49m\u001b[38;5;124;43m\\\u001b[39;49m\u001b[38;5;124;43mdetect\u001b[39;49m\u001b[38;5;130;43;01m\\\\\u001b[39;49;00m\u001b[38;5;124;43mtrain\u001b[39;49m\u001b[38;5;130;43;01m\\\\\u001b[39;49;00m\u001b[38;5;124;43mval_batch0_labels.jpg\u001b[39;49m\u001b[38;5;124;43m'\u001b[39;49m\u001b[43m,\u001b[49m\u001b[43m \u001b[49m\u001b[43mwidth\u001b[49m\u001b[38;5;241;43m=\u001b[39;49m\u001b[38;5;241;43m600\u001b[39;49m\u001b[43m)\u001b[49m\n",
            "File \u001b[1;32mc:\\Users\\arul\\AppData\\Local\\Programs\\Python\\Python311\\Lib\\site-packages\\IPython\\core\\display.py:970\u001b[0m, in \u001b[0;36mImage.__init__\u001b[1;34m(self, data, url, filename, format, embed, width, height, retina, unconfined, metadata, alt)\u001b[0m\n\u001b[0;32m    968\u001b[0m \u001b[38;5;28mself\u001b[39m\u001b[38;5;241m.\u001b[39munconfined \u001b[38;5;241m=\u001b[39m unconfined\n\u001b[0;32m    969\u001b[0m \u001b[38;5;28mself\u001b[39m\u001b[38;5;241m.\u001b[39malt \u001b[38;5;241m=\u001b[39m alt\n\u001b[1;32m--> 970\u001b[0m \u001b[38;5;28;43msuper\u001b[39;49m\u001b[43m(\u001b[49m\u001b[43mImage\u001b[49m\u001b[43m,\u001b[49m\u001b[43m \u001b[49m\u001b[38;5;28;43mself\u001b[39;49m\u001b[43m)\u001b[49m\u001b[38;5;241;43m.\u001b[39;49m\u001b[38;5;21;43m__init__\u001b[39;49m\u001b[43m(\u001b[49m\u001b[43mdata\u001b[49m\u001b[38;5;241;43m=\u001b[39;49m\u001b[43mdata\u001b[49m\u001b[43m,\u001b[49m\u001b[43m \u001b[49m\u001b[43murl\u001b[49m\u001b[38;5;241;43m=\u001b[39;49m\u001b[43murl\u001b[49m\u001b[43m,\u001b[49m\u001b[43m \u001b[49m\u001b[43mfilename\u001b[49m\u001b[38;5;241;43m=\u001b[39;49m\u001b[43mfilename\u001b[49m\u001b[43m,\u001b[49m\n\u001b[0;32m    971\u001b[0m \u001b[43m        \u001b[49m\u001b[43mmetadata\u001b[49m\u001b[38;5;241;43m=\u001b[39;49m\u001b[43mmetadata\u001b[49m\u001b[43m)\u001b[49m\n\u001b[0;32m    973\u001b[0m \u001b[38;5;28;01mif\u001b[39;00m \u001b[38;5;28mself\u001b[39m\u001b[38;5;241m.\u001b[39mwidth \u001b[38;5;129;01mis\u001b[39;00m \u001b[38;5;28;01mNone\u001b[39;00m \u001b[38;5;129;01mand\u001b[39;00m \u001b[38;5;28mself\u001b[39m\u001b[38;5;241m.\u001b[39mmetadata\u001b[38;5;241m.\u001b[39mget(\u001b[38;5;124m'\u001b[39m\u001b[38;5;124mwidth\u001b[39m\u001b[38;5;124m'\u001b[39m, {}):\n\u001b[0;32m    974\u001b[0m     \u001b[38;5;28mself\u001b[39m\u001b[38;5;241m.\u001b[39mwidth \u001b[38;5;241m=\u001b[39m metadata[\u001b[38;5;124m'\u001b[39m\u001b[38;5;124mwidth\u001b[39m\u001b[38;5;124m'\u001b[39m]\n",
            "File \u001b[1;32mc:\\Users\\arul\\AppData\\Local\\Programs\\Python\\Python311\\Lib\\site-packages\\IPython\\core\\display.py:327\u001b[0m, in \u001b[0;36mDisplayObject.__init__\u001b[1;34m(self, data, url, filename, metadata)\u001b[0m\n\u001b[0;32m    324\u001b[0m \u001b[38;5;28;01melif\u001b[39;00m \u001b[38;5;28mself\u001b[39m\u001b[38;5;241m.\u001b[39mmetadata \u001b[38;5;129;01mis\u001b[39;00m \u001b[38;5;28;01mNone\u001b[39;00m:\n\u001b[0;32m    325\u001b[0m     \u001b[38;5;28mself\u001b[39m\u001b[38;5;241m.\u001b[39mmetadata \u001b[38;5;241m=\u001b[39m {}\n\u001b[1;32m--> 327\u001b[0m \u001b[38;5;28;43mself\u001b[39;49m\u001b[38;5;241;43m.\u001b[39;49m\u001b[43mreload\u001b[49m\u001b[43m(\u001b[49m\u001b[43m)\u001b[49m\n\u001b[0;32m    328\u001b[0m \u001b[38;5;28mself\u001b[39m\u001b[38;5;241m.\u001b[39m_check_data()\n",
            "File \u001b[1;32mc:\\Users\\arul\\AppData\\Local\\Programs\\Python\\Python311\\Lib\\site-packages\\IPython\\core\\display.py:1005\u001b[0m, in \u001b[0;36mImage.reload\u001b[1;34m(self)\u001b[0m\n\u001b[0;32m   1003\u001b[0m \u001b[38;5;250m\u001b[39m\u001b[38;5;124;03m\"\"\"Reload the raw data from file or URL.\"\"\"\u001b[39;00m\n\u001b[0;32m   1004\u001b[0m \u001b[38;5;28;01mif\u001b[39;00m \u001b[38;5;28mself\u001b[39m\u001b[38;5;241m.\u001b[39membed:\n\u001b[1;32m-> 1005\u001b[0m     \u001b[38;5;28;43msuper\u001b[39;49m\u001b[43m(\u001b[49m\u001b[43mImage\u001b[49m\u001b[43m,\u001b[49m\u001b[38;5;28;43mself\u001b[39;49m\u001b[43m)\u001b[49m\u001b[38;5;241;43m.\u001b[39;49m\u001b[43mreload\u001b[49m\u001b[43m(\u001b[49m\u001b[43m)\u001b[49m\n\u001b[0;32m   1006\u001b[0m     \u001b[38;5;28;01mif\u001b[39;00m \u001b[38;5;28mself\u001b[39m\u001b[38;5;241m.\u001b[39mretina:\n\u001b[0;32m   1007\u001b[0m         \u001b[38;5;28mself\u001b[39m\u001b[38;5;241m.\u001b[39m_retina_shape()\n",
            "File \u001b[1;32mc:\\Users\\arul\\AppData\\Local\\Programs\\Python\\Python311\\Lib\\site-packages\\IPython\\core\\display.py:353\u001b[0m, in \u001b[0;36mDisplayObject.reload\u001b[1;34m(self)\u001b[0m\n\u001b[0;32m    351\u001b[0m \u001b[38;5;28;01mif\u001b[39;00m \u001b[38;5;28mself\u001b[39m\u001b[38;5;241m.\u001b[39mfilename \u001b[38;5;129;01mis\u001b[39;00m \u001b[38;5;129;01mnot\u001b[39;00m \u001b[38;5;28;01mNone\u001b[39;00m:\n\u001b[0;32m    352\u001b[0m     encoding \u001b[38;5;241m=\u001b[39m \u001b[38;5;28;01mNone\u001b[39;00m \u001b[38;5;28;01mif\u001b[39;00m \u001b[38;5;124m\"\u001b[39m\u001b[38;5;124mb\u001b[39m\u001b[38;5;124m\"\u001b[39m \u001b[38;5;129;01min\u001b[39;00m \u001b[38;5;28mself\u001b[39m\u001b[38;5;241m.\u001b[39m_read_flags \u001b[38;5;28;01melse\u001b[39;00m \u001b[38;5;124m\"\u001b[39m\u001b[38;5;124mutf-8\u001b[39m\u001b[38;5;124m\"\u001b[39m\n\u001b[1;32m--> 353\u001b[0m     \u001b[38;5;28;01mwith\u001b[39;00m \u001b[38;5;28;43mopen\u001b[39;49m\u001b[43m(\u001b[49m\u001b[38;5;28;43mself\u001b[39;49m\u001b[38;5;241;43m.\u001b[39;49m\u001b[43mfilename\u001b[49m\u001b[43m,\u001b[49m\u001b[43m \u001b[49m\u001b[38;5;28;43mself\u001b[39;49m\u001b[38;5;241;43m.\u001b[39;49m\u001b[43m_read_flags\u001b[49m\u001b[43m,\u001b[49m\u001b[43m \u001b[49m\u001b[43mencoding\u001b[49m\u001b[38;5;241;43m=\u001b[39;49m\u001b[43mencoding\u001b[49m\u001b[43m)\u001b[49m \u001b[38;5;28;01mas\u001b[39;00m f:\n\u001b[0;32m    354\u001b[0m         \u001b[38;5;28mself\u001b[39m\u001b[38;5;241m.\u001b[39mdata \u001b[38;5;241m=\u001b[39m f\u001b[38;5;241m.\u001b[39mread()\n\u001b[0;32m    355\u001b[0m \u001b[38;5;28;01melif\u001b[39;00m \u001b[38;5;28mself\u001b[39m\u001b[38;5;241m.\u001b[39murl \u001b[38;5;129;01mis\u001b[39;00m \u001b[38;5;129;01mnot\u001b[39;00m \u001b[38;5;28;01mNone\u001b[39;00m:\n\u001b[0;32m    356\u001b[0m     \u001b[38;5;66;03m# Deferred import\u001b[39;00m\n",
            "\u001b[1;31mFileNotFoundError\u001b[0m: [Errno 2] No such file or directory: 'E:\\\\Arul\\\\Edison\\\\images\\\\runs\\\\detect\\\\train\\\\val_batch0_labels.jpg'"
          ]
        }
      ],
      "source": [
        "from ultralytics import YOLO\n",
        "\n",
        "from IPython.display import display, Image\n",
        "Image(filename=f'E:\\Arul\\Edison\\images\\\\runs\\detect\\\\train\\\\val_batch0_labels.jpg', width=600)"
      ]
    },
    {
      "cell_type": "code",
      "execution_count": 9,
      "metadata": {
        "colab": {
          "base_uri": "https://localhost:8080/"
        },
        "id": "dm_pVn-vMNZT",
        "outputId": "4ade6521-8fb7-44da-c73a-a401c29b981c"
      },
      "outputs": [
        {
          "name": "stdout",
          "output_type": "stream",
          "text": [
            "Ultralytics YOLOv8.2.22 🚀 Python-3.11.4 torch-2.4.1+cu124 CUDA:0 (NVIDIA GeForce RTX 3060 Ti, 8192MiB)\n",
            "YOLOv8n summary (fused): 168 layers, 3007403 parameters, 0 gradients, 8.1 GFLOPs\n",
            "\n",
            "image 1/404 E:\\Arul\\Edison\\newww\\images\\test\\images\\108_jpg.rf.7485d878cd8ea7bf36b8756917551a6d.jpg: 640x640 3 acnes, 4.2ms\n",
            "image 2/404 E:\\Arul\\Edison\\newww\\images\\test\\images\\11_jpg.rf.d8234e750a348b6d4733e22bb9f3591c.jpg: 640x640 4 acnes, 3.7ms\n",
            "image 3/404 E:\\Arul\\Edison\\newww\\images\\test\\images\\134_jpg.rf.3c17c9e0da201e61db27ad5fb049277c.jpg: 640x640 (no detections), 4.2ms\n",
            "image 4/404 E:\\Arul\\Edison\\newww\\images\\test\\images\\138_jpg.rf.c867acd0272706574f62b900b2c820f9.jpg: 640x640 3 acnes, 5.1ms\n",
            "image 5/404 E:\\Arul\\Edison\\newww\\images\\test\\images\\140_jpg.rf.9b69d2320f425095c0f8305b41c32c85.jpg: 640x640 5 acnes, 5.0ms\n",
            "image 6/404 E:\\Arul\\Edison\\newww\\images\\test\\images\\142_jpg.rf.9b2fe0d62fd7d6a1289d27b1c2c65f51.jpg: 640x640 1 acne, 1 dark circle, 4.4ms\n",
            "image 7/404 E:\\Arul\\Edison\\newww\\images\\test\\images\\153_jpg.rf.029c79d308028c2d175db577aa4d1c19.jpg: 640x640 1 acne, 1 dark circle, 5.1ms\n",
            "image 8/404 E:\\Arul\\Edison\\newww\\images\\test\\images\\162_jpg.rf.becee8d22617e18987331620b42fbaa2.jpg: 640x640 3 acnes, 1 dark circle, 6.5ms\n",
            "image 9/404 E:\\Arul\\Edison\\newww\\images\\test\\images\\166_jpg.rf.da67044533ef2ed23f65f2001e76b1ea.jpg: 640x640 2 dark circles, 4.3ms\n",
            "image 10/404 E:\\Arul\\Edison\\newww\\images\\test\\images\\167_jpg.rf.190fa662ee61fab0d0232b43c4f94a70.jpg: 640x640 4 acnes, 4.2ms\n",
            "image 11/404 E:\\Arul\\Edison\\newww\\images\\test\\images\\177_jpg.rf.98adbe894b9784be622f8ab0c9361bec.jpg: 640x640 1 acne, 1 dark circle, 5.1ms\n",
            "image 12/404 E:\\Arul\\Edison\\newww\\images\\test\\images\\178_jpg.rf.206f0a9c093cbce29686ae8b2d66cfcc.jpg: 640x640 1 acne, 4.1ms\n",
            "image 13/404 E:\\Arul\\Edison\\newww\\images\\test\\images\\181_jpg.rf.a8116ab3558dbb56523a17c77ff49322.jpg: 640x640 1 acne, 2 poress, 1 wrinkle, 4.3ms\n",
            "image 14/404 E:\\Arul\\Edison\\newww\\images\\test\\images\\182_jpg.rf.de25ac1a5b3a407a493417ca1fbec543.jpg: 640x640 1 acne, 1 pores, 4.8ms\n",
            "image 15/404 E:\\Arul\\Edison\\newww\\images\\test\\images\\186_jpg.rf.fe24bc297b11ebfc911eb2017b285f1f.jpg: 640x640 18 acnes, 4.6ms\n",
            "image 16/404 E:\\Arul\\Edison\\newww\\images\\test\\images\\191_jpg.rf.373794ff2558b5623f5ef8793f23b636.jpg: 640x640 3 acnes, 1 dark circle, 4.3ms\n",
            "image 17/404 E:\\Arul\\Edison\\newww\\images\\test\\images\\194_jpg.rf.64b12802ec040f213978a887359a4503.jpg: 640x640 6 acnes, 4.7ms\n",
            "image 18/404 E:\\Arul\\Edison\\newww\\images\\test\\images\\196_jpg.rf.d17e6342dc54739648f10c928c93fcff.jpg: 640x640 3 acnes, 2 dark circles, 1 pores, 4.1ms\n",
            "image 19/404 E:\\Arul\\Edison\\newww\\images\\test\\images\\200_jpg.rf.5bb1015c79f78e076fccd7a4f2821f9e.jpg: 640x640 6 acnes, 4.6ms\n",
            "image 20/404 E:\\Arul\\Edison\\newww\\images\\test\\images\\204_jpg.rf.bd30d2202fb23712cb1eb93cabc028e4.jpg: 640x640 (no detections), 4.7ms\n",
            "image 21/404 E:\\Arul\\Edison\\newww\\images\\test\\images\\208_jpg.rf.86e61084329f43a1ea57f6e46914298d.jpg: 640x640 1 dry, 5.2ms\n",
            "image 22/404 E:\\Arul\\Edison\\newww\\images\\test\\images\\209_jpg.rf.908582e85233def1df0950ef7ee75b24.jpg: 640x640 1 acne, 4.9ms\n",
            "image 23/404 E:\\Arul\\Edison\\newww\\images\\test\\images\\211_jpg.rf.54abd1c1b19555f69d8b537a36958013.jpg: 640x640 10 acnes, 1 dark circle, 4.6ms\n",
            "image 24/404 E:\\Arul\\Edison\\newww\\images\\test\\images\\214_jpg.rf.4e14060ef138dc243f2b45cbec4e42f7.jpg: 640x640 2 dark circles, 5.4ms\n",
            "image 25/404 E:\\Arul\\Edison\\newww\\images\\test\\images\\225_jpg.rf.4fae32e448993e319e20e2ce496e9b85.jpg: 640x640 1 acne, 1 dark circle, 4.7ms\n",
            "image 26/404 E:\\Arul\\Edison\\newww\\images\\test\\images\\229_jpg.rf.2c05a56f39375a401918342d307cd3e3.jpg: 640x640 3 acnes, 1 dark circle, 1 pores, 5.3ms\n",
            "image 27/404 E:\\Arul\\Edison\\newww\\images\\test\\images\\241_jpg.rf.1d1b9342235400df382e9f4f8fd6a398.jpg: 640x640 11 acnes, 4.2ms\n",
            "image 28/404 E:\\Arul\\Edison\\newww\\images\\test\\images\\247_jpg.rf.210ee553e34811256603defae431c020.jpg: 640x640 1 acne, 4.6ms\n",
            "image 29/404 E:\\Arul\\Edison\\newww\\images\\test\\images\\261_jpg.rf.071b6b8c2b3d07a2e3a48661124fd8c5.jpg: 640x640 3 acnes, 4.2ms\n",
            "image 30/404 E:\\Arul\\Edison\\newww\\images\\test\\images\\269_jpg.rf.321f364152345ee0c02034e73176b7d2.jpg: 640x640 1 acne, 1 dark circle, 1 pores, 3.6ms\n",
            "image 31/404 E:\\Arul\\Edison\\newww\\images\\test\\images\\277_jpg.rf.a6d7f4d99a2f4bfc29bc947eb857ef32.jpg: 640x640 10 acnes, 4.8ms\n",
            "image 32/404 E:\\Arul\\Edison\\newww\\images\\test\\images\\279_jpg.rf.7c528d48f8916727b8418d1e1180bec0.jpg: 640x640 12 acnes, 4.7ms\n",
            "image 33/404 E:\\Arul\\Edison\\newww\\images\\test\\images\\282_jpg.rf.cb7f52a6e5004c76696fc00965cbb533.jpg: 640x640 4 acnes, 5.3ms\n",
            "image 34/404 E:\\Arul\\Edison\\newww\\images\\test\\images\\285_jpg.rf.ef62f475b8720a41661f02cb0d41bbbb.jpg: 640x640 (no detections), 5.6ms\n",
            "image 35/404 E:\\Arul\\Edison\\newww\\images\\test\\images\\299_jpg.rf.6df83a8f91b1121c0f02a1695908d0d8.jpg: 640x640 2 acnes, 1 pores, 4.7ms\n",
            "image 36/404 E:\\Arul\\Edison\\newww\\images\\test\\images\\307_jpg.rf.8be7eac72f5aec0b54a4fbc9722fd214.jpg: 640x640 2 dark circles, 5.9ms\n",
            "image 37/404 E:\\Arul\\Edison\\newww\\images\\test\\images\\311_jpg.rf.7e55d9b0b39a20b8323be097f9fb8010.jpg: 640x640 1 acne, 6.7ms\n",
            "image 38/404 E:\\Arul\\Edison\\newww\\images\\test\\images\\31_jpg.rf.92276efcfa7bf2ba9e6a0b7e8aeceb26.jpg: 640x640 1 acne, 2 dark circles, 1 pores, 5.7ms\n",
            "image 39/404 E:\\Arul\\Edison\\newww\\images\\test\\images\\339_jpg.rf.46db2ab74ab8542abe164dad2516310d.jpg: 640x640 1 acne, 5.6ms\n",
            "image 40/404 E:\\Arul\\Edison\\newww\\images\\test\\images\\374_jpg.rf.5c5efe1a8b7d8e5c51399985a0750b69.jpg: 640x640 3 acnes, 4.6ms\n",
            "image 41/404 E:\\Arul\\Edison\\newww\\images\\test\\images\\37_jpg.rf.c30782aee0c8dcbe5494b434b98217ac.jpg: 640x640 2 acnes, 1 pores, 4.2ms\n",
            "image 42/404 E:\\Arul\\Edison\\newww\\images\\test\\images\\389_jpg.rf.468da5b99a7ea5a08f38e108ab07ae53.jpg: 640x640 (no detections), 4.3ms\n",
            "image 43/404 E:\\Arul\\Edison\\newww\\images\\test\\images\\38_jpg.rf.3e25f5003ee4d1c31955395ee0c78fa8.jpg: 640x640 6 acnes, 4.9ms\n",
            "image 44/404 E:\\Arul\\Edison\\newww\\images\\test\\images\\400_jpg.rf.c339ebf3f0ba4408cb149b95476f0f6f.jpg: 640x640 1 acne, 5.4ms\n",
            "image 45/404 E:\\Arul\\Edison\\newww\\images\\test\\images\\410_jpg.rf.af8c9c31fa7a559999183ce47b6e0acb.jpg: 640x640 5 acnes, 4.4ms\n",
            "image 46/404 E:\\Arul\\Edison\\newww\\images\\test\\images\\433_jpg.rf.94da32a32d49826f79aaf9932153be72.jpg: 640x640 1 acne, 2 dark circles, 7.4ms\n",
            "image 47/404 E:\\Arul\\Edison\\newww\\images\\test\\images\\450_jpg.rf.b7237cda30a6b9c2d8c6a2ec35c0530e.jpg: 640x640 2 acnes, 5.2ms\n",
            "image 48/404 E:\\Arul\\Edison\\newww\\images\\test\\images\\462_jpg.rf.ae7833e8ff90eca7394e87c14d87d6c1.jpg: 640x640 3 acnes, 8.6ms\n",
            "image 49/404 E:\\Arul\\Edison\\newww\\images\\test\\images\\465_jpg.rf.92a04c6df6d5603fe119d67e46348e9b.jpg: 640x640 1 pores, 7.6ms\n",
            "image 50/404 E:\\Arul\\Edison\\newww\\images\\test\\images\\477_jpg.rf.25f5a9ab93783b40ec822f1176d3f74d.jpg: 640x640 1 acne, 5.4ms\n",
            "image 51/404 E:\\Arul\\Edison\\newww\\images\\test\\images\\479_jpg.rf.b231d1c3a92cb38a41a6497dccb0f8f3.jpg: 640x640 1 dark circle, 6.0ms\n",
            "image 52/404 E:\\Arul\\Edison\\newww\\images\\test\\images\\498_jpg.rf.864dfa9313b01a8f1ed4a91bf43a16a1.jpg: 640x640 3 acnes, 2 poress, 8.1ms\n",
            "image 53/404 E:\\Arul\\Edison\\newww\\images\\test\\images\\516_jpg.rf.acf048efe6a1976811f270ac3b3f329b.jpg: 640x640 (no detections), 4.5ms\n",
            "image 54/404 E:\\Arul\\Edison\\newww\\images\\test\\images\\529_jpg.rf.80885895598c24ac307d0f4bf0f858e5.jpg: 640x640 (no detections), 4.5ms\n",
            "image 55/404 E:\\Arul\\Edison\\newww\\images\\test\\images\\542_jpg.rf.bb667a9ea91f2ca9df11f9c8559d5fdb.jpg: 640x640 4 acnes, 7.0ms\n",
            "image 56/404 E:\\Arul\\Edison\\newww\\images\\test\\images\\545_jpg.rf.d270d09ca5d23fe155ba0712d3c15e78.jpg: 640x640 (no detections), 7.0ms\n",
            "image 57/404 E:\\Arul\\Edison\\newww\\images\\test\\images\\558_jpg.rf.7bebce229f46a4c06faa7ef957823ff2.jpg: 640x640 2 dark circles, 5.5ms\n",
            "image 58/404 E:\\Arul\\Edison\\newww\\images\\test\\images\\55_jpg.rf.c1238ef462c5fee007b6f47081415e8b.jpg: 640x640 1 acne, 1 dark circle, 5.0ms\n",
            "image 59/404 E:\\Arul\\Edison\\newww\\images\\test\\images\\567_jpg.rf.a0221890f4c1ccee9f315e3515b136e3.jpg: 640x640 (no detections), 5.5ms\n",
            "image 60/404 E:\\Arul\\Edison\\newww\\images\\test\\images\\577_jpg.rf.e8556b5978e623f58908c40110b3b7c2.jpg: 640x640 7 acnes, 6.0ms\n",
            "image 61/404 E:\\Arul\\Edison\\newww\\images\\test\\images\\581_jpg.rf.aabdeb4407fee1e3c7a03ae48395a962.jpg: 640x640 7 acnes, 5.0ms\n",
            "image 62/404 E:\\Arul\\Edison\\newww\\images\\test\\images\\621_jpg.rf.d8e594753d996adaf9dd9c9840b0d40f.jpg: 640x640 (no detections), 5.5ms\n",
            "image 63/404 E:\\Arul\\Edison\\newww\\images\\test\\images\\664_jpg.rf.1191e7f577238daecfc816433aa1781d.jpg: 640x640 2 poress, 5.0ms\n",
            "image 64/404 E:\\Arul\\Edison\\newww\\images\\test\\images\\681_jpg.rf.0218edef6950d307771c76429666e0db.jpg: 640x640 3 acnes, 2 poress, 5.1ms\n",
            "image 65/404 E:\\Arul\\Edison\\newww\\images\\test\\images\\686_jpg.rf.26cdcd3c89d2870448d4658b1f3c3e67.jpg: 640x640 9 acnes, 9.1ms\n",
            "image 66/404 E:\\Arul\\Edison\\newww\\images\\test\\images\\7_jpg.rf.7167fc6638c92600ceb114fedfd05c21.jpg: 640x640 7 acnes, 6.1ms\n",
            "image 67/404 E:\\Arul\\Edison\\newww\\images\\test\\images\\7d10921e4115ecccf3476d7d7ba530a0_jpg.rf.d365676dab3d4b679df581b089d66edd.jpg: 640x640 (no detections), 5.6ms\n",
            "image 68/404 E:\\Arul\\Edison\\newww\\images\\test\\images\\91_jpg.rf.2a5aaf9833901b6a531379c96194ab36.jpg: 640x640 2 acnes, 2 dark circles, 8.3ms\n",
            "image 69/404 E:\\Arul\\Edison\\newww\\images\\test\\images\\94_jpg.rf.0a33702fb6a4d0665255ad0cecf488bb.jpg: 640x640 (no detections), 10.4ms\n",
            "image 70/404 E:\\Arul\\Edison\\newww\\images\\test\\images\\99_jpg.rf.6d2f8f8cf3ea017ac477aed94c33b049.jpg: 640x640 5 acnes, 4.2ms\n",
            "image 71/404 E:\\Arul\\Edison\\newww\\images\\test\\images\\Berminyak-1-_jpg.rf.f96212fc904da3095ddfa29e6cff3326.jpg: 640x640 2 drys, 5.6ms\n",
            "image 72/404 E:\\Arul\\Edison\\newww\\images\\test\\images\\Berminyak-10-_jpg.rf.77432f3f979f5af9a652505ee1446589.jpg: 640x640 7 oilys, 4.1ms\n",
            "image 73/404 E:\\Arul\\Edison\\newww\\images\\test\\images\\Berminyak-11-_jpeg_jpg.rf.df39144479962f2a8f2f6b183a91b4e4.jpg: 640x640 1 oily, 4.1ms\n",
            "image 74/404 E:\\Arul\\Edison\\newww\\images\\test\\images\\Berminyak-26-_jpeg_jpg.rf.6c980dae9caf024fb28ef86c71831545.jpg: 640x640 1 oily, 5.6ms\n",
            "image 75/404 E:\\Arul\\Edison\\newww\\images\\test\\images\\Berminyak-5-_jpeg_jpg.rf.8b1d35edccb2fe4ab247f6a4d4f12566.jpg: 640x640 (no detections), 5.6ms\n",
            "image 76/404 E:\\Arul\\Edison\\newww\\images\\test\\images\\Berminyak-8-_jpeg_jpg.rf.24775edb5494b5c0d3840d89f91ba9e3.jpg: 640x640 2 oilys, 4.6ms\n",
            "image 77/404 E:\\Arul\\Edison\\newww\\images\\test\\images\\Berminyak136_jpg.rf.a432e9d633368507b0759d03e3c3e053.jpg: 640x640 (no detections), 6.1ms\n",
            "image 78/404 E:\\Arul\\Edison\\newww\\images\\test\\images\\Berminyak277_jpg.rf.af17c7b349b8765541a21f99bd1292e7.jpg: 640x640 (no detections), 5.2ms\n",
            "image 79/404 E:\\Arul\\Edison\\newww\\images\\test\\images\\IMG_6817_JPG_jpg.rf.a54884af7e4798db75ddae2aa09e172e.jpg: 640x640 1 oily, 4.6ms\n",
            "image 80/404 E:\\Arul\\Edison\\newww\\images\\test\\images\\Image_100_jpg.rf.392ecb234b19b0843317f6dc39a9993e.jpg: 640x640 1 dry, 5.3ms\n",
            "image 81/404 E:\\Arul\\Edison\\newww\\images\\test\\images\\Image_106_jpg.rf.052f7c620528a8b03bc40dda76a5b15b.jpg: 640x640 1 dry, 5.0ms\n",
            "image 82/404 E:\\Arul\\Edison\\newww\\images\\test\\images\\Image_107_jpg.rf.e4d8238c405585f43b43aef18cb8c379.jpg: 640x640 2 oilys, 8.6ms\n",
            "image 83/404 E:\\Arul\\Edison\\newww\\images\\test\\images\\Image_10_jpg.rf.2089119052039bdbb7d87d2958d8e8cd.jpg: 640x640 1 dark circle, 5.3ms\n",
            "image 84/404 E:\\Arul\\Edison\\newww\\images\\test\\images\\Image_119_jpg.rf.6d40de0c849fd5bac6790b45a38f1373.jpg: 640x640 1 oily, 5.5ms\n",
            "image 85/404 E:\\Arul\\Edison\\newww\\images\\test\\images\\Image_121_png_jpg.rf.5911b9fa26959c157b6284cef9a295c9.jpg: 640x640 3 drys, 4.6ms\n",
            "image 86/404 E:\\Arul\\Edison\\newww\\images\\test\\images\\Image_122_jpg.rf.879da1919499358242e7e9ef19b4b124.jpg: 640x640 2 dark circles, 1 dry, 8.5ms\n",
            "image 87/404 E:\\Arul\\Edison\\newww\\images\\test\\images\\Image_124_jpg.rf.f6954ab1f9f42cc4711da2e54f5dfaca.jpg: 640x640 (no detections), 8.3ms\n",
            "image 88/404 E:\\Arul\\Edison\\newww\\images\\test\\images\\Image_127_jpg.rf.57a86a98ba62d74169302a4d15f555e1.jpg: 640x640 1 acne, 5.1ms\n",
            "image 89/404 E:\\Arul\\Edison\\newww\\images\\test\\images\\Image_129_jpg.rf.8926b87461fded9d215fe8d5d18618a9.jpg: 640x640 4 dark circles, 5.1ms\n",
            "image 90/404 E:\\Arul\\Edison\\newww\\images\\test\\images\\Image_12_jpg.rf.f7113b461e15cc98460fb363a722ec68.jpg: 640x640 2 acnes, 8.7ms\n",
            "image 91/404 E:\\Arul\\Edison\\newww\\images\\test\\images\\Image_135_jpg.rf.31f8f708cda097de3ead362de1c451ed.jpg: 640x640 1 skin redness, 5.2ms\n",
            "image 92/404 E:\\Arul\\Edison\\newww\\images\\test\\images\\Image_139_jpg.rf.959f2c5c4c0036992eefd38f828338ab.jpg: 640x640 4 acnes, 5.7ms\n",
            "image 93/404 E:\\Arul\\Edison\\newww\\images\\test\\images\\Image_13_jpg.rf.48bc8291bfe015a86a5799a57bdaaad9.jpg: 640x640 2 dark circles, 7.2ms\n",
            "image 94/404 E:\\Arul\\Edison\\newww\\images\\test\\images\\Image_14-1-_jpg.rf.a3f7d9f2cda44f72667545c95f62bad9.jpg: 640x640 1 dark circle, 6.2ms\n",
            "image 95/404 E:\\Arul\\Edison\\newww\\images\\test\\images\\Image_140_jpeg_jpg.rf.4e65f4838b5554b2fff799b23ea6e592.jpg: 640x640 3 darkspots, 5.1ms\n",
            "image 96/404 E:\\Arul\\Edison\\newww\\images\\test\\images\\Image_141_jpg.rf.1fc38ddd66de0767d79895cadb35dcc6.jpg: 640x640 1 dark circle, 8.2ms\n",
            "image 97/404 E:\\Arul\\Edison\\newww\\images\\test\\images\\Image_15_jpg.rf.00e8dc5e60ba23010838432174f58637.jpg: 640x640 1 skin redness, 8.1ms\n",
            "image 98/404 E:\\Arul\\Edison\\newww\\images\\test\\images\\Image_18_jpg.rf.d08d62440f3eb9617f792efdbb156814.jpg: 640x640 2 acnes, 6.5ms\n",
            "image 99/404 E:\\Arul\\Edison\\newww\\images\\test\\images\\Image_1_jpg.rf.20928bb11e9c3fe80c250f109b3149b0.jpg: 640x640 3 drys, 1 oily, 10.1ms\n",
            "image 100/404 E:\\Arul\\Edison\\newww\\images\\test\\images\\Image_22_jpg.rf.bff5a27f6fdb00526c722e68093d74ec.jpg: 640x640 5 oilys, 4.3ms\n",
            "image 101/404 E:\\Arul\\Edison\\newww\\images\\test\\images\\Image_23-1-_jpg.rf.ba0ab74c7bbd0503b438b387f59f066b.jpg: 640x640 1 oily, 5.4ms\n",
            "image 102/404 E:\\Arul\\Edison\\newww\\images\\test\\images\\Image_24_jpeg_jpg.rf.bca4c95a6be946e82585cb0e4eecf478.jpg: 640x640 1 acne, 5.1ms\n",
            "image 103/404 E:\\Arul\\Edison\\newww\\images\\test\\images\\Image_25_jpg.rf.3afaf3e35e295201fd166bec2a73aee8.jpg: 640x640 5 oilys, 5.1ms\n",
            "image 104/404 E:\\Arul\\Edison\\newww\\images\\test\\images\\Image_25_jpg.rf.90eb9105b9f9f0b07c206b27ac5ff904.jpg: 640x640 (no detections), 5.6ms\n",
            "image 105/404 E:\\Arul\\Edison\\newww\\images\\test\\images\\Image_26_jpg.rf.05ecf67ab3a38f79ad1f0098e8a1b208.jpg: 640x640 1 dry, 4.1ms\n",
            "image 106/404 E:\\Arul\\Edison\\newww\\images\\test\\images\\Image_26_jpg.rf.18ee17063b5bcba289d838d8f29f7283.jpg: 640x640 1 oily, 5.5ms\n",
            "image 107/404 E:\\Arul\\Edison\\newww\\images\\test\\images\\Image_28_jpg.rf.f33a96f1aadfcdd3192f2416db7784ad.jpg: 640x640 1 dry, 4.1ms\n",
            "image 108/404 E:\\Arul\\Edison\\newww\\images\\test\\images\\Image_29_jpg.rf.4abc16475fcd22fa39cab62340b6b7f6.jpg: 640x640 1 oily, 6.3ms\n",
            "image 109/404 E:\\Arul\\Edison\\newww\\images\\test\\images\\Image_31_jpg.rf.19c43e52abe449a51eecca0be8080d31.jpg: 640x640 3 drys, 5.7ms\n",
            "image 110/404 E:\\Arul\\Edison\\newww\\images\\test\\images\\Image_34_jpeg_jpg.rf.5c989dff3d34649881f2a156ac3f86b5.jpg: 640x640 1 dark circle, 6.1ms\n",
            "image 111/404 E:\\Arul\\Edison\\newww\\images\\test\\images\\Image_34_jpg.rf.fecf91b4333bf7b35b199ee6a170d73b.jpg: 640x640 1 acne, 1 dark circle, 1 darkspot, 7.2ms\n",
            "image 112/404 E:\\Arul\\Edison\\newww\\images\\test\\images\\Image_35_jpg.rf.2ae082f5aa5ca539ed3fb72814f89615.jpg: 640x640 1 dark circle, 6.1ms\n",
            "image 113/404 E:\\Arul\\Edison\\newww\\images\\test\\images\\Image_37-1-_jpg.rf.7be219ae9bddfc500bd8d3d5c7652939.jpg: 640x640 1 acne, 6.2ms\n",
            "image 114/404 E:\\Arul\\Edison\\newww\\images\\test\\images\\Image_39_jpg.rf.7a4ec1fb14e69dbb98e42d61171218ba.jpg: 640x640 1 acne, 4.6ms\n",
            "image 115/404 E:\\Arul\\Edison\\newww\\images\\test\\images\\Image_3_jpg.rf.9323b550f00dfc5310b3d11c7cd1b0b7.jpg: 640x640 5 oilys, 4.3ms\n",
            "image 116/404 E:\\Arul\\Edison\\newww\\images\\test\\images\\Image_43_jpg.rf.435c1029ee59144f00e29084af562c33.jpg: 640x640 2 acnes, 11.1ms\n",
            "image 117/404 E:\\Arul\\Edison\\newww\\images\\test\\images\\Image_45_jpg.rf.efd9ab274e634b84bbe66de4db573c14.jpg: 640x640 3 acnes, 7.2ms\n",
            "image 118/404 E:\\Arul\\Edison\\newww\\images\\test\\images\\Image_47_jpg.rf.d35f3264c1d139383653804f3cfd5221.jpg: 640x640 3 darkspots, 5.1ms\n",
            "image 119/404 E:\\Arul\\Edison\\newww\\images\\test\\images\\Image_4_jpg.rf.9a6d671ae4d3eeefad7f37269f52bcc7.jpg: 640x640 1 oily, 7.9ms\n",
            "image 120/404 E:\\Arul\\Edison\\newww\\images\\test\\images\\Image_52_jpg.rf.d9c91fb12f5f2dfa254aed83c3135a99.jpg: 640x640 1 acne, 5.2ms\n",
            "image 121/404 E:\\Arul\\Edison\\newww\\images\\test\\images\\Image_53_jpg.rf.d6bb00e3df3a773fa19463ba91d5cc91.jpg: 640x640 2 acnes, 5.1ms\n",
            "image 122/404 E:\\Arul\\Edison\\newww\\images\\test\\images\\Image_53_png_jpg.rf.d090d62e9b3adc05d645a0e30feea4e3.jpg: 640x640 1 acne, 4.1ms\n",
            "image 123/404 E:\\Arul\\Edison\\newww\\images\\test\\images\\Image_59_jpg.rf.2769b6177523a27635ad5efe8715d567.jpg: 640x640 2 acnes, 4.6ms\n",
            "image 124/404 E:\\Arul\\Edison\\newww\\images\\test\\images\\Image_5_jpg.rf.ae108312eac55ec6dc040deb2a57ca92.jpg: 640x640 1 darkspot, 8.9ms\n",
            "image 125/404 E:\\Arul\\Edison\\newww\\images\\test\\images\\Image_63_png_jpg.rf.7f1bd8a8037d4550c6cf1ef5006bb6e9.jpg: 640x640 2 acnes, 7.4ms\n",
            "image 126/404 E:\\Arul\\Edison\\newww\\images\\test\\images\\Image_67_jpg.rf.2552f9ce128f488918fb0ccdde5872ea.jpg: 640x640 4 acnes, 1 dark circle, 5.2ms\n",
            "image 127/404 E:\\Arul\\Edison\\newww\\images\\test\\images\\Image_6_jpg.rf.817a9429f7ac9cc85425d6df4cc37d6a.jpg: 640x640 1 acne, 1 oily, 7.4ms\n",
            "image 128/404 E:\\Arul\\Edison\\newww\\images\\test\\images\\Image_70_jpg.rf.2c701de7ab01fb0b088ec5e3866dfe4b.jpg: 640x640 1 acne, 7.7ms\n",
            "image 129/404 E:\\Arul\\Edison\\newww\\images\\test\\images\\Image_73_jpg.rf.3428988c00ae2401265faaa9fa2f857d.jpg: 640x640 1 acne, 8.4ms\n",
            "image 130/404 E:\\Arul\\Edison\\newww\\images\\test\\images\\Image_76_jpg.rf.e27f834d0e11dbe2bc4dab62140c6899.jpg: 640x640 (no detections), 5.7ms\n",
            "image 131/404 E:\\Arul\\Edison\\newww\\images\\test\\images\\Image_7_jpg.rf.252f1faaf01c174d9134e9e1aa3f6aa4.jpg: 640x640 3 darkspots, 8.1ms\n",
            "image 132/404 E:\\Arul\\Edison\\newww\\images\\test\\images\\Image_82_jpg.rf.4b472df9562387ed0cc5eb23a9b33cfd.jpg: 640x640 (no detections), 8.7ms\n",
            "image 133/404 E:\\Arul\\Edison\\newww\\images\\test\\images\\Image_82_png_jpg.rf.96bbd5ca0f767f65cd8509713805adf9.jpg: 640x640 1 oily, 9.2ms\n",
            "image 134/404 E:\\Arul\\Edison\\newww\\images\\test\\images\\Image_83_jpg.rf.c1f88ba4abb29bcd959c53b2269137ee.jpg: 640x640 1 dry, 5.2ms\n",
            "image 135/404 E:\\Arul\\Edison\\newww\\images\\test\\images\\Image_85_jpg.rf.6313ce0c0c7ffdf77941a9dbb5ddc0f1.jpg: 640x640 1 dry, 6.0ms\n",
            "image 136/404 E:\\Arul\\Edison\\newww\\images\\test\\images\\Image_86_jpg.rf.fd6dc078de228fe44fcf228990cd2782.jpg: 640x640 2 acnes, 7.3ms\n",
            "image 137/404 E:\\Arul\\Edison\\newww\\images\\test\\images\\Image_8_jpg.rf.5a7ebf3f15ae24345ea07a9a9777ab89.jpg: 640x640 (no detections), 5.5ms\n",
            "image 138/404 E:\\Arul\\Edison\\newww\\images\\test\\images\\Image_92_jpg.rf.a67a32323e148d24320355be64e59d97.jpg: 640x640 (no detections), 5.1ms\n",
            "image 139/404 E:\\Arul\\Edison\\newww\\images\\test\\images\\Image_93_jpg.rf.5c27a3b073a8d0279c18258b47133de7.jpg: 640x640 1 dry, 4.3ms\n",
            "image 140/404 E:\\Arul\\Edison\\newww\\images\\test\\images\\Image_94_png_jpg.rf.1887775404df1921d58940f482c3da43.jpg: 640x640 2 dark circles, 4.1ms\n",
            "image 141/404 E:\\Arul\\Edison\\newww\\images\\test\\images\\Image_97_jpg.rf.a6d30a0f7d3d69d293eed1e46901300a.jpg: 640x640 2 acnes, 4.1ms\n",
            "image 142/404 E:\\Arul\\Edison\\newww\\images\\test\\images\\Image_9_jpg.rf.1e75a28400a29ddb0dc894d8128c8f06.jpg: 640x640 4 oilys, 6.7ms\n",
            "image 143/404 E:\\Arul\\Edison\\newww\\images\\test\\images\\Kering-15-_jpeg_jpg.rf.9973552a13ea99c3c618f8d947e6d0df.jpg: 640x640 (no detections), 6.3ms\n",
            "image 144/404 E:\\Arul\\Edison\\newww\\images\\test\\images\\Kering-20-_JPG_jpg.rf.098db4c2207ef43a7994dab4a9a79ede.jpg: 640x640 (no detections), 4.2ms\n",
            "image 145/404 E:\\Arul\\Edison\\newww\\images\\test\\images\\Kering-28-_jpg.rf.a5a13f995b7c8046f82fbdd4849173b9.jpg: 640x640 (no detections), 6.2ms\n",
            "image 146/404 E:\\Arul\\Edison\\newww\\images\\test\\images\\Kering-32-_jpg.rf.efd0dda89a29c8d358fcd14258e5f802.jpg: 640x640 1 dry, 5.2ms\n",
            "image 147/404 E:\\Arul\\Edison\\newww\\images\\test\\images\\Kering-33-_jpeg_jpg.rf.97fd62a41cd48a41a4bce74539a88363.jpg: 640x640 1 acne, 5.1ms\n",
            "image 148/404 E:\\Arul\\Edison\\newww\\images\\test\\images\\Kering-35-_jpeg_jpg.rf.b79fdf9ce9e284469e3dbd4d7bc615de.jpg: 640x640 3 drys, 4.1ms\n",
            "image 149/404 E:\\Arul\\Edison\\newww\\images\\test\\images\\Kering-4-_jpeg_jpg.rf.69df53776100a8124bac79052336bf07.jpg: 640x640 (no detections), 4.1ms\n",
            "image 150/404 E:\\Arul\\Edison\\newww\\images\\test\\images\\Kering-45-_jpg.rf.df18f54f84a11b820bc41c2c4a982209.jpg: 640x640 2 acnes, 5.1ms\n",
            "image 151/404 E:\\Arul\\Edison\\newww\\images\\test\\images\\Kering-9-_jpeg_jpg.rf.09557799f9f6ecdee43cdd23ce51465a.jpg: 640x640 1 dry, 5.1ms\n",
            "image 152/404 E:\\Arul\\Edison\\newww\\images\\test\\images\\acne-10-_jpg.rf.04e1923ded28e41fa1da963c45ac278c.jpg: 640x640 4 acnes, 6.0ms\n",
            "image 153/404 E:\\Arul\\Edison\\newww\\images\\test\\images\\acne-117-_jpeg_jpg.rf.da86e3cd801661df0d99666d55f686a0.jpg: 640x640 1 acne, 4.7ms\n",
            "image 154/404 E:\\Arul\\Edison\\newww\\images\\test\\images\\acne-118-_jpeg_jpg.rf.587334a2f1d9025fee2c297fcc511267.jpg: 640x640 (no detections), 6.1ms\n",
            "image 155/404 E:\\Arul\\Edison\\newww\\images\\test\\images\\acne-118-_jpg.rf.abb4a3428a722de245efc495cd8139c0.jpg: 640x640 3 acnes, 4.1ms\n",
            "image 156/404 E:\\Arul\\Edison\\newww\\images\\test\\images\\acne-128-_jpeg_jpg.rf.0c0c7fa0942c7776de02f9bdef2d4cbf.jpg: 640x640 1 acne, 5.1ms\n",
            "image 157/404 E:\\Arul\\Edison\\newww\\images\\test\\images\\acne-130-_jpeg_jpg.rf.089cc37a1a6690d3e7f78c5b1bc50771.jpg: 640x640 2 acnes, 4.1ms\n",
            "image 158/404 E:\\Arul\\Edison\\newww\\images\\test\\images\\acne-131-_jpg.rf.72a16d8a2cb9a7bde862ac8147decefe.jpg: 640x640 1 acne, 6.8ms\n",
            "image 159/404 E:\\Arul\\Edison\\newww\\images\\test\\images\\acne-141-_jpeg_jpg.rf.5b7069d04ca52346fa3f32b727c2696e.jpg: 640x640 7 acnes, 6.2ms\n",
            "image 160/404 E:\\Arul\\Edison\\newww\\images\\test\\images\\acne-142-_jpeg_jpg.rf.e5b4cc59c8dfe5b3a0dd9b16aa52b9a3.jpg: 640x640 (no detections), 5.1ms\n",
            "image 161/404 E:\\Arul\\Edison\\newww\\images\\test\\images\\acne-145-_jpg.rf.59578a01bb482e81c5585d94e8aa548b.jpg: 640x640 2 acnes, 9.2ms\n",
            "image 162/404 E:\\Arul\\Edison\\newww\\images\\test\\images\\acne-149-_jpeg_jpg.rf.11c3a40b7f3b34c7f3ba67a5d7806921.jpg: 640x640 2 acnes, 6.1ms\n",
            "image 163/404 E:\\Arul\\Edison\\newww\\images\\test\\images\\acne-162-_jpeg_jpg.rf.afc44312b45f247450d070008fe8677a.jpg: 640x640 6 acnes, 4.6ms\n",
            "image 164/404 E:\\Arul\\Edison\\newww\\images\\test\\images\\acne-18-_png_jpg.rf.416dad1b9a2acbf428aa05f230023ba3.jpg: 640x640 1 acne, 5.0ms\n",
            "image 165/404 E:\\Arul\\Edison\\newww\\images\\test\\images\\acne-186-_jpeg_jpg.rf.d66d7430182a58398db312217992856d.jpg: 640x640 4 acnes, 5.6ms\n",
            "image 166/404 E:\\Arul\\Edison\\newww\\images\\test\\images\\acne-187-_jpeg_jpg.rf.12ed5edb40a57330f97461e31bab0598.jpg: 640x640 (no detections), 5.7ms\n",
            "image 167/404 E:\\Arul\\Edison\\newww\\images\\test\\images\\acne-194-_jpeg_jpg.rf.a1c42e1f635593fc549de2465e91b6c6.jpg: 640x640 2 acnes, 5.1ms\n",
            "image 168/404 E:\\Arul\\Edison\\newww\\images\\test\\images\\acne-204-_jpg.rf.e81f869a94ad36d74e95c95b3d39fa4f.jpg: 640x640 (no detections), 5.1ms\n",
            "image 169/404 E:\\Arul\\Edison\\newww\\images\\test\\images\\acne-207-_jpeg_jpg.rf.f4a5b56417fbaf12c658fe42c2d22dec.jpg: 640x640 (no detections), 4.4ms\n",
            "image 170/404 E:\\Arul\\Edison\\newww\\images\\test\\images\\acne-209-_jpeg_jpg.rf.3421c0e81a658e6f9b03c62e26bd5bef.jpg: 640x640 2 acnes, 4.6ms\n",
            "image 171/404 E:\\Arul\\Edison\\newww\\images\\test\\images\\acne-209-_jpg.rf.aa2d2126d8ac66e8a1cb22d431663055.jpg: 640x640 (no detections), 4.8ms\n",
            "image 172/404 E:\\Arul\\Edison\\newww\\images\\test\\images\\acne-228-_jpeg_jpg.rf.fa84866974a3c6117155aa5f9cf15884.jpg: 640x640 (no detections), 5.0ms\n",
            "image 173/404 E:\\Arul\\Edison\\newww\\images\\test\\images\\acne-243-_jpeg_jpg.rf.10a4f3a35e3abea7e7371fe726bc3109.jpg: 640x640 (no detections), 5.2ms\n",
            "image 174/404 E:\\Arul\\Edison\\newww\\images\\test\\images\\acne-245-_jpg.rf.ad8f468ed305ee028b09d5aaaa691ba6.jpg: 640x640 3 acnes, 5.4ms\n",
            "image 175/404 E:\\Arul\\Edison\\newww\\images\\test\\images\\acne-250-_jpeg_jpg.rf.8061c9d0418a3f5acb65744ce9e5209e.jpg: 640x640 1 acne, 6.5ms\n",
            "image 176/404 E:\\Arul\\Edison\\newww\\images\\test\\images\\acne-255-_jpeg_jpg.rf.ecf25850069f49093a01189f2975dc0c.jpg: 640x640 (no detections), 5.4ms\n",
            "image 177/404 E:\\Arul\\Edison\\newww\\images\\test\\images\\acne-257-_jpeg_jpg.rf.66d155cf331b55e95cebe2e73d458723.jpg: 640x640 2 acnes, 5.8ms\n",
            "image 178/404 E:\\Arul\\Edison\\newww\\images\\test\\images\\acne-258-_jpeg_jpg.rf.905a6f30988a49444d768b0daa9656a2.jpg: 640x640 4 acnes, 5.2ms\n",
            "image 179/404 E:\\Arul\\Edison\\newww\\images\\test\\images\\acne-263-_jpg.rf.e40f870b5742a3139a61cd2686818916.jpg: 640x640 4 acnes, 5.2ms\n",
            "image 180/404 E:\\Arul\\Edison\\newww\\images\\test\\images\\acne-271-_jpeg_jpg.rf.7b32964495bbc5e3fe21fb2ecc827602.jpg: 640x640 2 acnes, 5.2ms\n",
            "image 181/404 E:\\Arul\\Edison\\newww\\images\\test\\images\\acne-275-_jpg.rf.d5c8023aa03a8a670a8940f6f88db58c.jpg: 640x640 5 acnes, 4.9ms\n",
            "image 182/404 E:\\Arul\\Edison\\newww\\images\\test\\images\\acne-279-_jpeg_jpg.rf.662fecd4e0c31f7335fbe129d86e6a34.jpg: 640x640 3 acnes, 5.1ms\n",
            "image 183/404 E:\\Arul\\Edison\\newww\\images\\test\\images\\acne-287-_jpeg_jpg.rf.89e3c14b44f8a642a7b147950a3957e1.jpg: 640x640 3 acnes, 5.0ms\n",
            "image 184/404 E:\\Arul\\Edison\\newww\\images\\test\\images\\acne-288-_jpeg_jpg.rf.3e706a18142e5786efefc1af91e6c6c6.jpg: 640x640 12 acnes, 4.1ms\n",
            "image 185/404 E:\\Arul\\Edison\\newww\\images\\test\\images\\acne-288-_jpg.rf.95e9a98af208edb1e371e60e119690db.jpg: 640x640 (no detections), 5.1ms\n",
            "image 186/404 E:\\Arul\\Edison\\newww\\images\\test\\images\\acne-294-_jpg.rf.83459b09da2b65a866dca926b9ba5d68.jpg: 640x640 1 acne, 5.7ms\n",
            "image 187/404 E:\\Arul\\Edison\\newww\\images\\test\\images\\acne-296-_jpg.rf.13be05f8483ec36e7c2648f997c8be96.jpg: 640x640 4 acnes, 4.9ms\n",
            "image 188/404 E:\\Arul\\Edison\\newww\\images\\test\\images\\acne-300-_jpg.rf.7afa7f3fb1d64ff9a39d912f3e7d2f89.jpg: 640x640 (no detections), 5.0ms\n",
            "image 189/404 E:\\Arul\\Edison\\newww\\images\\test\\images\\acne-301-_jpeg_jpg.rf.b40cc524f86a60e77b3d5cbe80ef126a.jpg: 640x640 1 acne, 5.3ms\n",
            "image 190/404 E:\\Arul\\Edison\\newww\\images\\test\\images\\acne-306-_jpeg_jpg.rf.a970b6b3b1d292b32dc55915240dcfad.jpg: 640x640 (no detections), 4.3ms\n",
            "image 191/404 E:\\Arul\\Edison\\newww\\images\\test\\images\\acne-320-_jpeg_jpg.rf.5ddcacd7c10d51381532decd05d7d737.jpg: 640x640 1 acne, 4.2ms\n",
            "image 192/404 E:\\Arul\\Edison\\newww\\images\\test\\images\\acne-324-_jpeg_jpg.rf.2a1aaa3d5d1ee3a803bd9cd094355ffb.jpg: 640x640 2 acnes, 4.7ms\n",
            "image 193/404 E:\\Arul\\Edison\\newww\\images\\test\\images\\acne-336-_jpg.rf.2f2ff06ed3c36699e429bb2a57e1f19e.jpg: 640x640 4 acnes, 4.1ms\n",
            "image 194/404 E:\\Arul\\Edison\\newww\\images\\test\\images\\acne-341-_jpeg_jpg.rf.a54c976358fb8bc74b8c9e58ae651053.jpg: 640x640 2 acnes, 4.1ms\n",
            "image 195/404 E:\\Arul\\Edison\\newww\\images\\test\\images\\acne-344-_jpg.rf.37206891f5134922bd2142119cb57f7a.jpg: 640x640 10 acnes, 4.7ms\n",
            "image 196/404 E:\\Arul\\Edison\\newww\\images\\test\\images\\acne-354-_jpg.rf.0e77271e8bd846c804086e0f75201c4c.jpg: 640x640 4 acnes, 4.1ms\n",
            "image 197/404 E:\\Arul\\Edison\\newww\\images\\test\\images\\acne-363-_jpg.rf.70c0f3c77f191eaa1cfb53f9c43c52df.jpg: 640x640 (no detections), 4.7ms\n",
            "image 198/404 E:\\Arul\\Edison\\newww\\images\\test\\images\\acne-364-_jpeg_jpg.rf.441a3e05144a600995363b7be3ff670b.jpg: 640x640 4 acnes, 4.8ms\n",
            "image 199/404 E:\\Arul\\Edison\\newww\\images\\test\\images\\acne-369-_jpg.rf.e5727a9ef6f8d18d4e294fc88e187b49.jpg: 640x640 (no detections), 5.2ms\n",
            "image 200/404 E:\\Arul\\Edison\\newww\\images\\test\\images\\acne-371-_jpg.rf.804382c25c785e6402960033815eada0.jpg: 640x640 (no detections), 4.7ms\n",
            "image 201/404 E:\\Arul\\Edison\\newww\\images\\test\\images\\acne-383-_jpg.rf.0d6d0eaf070634e0650d8fe5e0403f5b.jpg: 640x640 (no detections), 5.3ms\n",
            "image 202/404 E:\\Arul\\Edison\\newww\\images\\test\\images\\acne-388-_jpeg_jpg.rf.30ffe53d0a6ee33156d1e4129a566f79.jpg: 640x640 11 acnes, 4.1ms\n",
            "image 203/404 E:\\Arul\\Edison\\newww\\images\\test\\images\\acne-40-_jpg.rf.65b87ad2cd823942cc40c65dba67e705.jpg: 640x640 2 acnes, 4.1ms\n",
            "image 204/404 E:\\Arul\\Edison\\newww\\images\\test\\images\\acne-40-_png_jpg.rf.c9940efa80fcff195d66092d9639399c.jpg: 640x640 2 acnes, 5.2ms\n",
            "image 205/404 E:\\Arul\\Edison\\newww\\images\\test\\images\\acne-405-_jpg.rf.e40e15455f437c0c644c79ae0167e5d3.jpg: 640x640 (no detections), 4.6ms\n",
            "image 206/404 E:\\Arul\\Edison\\newww\\images\\test\\images\\acne-406-_jpg.rf.5ff11d2310a0155cb5ad5383812aa0f7.jpg: 640x640 (no detections), 4.1ms\n",
            "image 207/404 E:\\Arul\\Edison\\newww\\images\\test\\images\\acne-415-_jpg.rf.e4734f9ed05b54678810f892431f22b4.jpg: 640x640 (no detections), 4.0ms\n",
            "image 208/404 E:\\Arul\\Edison\\newww\\images\\test\\images\\acne-418-_jpeg_jpg.rf.6169983000932c1e7b43c2c97681a6c3.jpg: 640x640 1 acne, 4.2ms\n",
            "image 209/404 E:\\Arul\\Edison\\newww\\images\\test\\images\\acne-420-_jpg.rf.cd015259393f34fb842829d3e00c1429.jpg: 640x640 (no detections), 4.2ms\n",
            "image 210/404 E:\\Arul\\Edison\\newww\\images\\test\\images\\acne-422-_jpeg_jpg.rf.7d0ae21acd048200d67cd7f6f8cdd0b1.jpg: 640x640 4 acnes, 5.1ms\n",
            "image 211/404 E:\\Arul\\Edison\\newww\\images\\test\\images\\acne-424-_jpeg_jpg.rf.c9f6e93d73927722eaa3573e24424aa5.jpg: 640x640 (no detections), 5.1ms\n",
            "image 212/404 E:\\Arul\\Edison\\newww\\images\\test\\images\\acne-426-_jpg.rf.0455ca416ae4648e034d4dfa7f589520.jpg: 640x640 (no detections), 5.1ms\n",
            "image 213/404 E:\\Arul\\Edison\\newww\\images\\test\\images\\acne-427-_jpeg_jpg.rf.5197fb916661ebd74858e12d953cad13.jpg: 640x640 1 acne, 5.3ms\n",
            "image 214/404 E:\\Arul\\Edison\\newww\\images\\test\\images\\acne-427-_jpg.rf.9bd902e7b658dad4a093a23930ed48b7.jpg: 640x640 4 acnes, 5.1ms\n",
            "image 215/404 E:\\Arul\\Edison\\newww\\images\\test\\images\\acne-430-_jpeg_jpg.rf.ec78dc3d1b4b8bccb9dde54979ec6b35.jpg: 640x640 3 acnes, 4.6ms\n",
            "image 216/404 E:\\Arul\\Edison\\newww\\images\\test\\images\\acne-434-_jpeg_jpg.rf.09c78382dcc3205412da3ac3c1477ebe.jpg: 640x640 (no detections), 5.2ms\n",
            "image 217/404 E:\\Arul\\Edison\\newww\\images\\test\\images\\acne-435-_jpeg_jpg.rf.70610e26fa59a092e1032d45973393e0.jpg: 640x640 2 acnes, 4.1ms\n",
            "image 218/404 E:\\Arul\\Edison\\newww\\images\\test\\images\\acne-436-_jpeg_jpg.rf.06d1f64490976e83cf008bbcd412f617.jpg: 640x640 1 acne, 5.1ms\n",
            "image 219/404 E:\\Arul\\Edison\\newww\\images\\test\\images\\acne-442-_jpg.rf.d9d7d4925c73ef6837d32411c38c8bc3.jpg: 640x640 (no detections), 5.4ms\n",
            "image 220/404 E:\\Arul\\Edison\\newww\\images\\test\\images\\acne-444-_jpg.rf.7a191b97bc302caaee8723ccd392ad32.jpg: 640x640 3 acnes, 5.1ms\n",
            "image 221/404 E:\\Arul\\Edison\\newww\\images\\test\\images\\acne-46-_png_jpg.rf.60a12df8d2941e320bc8d42e7a362c3f.jpg: 640x640 1 skin redness, 5.4ms\n",
            "image 222/404 E:\\Arul\\Edison\\newww\\images\\test\\images\\acne-460-_jpg.rf.7e2ebc1aa861a775267573174a294223.jpg: 640x640 1 acne, 5.7ms\n",
            "image 223/404 E:\\Arul\\Edison\\newww\\images\\test\\images\\acne-462-_jpg.rf.908f9dc8b479fcf61f015d8a45fb4049.jpg: 640x640 (no detections), 5.2ms\n",
            "image 224/404 E:\\Arul\\Edison\\newww\\images\\test\\images\\acne-463-_jpeg_jpg.rf.b665d47b8b21fbfc7788e36fd8da11b5.jpg: 640x640 5 acnes, 5.1ms\n",
            "image 225/404 E:\\Arul\\Edison\\newww\\images\\test\\images\\acne-464-_jpg.rf.416e105e5e6ffff40c8aaf5ea328cad2.jpg: 640x640 (no detections), 5.1ms\n",
            "image 226/404 E:\\Arul\\Edison\\newww\\images\\test\\images\\acne-466-_jpg.rf.dc67cdda6c3a5b04c6cfb2d5e9e97800.jpg: 640x640 5 acnes, 5.7ms\n",
            "image 227/404 E:\\Arul\\Edison\\newww\\images\\test\\images\\acne-468-_jpg.rf.1d6e50b1a0ee2b668f3495673ee7bbd0.jpg: 640x640 3 acnes, 6.2ms\n",
            "image 228/404 E:\\Arul\\Edison\\newww\\images\\test\\images\\acne-481-_jpg.rf.9eb6ca0b79f4805858d6af740a19db19.jpg: 640x640 2 acnes, 5.2ms\n",
            "image 229/404 E:\\Arul\\Edison\\newww\\images\\test\\images\\acne-484-_jpeg_jpg.rf.4d76a5951abcf2eb8466eae5c7858ef5.jpg: 640x640 (no detections), 4.7ms\n",
            "image 230/404 E:\\Arul\\Edison\\newww\\images\\test\\images\\acne-484-_jpg.rf.35184a7a2b0925890b5773f0377e0dd6.jpg: 640x640 3 acnes, 5.2ms\n",
            "image 231/404 E:\\Arul\\Edison\\newww\\images\\test\\images\\acne-49-_jpg.rf.fb9d193b67f1a990df4fa9c24918475e.jpg: 640x640 1 acne, 4.9ms\n",
            "image 232/404 E:\\Arul\\Edison\\newww\\images\\test\\images\\acne-49-_png_jpg.rf.49f94904e42d438b9de1c50aa78fdbf7.jpg: 640x640 1 acne, 5.1ms\n",
            "image 233/404 E:\\Arul\\Edison\\newww\\images\\test\\images\\acne-490-_jpg.rf.b9634038904215a2b6cf1c02aefb9796.jpg: 640x640 4 acnes, 5.3ms\n",
            "image 234/404 E:\\Arul\\Edison\\newww\\images\\test\\images\\acne-493-_jpeg_jpg.rf.13e4e0099c226cdcdccc474afd70d5e5.jpg: 640x640 2 acnes, 6.9ms\n",
            "image 235/404 E:\\Arul\\Edison\\newww\\images\\test\\images\\acne-493-_jpg.rf.77f5ff2ff1675df187db655a5d027cd0.jpg: 640x640 1 acne, 6.1ms\n",
            "image 236/404 E:\\Arul\\Edison\\newww\\images\\test\\images\\acne-494-_jpeg_jpg.rf.2c656077ca66bba7bfb2a289e344beb9.jpg: 640x640 (no detections), 5.2ms\n",
            "image 237/404 E:\\Arul\\Edison\\newww\\images\\test\\images\\acne-5-_jpeg_jpg.rf.76618de180473d8ae402d0f0e923250e.jpg: 640x640 (no detections), 5.5ms\n",
            "image 238/404 E:\\Arul\\Edison\\newww\\images\\test\\images\\acne-5-_jpg.rf.6fa7941993cf26f6bcece12107d6cc47.jpg: 640x640 2 acnes, 5.4ms\n",
            "image 239/404 E:\\Arul\\Edison\\newww\\images\\test\\images\\acne-509-_jpg.rf.8698fc8384f003d9d7d9c0e208627d98.jpg: 640x640 (no detections), 4.6ms\n",
            "image 240/404 E:\\Arul\\Edison\\newww\\images\\test\\images\\acne-513-_jpg.rf.6cc8dc584c938fc4630eb53322efe41f.jpg: 640x640 1 acne, 4.1ms\n",
            "image 241/404 E:\\Arul\\Edison\\newww\\images\\test\\images\\acne-518-_jpg.rf.846ee39b5ce6f9a8ba149c56073afbf2.jpg: 640x640 (no detections), 5.5ms\n",
            "image 242/404 E:\\Arul\\Edison\\newww\\images\\test\\images\\acne-521-_jpeg_jpg.rf.b7e92f5a33ab77fbd42f045678ae9a38.jpg: 640x640 (no detections), 4.7ms\n",
            "image 243/404 E:\\Arul\\Edison\\newww\\images\\test\\images\\acne-53-_jpeg_jpg.rf.2f33fb2a82c9602374bf931b19fb7ff1.jpg: 640x640 2 acnes, 4.8ms\n",
            "image 244/404 E:\\Arul\\Edison\\newww\\images\\test\\images\\acne-533-_jpeg_jpg.rf.72e4e135f7a19ef2f9e22794cae91790.jpg: 640x640 3 acnes, 4.7ms\n",
            "image 245/404 E:\\Arul\\Edison\\newww\\images\\test\\images\\acne-539-_jpeg_jpg.rf.4dfa1b68d52df4d22f2e1372f026c89c.jpg: 640x640 2 acnes, 5.2ms\n",
            "image 246/404 E:\\Arul\\Edison\\newww\\images\\test\\images\\acne-540-_jpeg_jpg.rf.7128bb37335e59009dbb6f3a3805d990.jpg: 640x640 4 acnes, 5.2ms\n",
            "image 247/404 E:\\Arul\\Edison\\newww\\images\\test\\images\\acne-544-_jpg.rf.96d8acdc5ff370c54937ec8f803dac66.jpg: 640x640 (no detections), 6.0ms\n",
            "image 248/404 E:\\Arul\\Edison\\newww\\images\\test\\images\\acne-545-_jpg.rf.bb938dbd87e89fb384bce1111340b12d.jpg: 640x640 2 acnes, 5.4ms\n",
            "image 249/404 E:\\Arul\\Edison\\newww\\images\\test\\images\\acne-549-_jpeg_jpg.rf.eca6b12c6ba36335842e66a3ddc4a775.jpg: 640x640 (no detections), 5.8ms\n",
            "image 250/404 E:\\Arul\\Edison\\newww\\images\\test\\images\\acne-55-_jpg.rf.4cb592f2d0893379436034f2fe20098f.jpg: 640x640 (no detections), 6.6ms\n",
            "image 251/404 E:\\Arul\\Edison\\newww\\images\\test\\images\\acne-553-_jpg.rf.fbba1bbd74f8232241dce29fbe72b2ca.jpg: 640x640 3 acnes, 4.8ms\n",
            "image 252/404 E:\\Arul\\Edison\\newww\\images\\test\\images\\acne-555-_jpg.rf.69b3f6bbb39c686153315b7b31c4e827.jpg: 640x640 1 acne, 5.5ms\n",
            "image 253/404 E:\\Arul\\Edison\\newww\\images\\test\\images\\acne-556-_jpeg_jpg.rf.cca116b6ec08ecfc5b2523bfffd541a4.jpg: 640x640 2 acnes, 9.5ms\n",
            "image 254/404 E:\\Arul\\Edison\\newww\\images\\test\\images\\acne-56-_jpg.rf.ffe608f8edc8b9c45af5d91500c7c8d5.jpg: 640x640 (no detections), 5.3ms\n",
            "image 255/404 E:\\Arul\\Edison\\newww\\images\\test\\images\\acne-563-_jpeg_jpg.rf.f82c545d6e47c8c02ea4d56b463b1f50.jpg: 640x640 9 acnes, 5.6ms\n",
            "image 256/404 E:\\Arul\\Edison\\newww\\images\\test\\images\\acne-569-_jpeg_jpg.rf.74953d91be2a71004fee991a3acd554e.jpg: 640x640 1 acne, 5.5ms\n",
            "image 257/404 E:\\Arul\\Edison\\newww\\images\\test\\images\\acne-57-_jpeg_jpg.rf.beb68893c1b61122b841afa753c84db7.jpg: 640x640 6 acnes, 5.1ms\n",
            "image 258/404 E:\\Arul\\Edison\\newww\\images\\test\\images\\acne-575-_jpg.rf.0bceb43af74d0cca6b63befd87fb68cf.jpg: 640x640 4 acnes, 5.0ms\n",
            "image 259/404 E:\\Arul\\Edison\\newww\\images\\test\\images\\acne-578-_jpeg_jpg.rf.c653bef8cbb758373bd2ac1c260a2823.jpg: 640x640 2 acnes, 5.0ms\n",
            "image 260/404 E:\\Arul\\Edison\\newww\\images\\test\\images\\acne-591-_jpeg_jpg.rf.37b2bacba7b3c762a4aa095629a41e78.jpg: 640x640 6 acnes, 4.0ms\n",
            "image 261/404 E:\\Arul\\Edison\\newww\\images\\test\\images\\acne-601-_jpeg_jpg.rf.413712df87093cf50ff4a82b5ac8b7c5.jpg: 640x640 4 acnes, 7.0ms\n",
            "image 262/404 E:\\Arul\\Edison\\newww\\images\\test\\images\\acne-604-_jpg.rf.6a9e0caedd1cd57140c07737906b21b1.jpg: 640x640 4 acnes, 10.3ms\n",
            "image 263/404 E:\\Arul\\Edison\\newww\\images\\test\\images\\acne-607-_jpg.rf.1f34eaa9b25c66bd682cec640c6f46f1.jpg: 640x640 1 acne, 6.5ms\n",
            "image 264/404 E:\\Arul\\Edison\\newww\\images\\test\\images\\acne-610-_jpeg_jpg.rf.685451d0e3353279eb185c587e42c8d0.jpg: 640x640 2 acnes, 5.3ms\n",
            "image 265/404 E:\\Arul\\Edison\\newww\\images\\test\\images\\acne-616-_jpeg_jpg.rf.62026a4d827459ce74a01f0304c55362.jpg: 640x640 1 acne, 5.5ms\n",
            "image 266/404 E:\\Arul\\Edison\\newww\\images\\test\\images\\acne-619-_jpeg_jpg.rf.d416ee179ca11e2ea6c6cbb3c9387309.jpg: 640x640 1 acne, 5.0ms\n",
            "image 267/404 E:\\Arul\\Edison\\newww\\images\\test\\images\\acne-627-_jpg.rf.c2b0aa096b64a55bc2d1b0f916b307ba.jpg: 640x640 (no detections), 5.0ms\n",
            "image 268/404 E:\\Arul\\Edison\\newww\\images\\test\\images\\acne-628-_jpeg_jpg.rf.57c24c3a4c77dfae06004fe8b7b06721.jpg: 640x640 3 acnes, 4.9ms\n",
            "image 269/404 E:\\Arul\\Edison\\newww\\images\\test\\images\\acne-629-_jpeg_jpg.rf.9e6be77e82baf1b0f16d93c9e32183f6.jpg: 640x640 (no detections), 4.9ms\n",
            "image 270/404 E:\\Arul\\Edison\\newww\\images\\test\\images\\acne-636-_jpg.rf.7863219ba3fa2db3d02df443223ba2aa.jpg: 640x640 1 acne, 6.0ms\n",
            "image 271/404 E:\\Arul\\Edison\\newww\\images\\test\\images\\acne-639-_jpg.rf.fa96eeb7fc6694c040ee9a1ec63e45b7.jpg: 640x640 (no detections), 4.2ms\n",
            "image 272/404 E:\\Arul\\Edison\\newww\\images\\test\\images\\acne-65-_jpeg_jpg.rf.fb624485dc0f84b24de932c373f33e4e.jpg: 640x640 (no detections), 5.3ms\n",
            "image 273/404 E:\\Arul\\Edison\\newww\\images\\test\\images\\acne-651-_jpeg_jpg.rf.8d496a28a197b994cdecc6cb8727bc5d.jpg: 640x640 10 acnes, 5.7ms\n",
            "image 274/404 E:\\Arul\\Edison\\newww\\images\\test\\images\\acne-655-_jpg.rf.092c0091f82daf92e67b885c86d289fc.jpg: 640x640 2 dark circles, 5.2ms\n",
            "image 275/404 E:\\Arul\\Edison\\newww\\images\\test\\images\\acne-656-_jpeg_jpg.rf.6049312fe19cebb1db603536b359a8de.jpg: 640x640 3 acnes, 5.1ms\n",
            "image 276/404 E:\\Arul\\Edison\\newww\\images\\test\\images\\acne-659-_jpeg_jpg.rf.e753a920385d361b78923a7bd5821c46.jpg: 640x640 1 acne, 5.0ms\n",
            "image 277/404 E:\\Arul\\Edison\\newww\\images\\test\\images\\acne-660-_jpg.rf.7338021f64a3b58c0509e135e66386e6.jpg: 640x640 3 acnes, 4.5ms\n",
            "image 278/404 E:\\Arul\\Edison\\newww\\images\\test\\images\\acne-667-_jpeg_jpg.rf.cdbbeb33b7f2c13cea576c0b544f398c.jpg: 640x640 (no detections), 4.5ms\n",
            "image 279/404 E:\\Arul\\Edison\\newww\\images\\test\\images\\acne-672-_jpeg_jpg.rf.f77b786086f905e9e3f1e7c6c9874ab7.jpg: 640x640 3 acnes, 4.0ms\n",
            "image 280/404 E:\\Arul\\Edison\\newww\\images\\test\\images\\acne-674-_jpg.rf.4c148bd2c3d33d6631b9cdd441441ecf.jpg: 640x640 2 acnes, 1 dark circle, 4.0ms\n",
            "image 281/404 E:\\Arul\\Edison\\newww\\images\\test\\images\\acne-677-_jpeg_jpg.rf.da64572bdb4b5edca2ed5f62c7544ebf.jpg: 640x640 2 acnes, 5.9ms\n",
            "image 282/404 E:\\Arul\\Edison\\newww\\images\\test\\images\\acne-688-_jpeg_jpg.rf.93624a25c1ee8e01eec124fd08f12bbc.jpg: 640x640 3 acnes, 5.5ms\n",
            "image 283/404 E:\\Arul\\Edison\\newww\\images\\test\\images\\acne-693-_jpg.rf.8946a532bc4eae1b8e0b87588c963fb4.jpg: 640x640 (no detections), 5.3ms\n",
            "image 284/404 E:\\Arul\\Edison\\newww\\images\\test\\images\\acne-694-_jpg.rf.eecd7cde2109c4b268d0ff3bc2861da3.jpg: 640x640 1 acne, 4.5ms\n",
            "image 285/404 E:\\Arul\\Edison\\newww\\images\\test\\images\\acne-697-_jpeg_jpg.rf.4db934151346e7d4deaae74b105d8171.jpg: 640x640 4 acnes, 5.0ms\n",
            "image 286/404 E:\\Arul\\Edison\\newww\\images\\test\\images\\acne-702-_jpeg_jpg.rf.28e45b1668a72d5d12c612a843cd75d0.jpg: 640x640 1 acne, 5.0ms\n",
            "image 287/404 E:\\Arul\\Edison\\newww\\images\\test\\images\\acne-703-_jpeg_jpg.rf.f196c53307429bd5c8b6afc74021c165.jpg: 640x640 1 acne, 4.9ms\n",
            "image 288/404 E:\\Arul\\Edison\\newww\\images\\test\\images\\acne-706-_jpg.rf.a25b3ebce019ff814f2599e07e6a6ae4.jpg: 640x640 (no detections), 5.0ms\n",
            "image 289/404 E:\\Arul\\Edison\\newww\\images\\test\\images\\acne-708-_jpg.rf.97a75d29704bc8a8aaee643dd8ab4158.jpg: 640x640 1 acne, 1 oily, 5.6ms\n",
            "image 290/404 E:\\Arul\\Edison\\newww\\images\\test\\images\\acne-710-_jpg.rf.43d5d24045b84dcf23193e8392bd9bf0.jpg: 640x640 (no detections), 5.0ms\n",
            "image 291/404 E:\\Arul\\Edison\\newww\\images\\test\\images\\acne-714-_jpg.rf.f58e34489ea07531ce9ae385d6fb12d5.jpg: 640x640 (no detections), 5.0ms\n",
            "image 292/404 E:\\Arul\\Edison\\newww\\images\\test\\images\\acne-717-_jpg.rf.a3d42bf372658d4316c5f206089081b7.jpg: 640x640 (no detections), 4.8ms\n",
            "image 293/404 E:\\Arul\\Edison\\newww\\images\\test\\images\\acne-719-_jpg.rf.e2f226b80e84674a0f28a0949cf458ca.jpg: 640x640 1 skin redness, 4.9ms\n",
            "image 294/404 E:\\Arul\\Edison\\newww\\images\\test\\images\\acne-720-_jpg.rf.250bab5f59c7d8fd212a87d90aa31633.jpg: 640x640 2 acnes, 4.4ms\n",
            "image 295/404 E:\\Arul\\Edison\\newww\\images\\test\\images\\acne-725-_jpg.rf.c2051dc5b667cc07f2c4d92dd839a141.jpg: 640x640 (no detections), 5.0ms\n",
            "image 296/404 E:\\Arul\\Edison\\newww\\images\\test\\images\\acne-726-_jpg.rf.76d99ea633705a2f29fdaadc1e7a6f0c.jpg: 640x640 (no detections), 4.6ms\n",
            "image 297/404 E:\\Arul\\Edison\\newww\\images\\test\\images\\acne-729-_jpeg_jpg.rf.2bf471d02e9a68ee8626863a66b62d29.jpg: 640x640 (no detections), 5.2ms\n",
            "image 298/404 E:\\Arul\\Edison\\newww\\images\\test\\images\\acne-730-_jpeg_jpg.rf.0f89d152cd47757a8613ea83cbc588ab.jpg: 640x640 (no detections), 4.0ms\n",
            "image 299/404 E:\\Arul\\Edison\\newww\\images\\test\\images\\acne-731-_jpg.rf.f3dc1368b38912b05c1489fcb424afff.jpg: 640x640 1 acne, 4.5ms\n",
            "image 300/404 E:\\Arul\\Edison\\newww\\images\\test\\images\\acne-739-_jpeg_jpg.rf.e5c0e1936d0a21e699cb5f755abad369.jpg: 640x640 1 acne, 5.0ms\n",
            "image 301/404 E:\\Arul\\Edison\\newww\\images\\test\\images\\acne-756-_jpeg_jpg.rf.a0ea4ea378eeddf18bf3dd91647962a9.jpg: 640x640 (no detections), 10.5ms\n",
            "image 302/404 E:\\Arul\\Edison\\newww\\images\\test\\images\\acne-758-_jpg.rf.6dc8f11f16ae9ee8b6687d911d46d8ef.jpg: 640x640 (no detections), 5.0ms\n",
            "image 303/404 E:\\Arul\\Edison\\newww\\images\\test\\images\\acne-77-_jpeg_jpg.rf.265358dfff198664f9d28ee01092ab59.jpg: 640x640 6 acnes, 5.0ms\n",
            "image 304/404 E:\\Arul\\Edison\\newww\\images\\test\\images\\acne-77-_jpg.rf.2265570db1a1aac58fadd8383e312eb7.jpg: 640x640 1 acne, 5.4ms\n",
            "image 305/404 E:\\Arul\\Edison\\newww\\images\\test\\images\\acne-771-_jpg.rf.3ceaee1df8e2c5f25f93b702c213b89f.jpg: 640x640 4 acnes, 5.3ms\n",
            "image 306/404 E:\\Arul\\Edison\\newww\\images\\test\\images\\acne-775-_jpeg_jpg.rf.65fc64318408a94f8218247533bab0fb.jpg: 640x640 2 acnes, 4.8ms\n",
            "image 307/404 E:\\Arul\\Edison\\newww\\images\\test\\images\\acne-777-_jpg.rf.18557ae39feeae4739b210b16107386f.jpg: 640x640 3 acnes, 5.2ms\n",
            "image 308/404 E:\\Arul\\Edison\\newww\\images\\test\\images\\acne-782-_jpeg_jpg.rf.fd74b0d371b06058a5006c8c3b3fb42f.jpg: 640x640 6 acnes, 4.1ms\n",
            "image 309/404 E:\\Arul\\Edison\\newww\\images\\test\\images\\acne-786-_jpg.rf.e8f49275c20cc852a2d3ac1c8fa7c2bc.jpg: 640x640 5 acnes, 5.0ms\n",
            "image 310/404 E:\\Arul\\Edison\\newww\\images\\test\\images\\acne-792-_jpeg_jpg.rf.5df624d69d96972117ca2a8d0391168a.jpg: 640x640 3 acnes, 5.0ms\n",
            "image 311/404 E:\\Arul\\Edison\\newww\\images\\test\\images\\acne-795-_jpeg_jpg.rf.833bc67e155d5399d2839bfc9f740226.jpg: 640x640 1 acne, 4.2ms\n",
            "image 312/404 E:\\Arul\\Edison\\newww\\images\\test\\images\\acne-802-_jpg.rf.df3c6ae584d385698e6ed2410c8a92c0.jpg: 640x640 1 acne, 3 skin rednesss, 4.2ms\n",
            "image 313/404 E:\\Arul\\Edison\\newww\\images\\test\\images\\acne-826-_jpg.rf.ffb07087b31e3715493cf367ce391292.jpg: 640x640 2 acnes, 4.6ms\n",
            "image 314/404 E:\\Arul\\Edison\\newww\\images\\test\\images\\acne-827-_jpeg_jpg.rf.c707c275b7b1f526b9ad09ef808885cd.jpg: 640x640 (no detections), 4.0ms\n",
            "image 315/404 E:\\Arul\\Edison\\newww\\images\\test\\images\\acne-829-_jpeg_jpg.rf.024d9d93739ac860e03d88b077560776.jpg: 640x640 3 acnes, 4.2ms\n",
            "image 316/404 E:\\Arul\\Edison\\newww\\images\\test\\images\\acne-830-_jpeg_jpg.rf.f56641c98aaa61b6aaa21903c24963c9.jpg: 640x640 2 acnes, 4.4ms\n",
            "image 317/404 E:\\Arul\\Edison\\newww\\images\\test\\images\\acne-843-_jpeg_jpg.rf.1241c44ac984019f4789d795bfc08e2b.jpg: 640x640 (no detections), 3.7ms\n",
            "image 318/404 E:\\Arul\\Edison\\newww\\images\\test\\images\\acne-846-_jpeg_jpg.rf.34a241361a668280b555450fafea92b1.jpg: 640x640 (no detections), 4.1ms\n",
            "image 319/404 E:\\Arul\\Edison\\newww\\images\\test\\images\\acne-859-_jpeg_jpg.rf.da601aba31938979e3d9b1c9c670da64.jpg: 640x640 (no detections), 4.3ms\n",
            "image 320/404 E:\\Arul\\Edison\\newww\\images\\test\\images\\acne-864-_jpeg_jpg.rf.eb9a80909c67bea86d19b9a12f8b4ddc.jpg: 640x640 (no detections), 4.2ms\n",
            "image 321/404 E:\\Arul\\Edison\\newww\\images\\test\\images\\acne-877-_jpeg_jpg.rf.2c8d8ace1d34505695c00d2d826fc1a6.jpg: 640x640 1 acne, 4.1ms\n",
            "image 322/404 E:\\Arul\\Edison\\newww\\images\\test\\images\\acne-902-_jpeg_jpg.rf.c6f3f698267e6aa21f7de1b509c00b97.jpg: 640x640 8 acnes, 5.2ms\n",
            "image 323/404 E:\\Arul\\Edison\\newww\\images\\test\\images\\acne-906-_jpeg_jpg.rf.06b806b7dd0f930dab6ed3f6268cf5f1.jpg: 640x640 3 acnes, 4.7ms\n",
            "image 324/404 E:\\Arul\\Edison\\newww\\images\\test\\images\\acne-913-_jpeg_jpg.rf.7b96513672b5b952dcff1f6d427ff737.jpg: 640x640 6 acnes, 4.2ms\n",
            "image 325/404 E:\\Arul\\Edison\\newww\\images\\test\\images\\acne-931-_jpeg_jpg.rf.3fd982292ee833f7e66242a87ca508fd.jpg: 640x640 2 acnes, 4.4ms\n",
            "image 326/404 E:\\Arul\\Edison\\newww\\images\\test\\images\\acne-94-_jpg.rf.5d04a711dbea30f92362a1925fe3bf59.jpg: 640x640 1 acne, 5.1ms\n",
            "image 327/404 E:\\Arul\\Edison\\newww\\images\\test\\images\\acne-99-_jpeg_jpg.rf.9de03e95eeff05b5b2466a64087b9ef0.jpg: 640x640 3 acnes, 4.9ms\n",
            "image 328/404 E:\\Arul\\Edison\\newww\\images\\test\\images\\acne-prone-skin_147_jpeg_jpg.rf.442b4ee4942b00f21178cbd75c14f97d.jpg: 640x640 (no detections), 4.2ms\n",
            "image 329/404 E:\\Arul\\Edison\\newww\\images\\test\\images\\acne-prone-skin_199_jpeg_jpg.rf.068b1a68598e3f9803dba42a7479a46f.jpg: 640x640 1 acne, 4.0ms\n",
            "image 330/404 E:\\Arul\\Edison\\newww\\images\\test\\images\\berminyak-24_jpg.rf.153ddf1396d2976ab62608a602539a89.jpg: 640x640 (no detections), 4.5ms\n",
            "image 331/404 E:\\Arul\\Edison\\newww\\images\\test\\images\\berminyak-43_jpg.rf.b03b1c4b3e04f303df1ff8d77030baca.jpg: 640x640 1 dry, 4.2ms\n",
            "image 332/404 E:\\Arul\\Edison\\newww\\images\\test\\images\\berminyak__-11-_jpg.rf.e8498d018db78ab9312f80004d2a73a8.jpg: 640x640 3 oilys, 4.5ms\n",
            "image 333/404 E:\\Arul\\Edison\\newww\\images\\test\\images\\berminyak__-15-_jpg.rf.72c41c7185e193ce49aa5222c144875f.jpg: 640x640 1 dry, 4.0ms\n",
            "image 334/404 E:\\Arul\\Edison\\newww\\images\\test\\images\\berminyak__-25-_jpg.rf.e425c3f2b8edecf88b81407c0bf9bcde.jpg: 640x640 1 dark circle, 1 dry, 10.2ms\n",
            "image 335/404 E:\\Arul\\Edison\\newww\\images\\test\\images\\berminyak__-28-_jpg.rf.5ec4fbb77dabc0b06d84a0fde96bd18e.jpg: 640x640 (no detections), 5.7ms\n",
            "image 336/404 E:\\Arul\\Edison\\newww\\images\\test\\images\\berminyak__-30-_jpg.rf.bf9a3329caf9c7384b29fe8b7bbd6560.jpg: 640x640 1 skin redness, 5.4ms\n",
            "image 337/404 E:\\Arul\\Edison\\newww\\images\\test\\images\\berminyak__-32-_jpg.rf.5563143732409c3f5a7480aaaf0f7251.jpg: 640x640 1 acne, 5.1ms\n",
            "image 338/404 E:\\Arul\\Edison\\newww\\images\\test\\images\\berminyak__-46-_jpg.rf.d6dfa93a78bd67cd7520cc7165121f09.jpg: 640x640 1 oily, 5.0ms\n",
            "image 339/404 E:\\Arul\\Edison\\newww\\images\\test\\images\\berminyak__-47-_jpg.rf.bb58622272c4586e6ddea2b1800cdfe7.jpg: 640x640 1 oily, 6.1ms\n",
            "image 340/404 E:\\Arul\\Edison\\newww\\images\\test\\images\\berminyak__-60-_JPG_jpg.rf.6eb2af9022ca0b981211b1726be91def.jpg: 640x640 (no detections), 6.1ms\n",
            "image 341/404 E:\\Arul\\Edison\\newww\\images\\test\\images\\dry-122-_jpg.rf.e65573764d082e7a12d60287b20d3490.jpg: 640x640 (no detections), 5.1ms\n",
            "image 342/404 E:\\Arul\\Edison\\newww\\images\\test\\images\\dry-256-_jpg.rf.54c1a5f38271481912bd235e59f53eb9.jpg: 640x640 1 oily, 4.2ms\n",
            "image 343/404 E:\\Arul\\Edison\\newww\\images\\test\\images\\dry-skin_105_jpeg_jpg.rf.ff6ad3c38a5923a363b500a63b1f781b.jpg: 640x640 (no detections), 4.0ms\n",
            "image 344/404 E:\\Arul\\Edison\\newww\\images\\test\\images\\dry-skin_110_jpeg_jpg.rf.b1cd0e38516c6f29cff74653b5721ce5.jpg: 640x640 (no detections), 3.6ms\n",
            "image 345/404 E:\\Arul\\Edison\\newww\\images\\test\\images\\dry-skin_119_jpeg_jpg.rf.d671e911fb48cea445e3a2186b9f4417.jpg: 640x640 (no detections), 6.1ms\n",
            "image 346/404 E:\\Arul\\Edison\\newww\\images\\test\\images\\dry-skin_21_jpeg_jpg.rf.e276e11885ae14d33b91a55868327b4b.jpg: 640x640 (no detections), 4.5ms\n",
            "image 347/404 E:\\Arul\\Edison\\newww\\images\\test\\images\\dry-skin_38_jpeg_jpg.rf.f29d40b4e50648ae9d540d56bf889707.jpg: 640x640 (no detections), 4.2ms\n",
            "image 348/404 E:\\Arul\\Edison\\newww\\images\\test\\images\\dry-skin_43_jpeg_jpg.rf.23c7a5cedda0f9a399e724c29ec4ab37.jpg: 640x640 (no detections), 4.1ms\n",
            "image 349/404 E:\\Arul\\Edison\\newww\\images\\test\\images\\dry13_jpg.rf.168e66d71bcb4406adb9b88c85310874.jpg: 640x640 2 drys, 5.1ms\n",
            "image 350/404 E:\\Arul\\Edison\\newww\\images\\test\\images\\dry30_jpg.rf.0bbf4691d4c00649007036256235ad6a.jpg: 640x640 3 drys, 4.7ms\n",
            "image 351/404 E:\\Arul\\Edison\\newww\\images\\test\\images\\dry35_jpg.rf.cd44f8f73a979dbd16d736d26a0994ec.jpg: 640x640 2 drys, 4.1ms\n",
            "image 352/404 E:\\Arul\\Edison\\newww\\images\\test\\images\\dry9_jpg.rf.d2e7aa5deba3984278cff750ac50afef.jpg: 640x640 2 drys, 4.5ms\n",
            "image 353/404 E:\\Arul\\Edison\\newww\\images\\test\\images\\kering-1-_jpg.rf.a7863956d5df43a817cc503c83de3cf2.jpg: 640x640 (no detections), 4.1ms\n",
            "image 354/404 E:\\Arul\\Edison\\newww\\images\\test\\images\\kering-10-_jpg.rf.c82f73158c8409d4e1bb7d6a27a43a62.jpg: 640x640 2 drys, 4.0ms\n",
            "image 355/404 E:\\Arul\\Edison\\newww\\images\\test\\images\\kering-14-_jpg.rf.4aca8d410f2788b78ebdd5f7343d99ad.jpg: 640x640 2 drys, 5.1ms\n",
            "image 356/404 E:\\Arul\\Edison\\newww\\images\\test\\images\\kering-21-_jpg.rf.e9b350b7bc55275db37013e5101e50a9.jpg: 640x640 1 acne, 4.6ms\n",
            "image 357/404 E:\\Arul\\Edison\\newww\\images\\test\\images\\kering-22-_jpg.rf.c5c0c73d9df4886c7318a8c0ffd6498e.jpg: 640x640 1 dry, 7.2ms\n",
            "image 358/404 E:\\Arul\\Edison\\newww\\images\\test\\images\\kering-3-_jpg.rf.09f8392d5cf265b4822ceaa13522a9e5.jpg: 640x640 (no detections), 4.1ms\n",
            "image 359/404 E:\\Arul\\Edison\\newww\\images\\test\\images\\kering-39-_jpg.rf.73869bfd26e065b42a22a34f585733cc.jpg: 640x640 2 drys, 1 skin redness, 5.3ms\n",
            "image 360/404 E:\\Arul\\Edison\\newww\\images\\test\\images\\kering-41-_jpg.rf.bb1fbab304fbf5797dad1a9895b6a6f0.jpg: 640x640 (no detections), 4.6ms\n",
            "image 361/404 E:\\Arul\\Edison\\newww\\images\\test\\images\\kering-44-_jpg.rf.9c9c3936856f1c1fb9ac6f2c350f358c.jpg: 640x640 2 drys, 4.2ms\n",
            "image 362/404 E:\\Arul\\Edison\\newww\\images\\test\\images\\kering-9-_jpg.rf.8100ea09571c78934616a0108bb3dff7.jpg: 640x640 (no detections), 4.2ms\n",
            "image 363/404 E:\\Arul\\Edison\\newww\\images\\test\\images\\kering_-1-_jpg.rf.69e51f66ebf0bb99cd7cf33881a0d4c7.jpg: 640x640 1 dry, 4.6ms\n",
            "image 364/404 E:\\Arul\\Edison\\newww\\images\\test\\images\\kering_-124-_jpg.rf.db59c3643182716bd6f4784a30f14212.jpg: 640x640 4 drys, 4.5ms\n",
            "image 365/404 E:\\Arul\\Edison\\newww\\images\\test\\images\\kering_-125-_jpg.rf.af3441ee6dc2c1ca1413501e81c08bc3.jpg: 640x640 1 oily, 4.8ms\n",
            "image 366/404 E:\\Arul\\Edison\\newww\\images\\test\\images\\kering_-131-_jpg.rf.47382b07bfdbc48c6bb5771ed5daadfc.jpg: 640x640 (no detections), 5.1ms\n",
            "image 367/404 E:\\Arul\\Edison\\newww\\images\\test\\images\\kering_-135-_jpg.rf.515402ea000a9fcbc4e40ad409727a6a.jpg: 640x640 (no detections), 4.1ms\n",
            "image 368/404 E:\\Arul\\Edison\\newww\\images\\test\\images\\kering_-145-_jpg.rf.db771e709e08c4b65ce6d021f67ea1b5.jpg: 640x640 2 drys, 5.2ms\n",
            "image 369/404 E:\\Arul\\Edison\\newww\\images\\test\\images\\kering_-20-_jpg.rf.8ed961f361942c5422b1a6ae2bb2bce5.jpg: 640x640 1 dry, 3.6ms\n",
            "image 370/404 E:\\Arul\\Edison\\newww\\images\\test\\images\\kering_-27-_jpg.rf.593496f1f30e403a4116377b89dab362.jpg: 640x640 2 drys, 5.1ms\n",
            "image 371/404 E:\\Arul\\Edison\\newww\\images\\test\\images\\kering_-46-_jpg.rf.6e04fcc6462aa44e87880db6ef837351.jpg: 640x640 2 drys, 4.2ms\n",
            "image 372/404 E:\\Arul\\Edison\\newww\\images\\test\\images\\kering_-55-_jpg.rf.377ccee39227b404a9f20fa173f6cdf4.jpg: 640x640 (no detections), 5.0ms\n",
            "image 373/404 E:\\Arul\\Edison\\newww\\images\\test\\images\\kering_-59-_jpg.rf.ab35b57114a7f63954b99c7dea6c7cb7.jpg: 640x640 2 drys, 7.0ms\n",
            "image 374/404 E:\\Arul\\Edison\\newww\\images\\test\\images\\kering_-63-_jpg.rf.901aa382a369e5d220e497fcd496998f.jpg: 640x640 1 dark circle, 5.1ms\n",
            "image 375/404 E:\\Arul\\Edison\\newww\\images\\test\\images\\kering_-64-_jpg.rf.5efd500edb1501b8c4dc69833f78ad2d.jpg: 640x640 1 dark circle, 5.5ms\n",
            "image 376/404 E:\\Arul\\Edison\\newww\\images\\test\\images\\kering_-98-_jpg.rf.77e16841b94ef36905e3baf10cad321b.jpg: 640x640 1 dry, 5.0ms\n",
            "image 377/404 E:\\Arul\\Edison\\newww\\images\\test\\images\\kering__-106-_jpg.rf.65344566ef06310c038f7364c5dfddc3.jpg: 640x640 (no detections), 5.5ms\n",
            "image 378/404 E:\\Arul\\Edison\\newww\\images\\test\\images\\kering__-41-_jpg.rf.96c1e4d3fd9437639eaff1b70bc66614.jpg: 640x640 (no detections), 5.0ms\n",
            "image 379/404 E:\\Arul\\Edison\\newww\\images\\test\\images\\kering__-44-_jpg.rf.80be7832651c3562da50a6fa56a430a3.jpg: 640x640 (no detections), 5.1ms\n",
            "image 380/404 E:\\Arul\\Edison\\newww\\images\\test\\images\\kering__-48-_jpg.rf.0cc41bcbafa7d0db152a1ce09b72dc7f.jpg: 640x640 1 dry, 4.0ms\n",
            "image 381/404 E:\\Arul\\Edison\\newww\\images\\test\\images\\kering__-8-_JPG_jpg.rf.fda556d42745a8423286ffc12693ba4e.jpg: 640x640 2 drys, 4.0ms\n",
            "image 382/404 E:\\Arul\\Edison\\newww\\images\\test\\images\\kering__-95-_jpg.rf.7c2637102fa44d258f38eb6e92f11483.jpg: 640x640 2 drys, 4.0ms\n",
            "image 383/404 E:\\Arul\\Edison\\newww\\images\\test\\images\\oily-104-_jpg.rf.6666046f2de8ff2c3d959455c5733c2a.jpg: 640x640 (no detections), 4.1ms\n",
            "image 384/404 E:\\Arul\\Edison\\newww\\images\\test\\images\\oily-112-_jpg.rf.ae3c1cfbd8b9027d1967b2ace78552f5.jpg: 640x640 1 oily, 4.0ms\n",
            "image 385/404 E:\\Arul\\Edison\\newww\\images\\test\\images\\oily-130-_jpg.rf.66fa40896750512cb5421ae1c3761f86.jpg: 640x640 2 dark circles, 1 oily, 4.1ms\n",
            "image 386/404 E:\\Arul\\Edison\\newww\\images\\test\\images\\oily-132-_jpg.rf.f08c79f4f24ee2ab565743c0490d527b.jpg: 640x640 (no detections), 9.2ms\n",
            "image 387/404 E:\\Arul\\Edison\\newww\\images\\test\\images\\oily-139-_jpg.rf.079c86f8950d0b0dda35f4bce0bfcb82.jpg: 640x640 1 oily, 4.1ms\n",
            "image 388/404 E:\\Arul\\Edison\\newww\\images\\test\\images\\oily-150-_jpg.rf.8d8ba317fed2021d97e7cca3d4ac348f.jpg: 640x640 2 normal skins, 9.2ms\n",
            "image 389/404 E:\\Arul\\Edison\\newww\\images\\test\\images\\oily-158-_jpg.rf.2693f28b36d844414c5a279b29ab6168.jpg: 640x640 1 dry, 4.6ms\n",
            "image 390/404 E:\\Arul\\Edison\\newww\\images\\test\\images\\oily-248-_jpg.rf.ede7f288bfedc2d38293cea5d6dd87bf.jpg: 640x640 2 acnes, 5.4ms\n",
            "image 391/404 E:\\Arul\\Edison\\newww\\images\\test\\images\\oily-262-_jpg.rf.efa4698191cca8afeabdfd11c1a2ae89.jpg: 640x640 (no detections), 5.4ms\n",
            "image 392/404 E:\\Arul\\Edison\\newww\\images\\test\\images\\oily-31-_jpg.rf.4414b0c0ee16730a20ebd6a09778cc0f.jpg: 640x640 6 acnes, 4.2ms\n",
            "image 393/404 E:\\Arul\\Edison\\newww\\images\\test\\images\\oily-34-_jpg.rf.e415212c02a678d51bf259b1b833188a.jpg: 640x640 (no detections), 5.2ms\n",
            "image 394/404 E:\\Arul\\Edison\\newww\\images\\test\\images\\oily-42-_jpg.rf.2870b011f3479ae0821d1af495580a51.jpg: 640x640 1 acne, 6.6ms\n",
            "image 395/404 E:\\Arul\\Edison\\newww\\images\\test\\images\\oily-81-_jpg.rf.ae4f15b190713121551f7f1a6b69cf84.jpg: 640x640 8 oilys, 5.1ms\n",
            "image 396/404 E:\\Arul\\Edison\\newww\\images\\test\\images\\oily-skin_16_jpeg_jpg.rf.baa5ab6da5cec1b02eb1fc46602e644c.jpg: 640x640 10 oilys, 5.1ms\n",
            "image 397/404 E:\\Arul\\Edison\\newww\\images\\test\\images\\oily-skin_92_jpeg_jpg.rf.aaccdcd0afa46fd98338c44e556536f9.jpg: 640x640 1 oily, 1 pores, 5.1ms\n",
            "image 398/404 E:\\Arul\\Edison\\newww\\images\\test\\images\\oily12_jpg.rf.b6280defd696387797739c54f07abc54.jpg: 640x640 2 acnes, 5.1ms\n",
            "image 399/404 E:\\Arul\\Edison\\newww\\images\\test\\images\\oily26_jpg.rf.a5aae9fff59aaf5b0c2abcace623fc76.jpg: 640x640 2 drys, 4.1ms\n",
            "image 400/404 E:\\Arul\\Edison\\newww\\images\\test\\images\\oily30_jpg.rf.f7bf714fce618c872de0bdface894d1b.jpg: 640x640 1 oily, 5.2ms\n",
            "image 401/404 E:\\Arul\\Edison\\newww\\images\\test\\images\\oily32_jpg.rf.2e85a00449c00bd6f4e6b97d5e685298.jpg: 640x640 1 oily, 5.0ms\n",
            "image 402/404 E:\\Arul\\Edison\\newww\\images\\test\\images\\oily45_jpg.rf.d8bd396dd9ac657b998ab64a2ac571af.jpg: 640x640 1 oily, 4.5ms\n",
            "image 403/404 E:\\Arul\\Edison\\newww\\images\\test\\images\\oily46_jpg.rf.a6fdb6f21bbf2bb8e53d0c3b86e6bdf4.jpg: 640x640 3 oilys, 4.0ms\n",
            "image 404/404 E:\\Arul\\Edison\\newww\\images\\test\\images\\oily4_jpg.rf.eefae3b972b781fd6e204bc8bc1104ba.jpg: 640x640 2 oilys, 5.0ms\n",
            "Speed: 1.8ms preprocess, 5.3ms inference, 2.7ms postprocess per image at shape (1, 3, 640, 640)\n",
            "Results saved to \u001b[1mruns\\detect\\predict3\u001b[0m\n",
            "💡 Learn more at https://docs.ultralytics.com/modes/predict\n"
          ]
        },
        {
          "name": "stderr",
          "output_type": "stream",
          "text": [
            "C:\\Users\\arul\\AppData\\Local\\Programs\\Python\\Python311\\Lib\\site-packages\\ultralytics\\nn\\tasks.py:732: FutureWarning: You are using `torch.load` with `weights_only=False` (the current default value), which uses the default pickle module implicitly. It is possible to construct malicious pickle data which will execute arbitrary code during unpickling (See https://github.com/pytorch/pytorch/blob/main/SECURITY.md#untrusted-models for more details). In a future release, the default value for `weights_only` will be flipped to `True`. This limits the functions that could be executed during unpickling. Arbitrary objects will no longer be allowed to be loaded via this mode unless they are explicitly allowlisted by the user via `torch.serialization.add_safe_globals`. We recommend you start setting `weights_only=True` for any use case where you don't have full control of the loaded file. Please open an issue on GitHub for any issues related to this experimental feature.\n",
            "  ckpt = torch.load(file, map_location=\"cpu\")\n"
          ]
        }
      ],
      "source": [
        "!yolo task=detect mode=predict model='E:\\Arul\\Edison\\\\newww\\images\\\\best.pt' conf=0.25 source='E:\\Arul\\Edison\\\\newww\\images\\\\test\\images' save=True"
      ]
    },
    {
      "cell_type": "code",
      "execution_count": 11,
      "metadata": {},
      "outputs": [
        {
          "data": {
            "image/jpeg": "[encoded data removed]",
            "text/plain": [
              "<IPython.core.display.Image object>"
            ]
          },
          "metadata": {
            "image/jpeg": {
              "width": 600
            }
          },
          "output_type": "display_data"
        },
        {
          "name": "stdout",
          "output_type": "stream",
          "text": [
            "\n",
            "\n"
          ]
        },
        {
          "data": {
            "image/jpeg": "[encoded data removed]",
            "text/plain": [
              "<IPython.core.display.Image object>"
            ]
          },
          "metadata": {
            "image/jpeg": {
              "width": 600
            }
          },
          "output_type": "display_data"
        },
        {
          "name": "stdout",
          "output_type": "stream",
          "text": [
            "\n",
            "\n"
          ]
        },
        {
          "data": {
            "image/jpeg": "[encoded data removed]",
            "text/plain": [
              "<IPython.core.display.Image object>"
            ]
          },
          "metadata": {
            "image/jpeg": {
              "width": 600
            }
          },
          "output_type": "display_data"
        },
        {
          "name": "stdout",
          "output_type": "stream",
          "text": [
            "\n",
            "\n"
          ]
        }
      ],
      "source": [
        "import glob\n",
        "from IPython.display import Image, display\n",
        "\n",
        "for image_path in glob.glob(f'E:\\Arul\\Edison\\\\newww\\images\\\\runs\\detect\\predict3\\*.jpg')[:3]:\n",
        "      display(Image(filename=image_path, width=600))\n",
        "      print(\"\\n\")"
      ]
    }
  ],
  "metadata": {
    "accelerator": "TPU",
    "colab": {
      "gpuType": "V28",
      "provenance": []
    },
    "kernelspec": {
      "display_name": "Python 3",
      "name": "python3"
    },
    "language_info": {
      "codemirror_mode": {
        "name": "ipython",
        "version": 3
      },
      "file_extension": ".py",
      "mimetype": "text/x-python",
      "name": "python",
      "nbconvert_exporter": "python",
      "pygments_lexer": "ipython3",
      "version": "3.11.4"
    }
  },
  "nbformat": 4,
  "nbformat_minor": 0
}
